{
 "cells": [
  {
   "cell_type": "markdown",
   "metadata": {},
   "source": [
    "## 1) Import Packages"
   ]
  },
  {
   "cell_type": "code",
   "execution_count": 1,
   "metadata": {},
   "outputs": [],
   "source": [
    "#Refer Stu_Voice Day2 Classification\n",
    "import numpy as np\n",
    "%matplotlib inline\n",
    "import matplotlib.pyplot as plt\n",
    "import pandas as pd\n",
    "import os\n",
    "import seaborn as sns\n",
    "sns.set_style('whitegrid')\n",
    "import statsmodels.api as sm"
   ]
  },
  {
   "cell_type": "markdown",
   "metadata": {},
   "source": [
    "Mention about the 6 state indicators (3 components), approach1, source data refernce, approach2 below, "
   ]
  },
  {
   "cell_type": "markdown",
   "metadata": {},
   "source": [
    "## 2) Load Dataset"
   ]
  },
  {
   "cell_type": "code",
   "execution_count": 2,
   "metadata": {},
   "outputs": [],
   "source": [
    "\n",
    "ela1 = pd.read_csv(os.path.join('/Users/sesamuel/Documents/Proj3/StudentAnalytics/csv/ela38download2017f.csv'))                     \n",
    "math1 = pd.read_csv(os.path.join('/Users/sesamuel/Documents/Proj3/StudentAnalytics/csv/math38download2017f.csv'))                     "
   ]
  },
  {
   "cell_type": "code",
   "execution_count": 3,
   "metadata": {},
   "outputs": [
    {
     "data": {
      "text/plain": [
       "(121959, 25)"
      ]
     },
     "execution_count": 3,
     "metadata": {},
     "output_type": "execute_result"
    }
   ],
   "source": [
    "ela1.shape"
   ]
  },
  {
   "cell_type": "code",
   "execution_count": 4,
   "metadata": {},
   "outputs": [
    {
     "data": {
      "text/plain": [
       "(121910, 25)"
      ]
     },
     "execution_count": 4,
     "metadata": {},
     "output_type": "execute_result"
    }
   ],
   "source": [
    "math1.shape"
   ]
  },
  {
   "cell_type": "markdown",
   "metadata": {},
   "source": [
    "## 3) Data Preparation "
   ]
  },
  {
   "cell_type": "code",
   "execution_count": 5,
   "metadata": {},
   "outputs": [
    {
     "data": {
      "text/plain": [
       "Index(['cds', 'rtype', 'schoolname', 'districtname', 'countyname',\n",
       "       'charter_flag', 'coe_flag', 'studentgroup', 'currdenom', 'currstatus',\n",
       "       'priordenom', 'priorstatus', 'change', 'statuslevel', 'changelevel',\n",
       "       'color', 'box', 'caa_denom', 'caa_level1_num', 'caa_level1_pct',\n",
       "       'caa_level2_num', 'caa_level2_pct', 'caa_level3_num', 'caa_level3_pct',\n",
       "       'reportingyear'],\n",
       "      dtype='object')"
      ]
     },
     "execution_count": 5,
     "metadata": {},
     "output_type": "execute_result"
    }
   ],
   "source": [
    "ela1.columns"
   ]
  },
  {
   "cell_type": "code",
   "execution_count": 6,
   "metadata": {},
   "outputs": [
    {
     "data": {
      "text/plain": [
       "cds                 int64\n",
       "rtype              object\n",
       "schoolname         object\n",
       "districtname       object\n",
       "countyname         object\n",
       "charter_flag       object\n",
       "coe_flag          float64\n",
       "studentgroup       object\n",
       "currdenom           int64\n",
       "currstatus        float64\n",
       "priordenom          int64\n",
       "priorstatus       float64\n",
       "change            float64\n",
       "statuslevel         int64\n",
       "changelevel         int64\n",
       "color               int64\n",
       "box                 int64\n",
       "caa_denom         float64\n",
       "caa_level1_num    float64\n",
       "caa_level1_pct    float64\n",
       "caa_level2_num    float64\n",
       "caa_level2_pct    float64\n",
       "caa_level3_num    float64\n",
       "caa_level3_pct    float64\n",
       "reportingyear      object\n",
       "dtype: object"
      ]
     },
     "execution_count": 6,
     "metadata": {},
     "output_type": "execute_result"
    }
   ],
   "source": [
    "ela1.dtypes"
   ]
  },
  {
   "cell_type": "code",
   "execution_count": 7,
   "metadata": {},
   "outputs": [
    {
     "data": {
      "text/plain": [
       "Index(['cds', 'rtype', 'schoolname', 'districtname', 'countyname',\n",
       "       'charter_flag', 'coe_flag', 'studentgroup', 'currdenom', 'currstatus',\n",
       "       'priordenom', 'priorstatus', 'change', 'statuslevel', 'changelevel',\n",
       "       'color', 'box', 'caa_denom', 'caa_level1_num', 'caa_level1_pct',\n",
       "       'caa_level2_num', 'caa_level2_pct', 'caa_level3_num', 'caa_level3_pct',\n",
       "       'reportingyear'],\n",
       "      dtype='object')"
      ]
     },
     "execution_count": 7,
     "metadata": {},
     "output_type": "execute_result"
    }
   ],
   "source": [
    "math1.columns"
   ]
  },
  {
   "cell_type": "code",
   "execution_count": 8,
   "metadata": {
    "scrolled": true
   },
   "outputs": [
    {
     "data": {
      "text/html": [
       "<div>\n",
       "<style scoped>\n",
       "    .dataframe tbody tr th:only-of-type {\n",
       "        vertical-align: middle;\n",
       "    }\n",
       "\n",
       "    .dataframe tbody tr th {\n",
       "        vertical-align: top;\n",
       "    }\n",
       "\n",
       "    .dataframe thead th {\n",
       "        text-align: right;\n",
       "    }\n",
       "</style>\n",
       "<table border=\"1\" class=\"dataframe\">\n",
       "  <thead>\n",
       "    <tr style=\"text-align: right;\">\n",
       "      <th></th>\n",
       "      <th>cds</th>\n",
       "      <th>rtype_x</th>\n",
       "      <th>schoolname_x</th>\n",
       "      <th>districtname_x</th>\n",
       "      <th>countyname_x</th>\n",
       "      <th>charter_flag_x</th>\n",
       "      <th>coe_flag_x</th>\n",
       "      <th>studentgroup_x</th>\n",
       "      <th>currdenom_x</th>\n",
       "      <th>currstatus_x</th>\n",
       "      <th>...</th>\n",
       "      <th>color_y</th>\n",
       "      <th>box_y</th>\n",
       "      <th>caa_denom_y</th>\n",
       "      <th>caa_level1_num_y</th>\n",
       "      <th>caa_level1_pct_y</th>\n",
       "      <th>caa_level2_num_y</th>\n",
       "      <th>caa_level2_pct_y</th>\n",
       "      <th>caa_level3_num_y</th>\n",
       "      <th>caa_level3_pct_y</th>\n",
       "      <th>reportingyear_y</th>\n",
       "    </tr>\n",
       "  </thead>\n",
       "  <tbody>\n",
       "    <tr>\n",
       "      <th>0</th>\n",
       "      <td>1100170123968</td>\n",
       "      <td>S</td>\n",
       "      <td>Community School for Creative Education</td>\n",
       "      <td>Alameda County Office of Education</td>\n",
       "      <td>Alameda</td>\n",
       "      <td>Y</td>\n",
       "      <td>NaN</td>\n",
       "      <td>AA</td>\n",
       "      <td>12</td>\n",
       "      <td>-131.2</td>\n",
       "      <td>...</td>\n",
       "      <td>0</td>\n",
       "      <td>0</td>\n",
       "      <td>NaN</td>\n",
       "      <td>NaN</td>\n",
       "      <td>NaN</td>\n",
       "      <td>NaN</td>\n",
       "      <td>NaN</td>\n",
       "      <td>NaN</td>\n",
       "      <td>NaN</td>\n",
       "      <td>2017f</td>\n",
       "    </tr>\n",
       "    <tr>\n",
       "      <th>1</th>\n",
       "      <td>1100170123968</td>\n",
       "      <td>S</td>\n",
       "      <td>Community School for Creative Education</td>\n",
       "      <td>Alameda County Office of Education</td>\n",
       "      <td>Alameda</td>\n",
       "      <td>Y</td>\n",
       "      <td>NaN</td>\n",
       "      <td>AA</td>\n",
       "      <td>12</td>\n",
       "      <td>-131.2</td>\n",
       "      <td>...</td>\n",
       "      <td>0</td>\n",
       "      <td>0</td>\n",
       "      <td>NaN</td>\n",
       "      <td>NaN</td>\n",
       "      <td>NaN</td>\n",
       "      <td>NaN</td>\n",
       "      <td>NaN</td>\n",
       "      <td>NaN</td>\n",
       "      <td>NaN</td>\n",
       "      <td>2017f</td>\n",
       "    </tr>\n",
       "    <tr>\n",
       "      <th>2</th>\n",
       "      <td>1100170123968</td>\n",
       "      <td>S</td>\n",
       "      <td>Community School for Creative Education</td>\n",
       "      <td>Alameda County Office of Education</td>\n",
       "      <td>Alameda</td>\n",
       "      <td>Y</td>\n",
       "      <td>NaN</td>\n",
       "      <td>AA</td>\n",
       "      <td>12</td>\n",
       "      <td>-131.2</td>\n",
       "      <td>...</td>\n",
       "      <td>2</td>\n",
       "      <td>180</td>\n",
       "      <td>0.0</td>\n",
       "      <td>NaN</td>\n",
       "      <td>NaN</td>\n",
       "      <td>NaN</td>\n",
       "      <td>NaN</td>\n",
       "      <td>NaN</td>\n",
       "      <td>NaN</td>\n",
       "      <td>2017f</td>\n",
       "    </tr>\n",
       "    <tr>\n",
       "      <th>3</th>\n",
       "      <td>1100170123968</td>\n",
       "      <td>S</td>\n",
       "      <td>Community School for Creative Education</td>\n",
       "      <td>Alameda County Office of Education</td>\n",
       "      <td>Alameda</td>\n",
       "      <td>Y</td>\n",
       "      <td>NaN</td>\n",
       "      <td>AA</td>\n",
       "      <td>12</td>\n",
       "      <td>-131.2</td>\n",
       "      <td>...</td>\n",
       "      <td>0</td>\n",
       "      <td>0</td>\n",
       "      <td>NaN</td>\n",
       "      <td>NaN</td>\n",
       "      <td>NaN</td>\n",
       "      <td>NaN</td>\n",
       "      <td>NaN</td>\n",
       "      <td>NaN</td>\n",
       "      <td>NaN</td>\n",
       "      <td>2017f</td>\n",
       "    </tr>\n",
       "    <tr>\n",
       "      <th>4</th>\n",
       "      <td>1100170123968</td>\n",
       "      <td>S</td>\n",
       "      <td>Community School for Creative Education</td>\n",
       "      <td>Alameda County Office of Education</td>\n",
       "      <td>Alameda</td>\n",
       "      <td>Y</td>\n",
       "      <td>NaN</td>\n",
       "      <td>AA</td>\n",
       "      <td>12</td>\n",
       "      <td>-131.2</td>\n",
       "      <td>...</td>\n",
       "      <td>3</td>\n",
       "      <td>200</td>\n",
       "      <td>NaN</td>\n",
       "      <td>NaN</td>\n",
       "      <td>NaN</td>\n",
       "      <td>NaN</td>\n",
       "      <td>NaN</td>\n",
       "      <td>NaN</td>\n",
       "      <td>NaN</td>\n",
       "      <td>2017f</td>\n",
       "    </tr>\n",
       "  </tbody>\n",
       "</table>\n",
       "<p>5 rows × 49 columns</p>\n",
       "</div>"
      ],
      "text/plain": [
       "             cds rtype_x                             schoolname_x  \\\n",
       "0  1100170123968       S  Community School for Creative Education   \n",
       "1  1100170123968       S  Community School for Creative Education   \n",
       "2  1100170123968       S  Community School for Creative Education   \n",
       "3  1100170123968       S  Community School for Creative Education   \n",
       "4  1100170123968       S  Community School for Creative Education   \n",
       "\n",
       "                       districtname_x countyname_x charter_flag_x  coe_flag_x  \\\n",
       "0  Alameda County Office of Education      Alameda              Y         NaN   \n",
       "1  Alameda County Office of Education      Alameda              Y         NaN   \n",
       "2  Alameda County Office of Education      Alameda              Y         NaN   \n",
       "3  Alameda County Office of Education      Alameda              Y         NaN   \n",
       "4  Alameda County Office of Education      Alameda              Y         NaN   \n",
       "\n",
       "  studentgroup_x  currdenom_x  currstatus_x       ...         color_y  box_y  \\\n",
       "0             AA           12        -131.2       ...               0      0   \n",
       "1             AA           12        -131.2       ...               0      0   \n",
       "2             AA           12        -131.2       ...               2    180   \n",
       "3             AA           12        -131.2       ...               0      0   \n",
       "4             AA           12        -131.2       ...               3    200   \n",
       "\n",
       "   caa_denom_y  caa_level1_num_y  caa_level1_pct_y  caa_level2_num_y  \\\n",
       "0          NaN               NaN               NaN               NaN   \n",
       "1          NaN               NaN               NaN               NaN   \n",
       "2          0.0               NaN               NaN               NaN   \n",
       "3          NaN               NaN               NaN               NaN   \n",
       "4          NaN               NaN               NaN               NaN   \n",
       "\n",
       "   caa_level2_pct_y  caa_level3_num_y  caa_level3_pct_y  reportingyear_y  \n",
       "0               NaN               NaN               NaN            2017f  \n",
       "1               NaN               NaN               NaN            2017f  \n",
       "2               NaN               NaN               NaN            2017f  \n",
       "3               NaN               NaN               NaN            2017f  \n",
       "4               NaN               NaN               NaN            2017f  \n",
       "\n",
       "[5 rows x 49 columns]"
      ]
     },
     "execution_count": 8,
     "metadata": {},
     "output_type": "execute_result"
    }
   ],
   "source": [
    " # Merge the two DataFrames together based on the cds they share\n",
    "acadperft = pd.merge(ela1, math1, on=\"cds\")\n",
    "acadperft.head()"
   ]
  },
  {
   "cell_type": "code",
   "execution_count": 9,
   "metadata": {},
   "outputs": [
    {
     "data": {
      "text/plain": [
       "(1805242, 49)"
      ]
     },
     "execution_count": 9,
     "metadata": {},
     "output_type": "execute_result"
    }
   ],
   "source": [
    "acadperft.shape"
   ]
  },
  {
   "cell_type": "code",
   "execution_count": 10,
   "metadata": {},
   "outputs": [
    {
     "data": {
      "text/plain": [
       "(1805255, 49)"
      ]
     },
     "execution_count": 10,
     "metadata": {},
     "output_type": "execute_result"
    }
   ],
   "source": [
    " # TEST Left Merge the two DataFrames together based on the cds they share\n",
    "acadperftl = pd.merge(ela1, math1, on=\"cds\", how='left')\n",
    "acadperftl.shape"
   ]
  },
  {
   "cell_type": "code",
   "execution_count": 11,
   "metadata": {},
   "outputs": [
    {
     "data": {
      "text/plain": [
       "(1805250, 49)"
      ]
     },
     "execution_count": 11,
     "metadata": {},
     "output_type": "execute_result"
    }
   ],
   "source": [
    " # TEST RIGHT Merge the two DataFrames together based on the cds they share\n",
    "acadperftr = pd.merge(ela1, math1, on=\"cds\", how='right')\n",
    "acadperftr.shape"
   ]
  },
  {
   "cell_type": "code",
   "execution_count": 12,
   "metadata": {},
   "outputs": [
    {
     "data": {
      "text/plain": [
       "(1805263, 49)"
      ]
     },
     "execution_count": 12,
     "metadata": {},
     "output_type": "execute_result"
    }
   ],
   "source": [
    " # TEST OUTER Merge the two DataFrames together based on the cds they share\n",
    "acadperfto = pd.merge(ela1, math1, on=\"cds\", how='outer')\n",
    "acadperfto.shape"
   ]
  },
  {
   "cell_type": "code",
   "execution_count": 13,
   "metadata": {},
   "outputs": [
    {
     "data": {
      "text/html": [
       "<div>\n",
       "<style scoped>\n",
       "    .dataframe tbody tr th:only-of-type {\n",
       "        vertical-align: middle;\n",
       "    }\n",
       "\n",
       "    .dataframe tbody tr th {\n",
       "        vertical-align: top;\n",
       "    }\n",
       "\n",
       "    .dataframe thead th {\n",
       "        text-align: right;\n",
       "    }\n",
       "</style>\n",
       "<table border=\"1\" class=\"dataframe\">\n",
       "  <thead>\n",
       "    <tr style=\"text-align: right;\">\n",
       "      <th></th>\n",
       "      <th>cds</th>\n",
       "      <th>schoolname_x</th>\n",
       "      <th>districtname_x</th>\n",
       "      <th>countyname_x</th>\n",
       "      <th>studentgroup_x</th>\n",
       "      <th>statuslevel_x</th>\n",
       "      <th>changelevel_x</th>\n",
       "      <th>color_x</th>\n",
       "      <th>box_x</th>\n",
       "      <th>reportingyear_x</th>\n",
       "      <th>schoolname_y</th>\n",
       "      <th>districtname_y</th>\n",
       "      <th>countyname_y</th>\n",
       "      <th>studentgroup_y</th>\n",
       "      <th>statuslevel_y</th>\n",
       "      <th>changelevel_y</th>\n",
       "      <th>color_y</th>\n",
       "      <th>box_y</th>\n",
       "      <th>reportingyear_y</th>\n",
       "    </tr>\n",
       "  </thead>\n",
       "  <tbody>\n",
       "    <tr>\n",
       "      <th>0</th>\n",
       "      <td>1100170123968</td>\n",
       "      <td>Community School for Creative Education</td>\n",
       "      <td>Alameda County Office of Education</td>\n",
       "      <td>Alameda</td>\n",
       "      <td>AA</td>\n",
       "      <td>1</td>\n",
       "      <td>1</td>\n",
       "      <td>0</td>\n",
       "      <td>0</td>\n",
       "      <td>2017f</td>\n",
       "      <td>Community School for Creative Education</td>\n",
       "      <td>Alameda County Office of Education</td>\n",
       "      <td>Alameda</td>\n",
       "      <td>AA</td>\n",
       "      <td>2</td>\n",
       "      <td>5</td>\n",
       "      <td>0</td>\n",
       "      <td>0</td>\n",
       "      <td>2017f</td>\n",
       "    </tr>\n",
       "    <tr>\n",
       "      <th>1</th>\n",
       "      <td>1100170123968</td>\n",
       "      <td>Community School for Creative Education</td>\n",
       "      <td>Alameda County Office of Education</td>\n",
       "      <td>Alameda</td>\n",
       "      <td>AA</td>\n",
       "      <td>1</td>\n",
       "      <td>1</td>\n",
       "      <td>0</td>\n",
       "      <td>0</td>\n",
       "      <td>2017f</td>\n",
       "      <td>Community School for Creative Education</td>\n",
       "      <td>Alameda County Office of Education</td>\n",
       "      <td>Alameda</td>\n",
       "      <td>AI</td>\n",
       "      <td>0</td>\n",
       "      <td>0</td>\n",
       "      <td>0</td>\n",
       "      <td>0</td>\n",
       "      <td>2017f</td>\n",
       "    </tr>\n",
       "    <tr>\n",
       "      <th>2</th>\n",
       "      <td>1100170123968</td>\n",
       "      <td>Community School for Creative Education</td>\n",
       "      <td>Alameda County Office of Education</td>\n",
       "      <td>Alameda</td>\n",
       "      <td>AA</td>\n",
       "      <td>1</td>\n",
       "      <td>1</td>\n",
       "      <td>0</td>\n",
       "      <td>0</td>\n",
       "      <td>2017f</td>\n",
       "      <td>Community School for Creative Education</td>\n",
       "      <td>Alameda County Office of Education</td>\n",
       "      <td>Alameda</td>\n",
       "      <td>ALL</td>\n",
       "      <td>2</td>\n",
       "      <td>3</td>\n",
       "      <td>2</td>\n",
       "      <td>180</td>\n",
       "      <td>2017f</td>\n",
       "    </tr>\n",
       "    <tr>\n",
       "      <th>3</th>\n",
       "      <td>1100170123968</td>\n",
       "      <td>Community School for Creative Education</td>\n",
       "      <td>Alameda County Office of Education</td>\n",
       "      <td>Alameda</td>\n",
       "      <td>AA</td>\n",
       "      <td>1</td>\n",
       "      <td>1</td>\n",
       "      <td>0</td>\n",
       "      <td>0</td>\n",
       "      <td>2017f</td>\n",
       "      <td>Community School for Creative Education</td>\n",
       "      <td>Alameda County Office of Education</td>\n",
       "      <td>Alameda</td>\n",
       "      <td>AS</td>\n",
       "      <td>0</td>\n",
       "      <td>0</td>\n",
       "      <td>0</td>\n",
       "      <td>0</td>\n",
       "      <td>2017f</td>\n",
       "    </tr>\n",
       "    <tr>\n",
       "      <th>4</th>\n",
       "      <td>1100170123968</td>\n",
       "      <td>Community School for Creative Education</td>\n",
       "      <td>Alameda County Office of Education</td>\n",
       "      <td>Alameda</td>\n",
       "      <td>AA</td>\n",
       "      <td>1</td>\n",
       "      <td>1</td>\n",
       "      <td>0</td>\n",
       "      <td>0</td>\n",
       "      <td>2017f</td>\n",
       "      <td>Community School for Creative Education</td>\n",
       "      <td>Alameda County Office of Education</td>\n",
       "      <td>Alameda</td>\n",
       "      <td>EL</td>\n",
       "      <td>2</td>\n",
       "      <td>5</td>\n",
       "      <td>3</td>\n",
       "      <td>200</td>\n",
       "      <td>2017f</td>\n",
       "    </tr>\n",
       "  </tbody>\n",
       "</table>\n",
       "</div>"
      ],
      "text/plain": [
       "             cds                             schoolname_x  \\\n",
       "0  1100170123968  Community School for Creative Education   \n",
       "1  1100170123968  Community School for Creative Education   \n",
       "2  1100170123968  Community School for Creative Education   \n",
       "3  1100170123968  Community School for Creative Education   \n",
       "4  1100170123968  Community School for Creative Education   \n",
       "\n",
       "                       districtname_x countyname_x studentgroup_x  \\\n",
       "0  Alameda County Office of Education      Alameda             AA   \n",
       "1  Alameda County Office of Education      Alameda             AA   \n",
       "2  Alameda County Office of Education      Alameda             AA   \n",
       "3  Alameda County Office of Education      Alameda             AA   \n",
       "4  Alameda County Office of Education      Alameda             AA   \n",
       "\n",
       "   statuslevel_x  changelevel_x  color_x  box_x reportingyear_x  \\\n",
       "0              1              1        0      0           2017f   \n",
       "1              1              1        0      0           2017f   \n",
       "2              1              1        0      0           2017f   \n",
       "3              1              1        0      0           2017f   \n",
       "4              1              1        0      0           2017f   \n",
       "\n",
       "                              schoolname_y  \\\n",
       "0  Community School for Creative Education   \n",
       "1  Community School for Creative Education   \n",
       "2  Community School for Creative Education   \n",
       "3  Community School for Creative Education   \n",
       "4  Community School for Creative Education   \n",
       "\n",
       "                       districtname_y countyname_y studentgroup_y  \\\n",
       "0  Alameda County Office of Education      Alameda             AA   \n",
       "1  Alameda County Office of Education      Alameda             AI   \n",
       "2  Alameda County Office of Education      Alameda            ALL   \n",
       "3  Alameda County Office of Education      Alameda             AS   \n",
       "4  Alameda County Office of Education      Alameda             EL   \n",
       "\n",
       "   statuslevel_y  changelevel_y  color_y  box_y reportingyear_y  \n",
       "0              2              5        0      0           2017f  \n",
       "1              0              0        0      0           2017f  \n",
       "2              2              3        2    180           2017f  \n",
       "3              0              0        0      0           2017f  \n",
       "4              2              5        3    200           2017f  "
      ]
     },
     "execution_count": 13,
     "metadata": {},
     "output_type": "execute_result"
    }
   ],
   "source": [
    "# Extract \n",
    "acadperfte_df = acadperft.loc[:, [\"cds\", \"schoolname_x\", \"districtname_x\",\"countyname_x\",\"studentgroup_x\",\n",
    "                 \"statuslevel_x\",\"changelevel_x\", \"color_x\", \"box_x\", \"reportingyear_x\",\n",
    "\"schoolname_y\", \"districtname_y\",\"countyname_y\",\"studentgroup_y\",\n",
    "                 \"statuslevel_y\",\"changelevel_y\", \"color_y\", \"box_y\", \"reportingyear_y\"]]\n",
    "acadperfte_df.head()"
   ]
  },
  {
   "cell_type": "code",
   "execution_count": 14,
   "metadata": {},
   "outputs": [
    {
     "data": {
      "text/plain": [
       "Index(['cds', 'ELA_Schoolname', 'ELA_Districtname', 'ELA_Countyname',\n",
       "       'ELA_Studentgroup', 'ELA_Statuslevel', 'ELA_Changelevel', 'ELA_Color',\n",
       "       'ELA_Box', 'ELA_Reportingyear', 'MATH_Schoolname', 'MATH_Districtname',\n",
       "       'MATH_Countyname', 'MATH_Studentgroup', 'MATH_Statuslevel',\n",
       "       'MATH_Changelevel', 'MATH_Color', 'MATH_Box', 'MATH_Reportingyear'],\n",
       "      dtype='object')"
      ]
     },
     "execution_count": 14,
     "metadata": {},
     "output_type": "execute_result"
    }
   ],
   "source": [
    "# Rename columns so that they are differentiated\n",
    "acadperfte_df= acadperfte_df.rename(columns={\"schoolname_x\": \"ELA_Schoolname\", \"districtname_x\": \"ELA_Districtname\", \"countyname_x\": \"ELA_Countyname\",\n",
    "            \"studentgroup_x\": \"ELA_Studentgroup\", \"statuslevel_x\": \"ELA_Statuslevel\", \"changelevel_x\": \"ELA_Changelevel\",\n",
    "            \"color_x\": \"ELA_Color\", \"box_x\": \"ELA_Box\", \"reportingyear_x\": \"ELA_Reportingyear\"})\n",
    "\n",
    "acadperfte_df = acadperfte_df.rename(columns={\"schoolname_y\": \"MATH_Schoolname\", \"districtname_y\": \"MATH_Districtname\", \"countyname_y\": \"MATH_Countyname\",\n",
    "            \"studentgroup_y\": \"MATH_Studentgroup\", \"statuslevel_y\": \"MATH_Statuslevel\", \"changelevel_y\": \"MATH_Changelevel\",\n",
    "            \"color_y\": \"MATH_Color\", \"box_y\": \"MATH_Box\", \"reportingyear_y\": \"MATH_Reportingyear\"})\n",
    "\n",
    "acadperfte_df.columns"
   ]
  },
  {
   "cell_type": "code",
   "execution_count": 15,
   "metadata": {},
   "outputs": [
    {
     "data": {
      "text/plain": [
       "cds                    int64\n",
       "ELA_Schoolname        object\n",
       "ELA_Districtname      object\n",
       "ELA_Countyname        object\n",
       "ELA_Studentgroup      object\n",
       "ELA_Statuslevel        int64\n",
       "ELA_Changelevel        int64\n",
       "ELA_Color              int64\n",
       "ELA_Box                int64\n",
       "ELA_Reportingyear     object\n",
       "MATH_Schoolname       object\n",
       "MATH_Districtname     object\n",
       "MATH_Countyname       object\n",
       "MATH_Studentgroup     object\n",
       "MATH_Statuslevel       int64\n",
       "MATH_Changelevel       int64\n",
       "MATH_Color             int64\n",
       "MATH_Box               int64\n",
       "MATH_Reportingyear    object\n",
       "dtype: object"
      ]
     },
     "execution_count": 15,
     "metadata": {},
     "output_type": "execute_result"
    }
   ],
   "source": [
    "acadperfte_df.dtypes"
   ]
  },
  {
   "cell_type": "markdown",
   "metadata": {},
   "source": [
    "## 4) Create a performance label"
   ]
  },
  {
   "cell_type": "code",
   "execution_count": 16,
   "metadata": {
    "scrolled": true
   },
   "outputs": [
    {
     "data": {
      "text/html": [
       "<div>\n",
       "<style scoped>\n",
       "    .dataframe tbody tr th:only-of-type {\n",
       "        vertical-align: middle;\n",
       "    }\n",
       "\n",
       "    .dataframe tbody tr th {\n",
       "        vertical-align: top;\n",
       "    }\n",
       "\n",
       "    .dataframe thead th {\n",
       "        text-align: right;\n",
       "    }\n",
       "</style>\n",
       "<table border=\"1\" class=\"dataframe\">\n",
       "  <thead>\n",
       "    <tr style=\"text-align: right;\">\n",
       "      <th></th>\n",
       "      <th>cds</th>\n",
       "      <th>ELA_Schoolname</th>\n",
       "      <th>ELA_Districtname</th>\n",
       "      <th>ELA_Countyname</th>\n",
       "      <th>ELA_Studentgroup</th>\n",
       "      <th>ELA_Statuslevel</th>\n",
       "      <th>ELA_Changelevel</th>\n",
       "      <th>ELA_Color</th>\n",
       "      <th>ELA_Box</th>\n",
       "      <th>ELA_Reportingyear</th>\n",
       "      <th>MATH_Schoolname</th>\n",
       "      <th>MATH_Districtname</th>\n",
       "      <th>MATH_Countyname</th>\n",
       "      <th>MATH_Studentgroup</th>\n",
       "      <th>MATH_Statuslevel</th>\n",
       "      <th>MATH_Changelevel</th>\n",
       "      <th>MATH_Color</th>\n",
       "      <th>MATH_Box</th>\n",
       "      <th>MATH_Reportingyear</th>\n",
       "      <th>perf</th>\n",
       "    </tr>\n",
       "  </thead>\n",
       "  <tbody>\n",
       "    <tr>\n",
       "      <th>0</th>\n",
       "      <td>1100170123968</td>\n",
       "      <td>Community School for Creative Education</td>\n",
       "      <td>Alameda County Office of Education</td>\n",
       "      <td>Alameda</td>\n",
       "      <td>AA</td>\n",
       "      <td>1</td>\n",
       "      <td>1</td>\n",
       "      <td>0</td>\n",
       "      <td>0</td>\n",
       "      <td>2017f</td>\n",
       "      <td>Community School for Creative Education</td>\n",
       "      <td>Alameda County Office of Education</td>\n",
       "      <td>Alameda</td>\n",
       "      <td>AA</td>\n",
       "      <td>2</td>\n",
       "      <td>5</td>\n",
       "      <td>0</td>\n",
       "      <td>0</td>\n",
       "      <td>2017f</td>\n",
       "      <td>Low</td>\n",
       "    </tr>\n",
       "    <tr>\n",
       "      <th>1</th>\n",
       "      <td>1100170123968</td>\n",
       "      <td>Community School for Creative Education</td>\n",
       "      <td>Alameda County Office of Education</td>\n",
       "      <td>Alameda</td>\n",
       "      <td>AA</td>\n",
       "      <td>1</td>\n",
       "      <td>1</td>\n",
       "      <td>0</td>\n",
       "      <td>0</td>\n",
       "      <td>2017f</td>\n",
       "      <td>Community School for Creative Education</td>\n",
       "      <td>Alameda County Office of Education</td>\n",
       "      <td>Alameda</td>\n",
       "      <td>AI</td>\n",
       "      <td>0</td>\n",
       "      <td>0</td>\n",
       "      <td>0</td>\n",
       "      <td>0</td>\n",
       "      <td>2017f</td>\n",
       "      <td>Low</td>\n",
       "    </tr>\n",
       "  </tbody>\n",
       "</table>\n",
       "</div>"
      ],
      "text/plain": [
       "             cds                           ELA_Schoolname  \\\n",
       "0  1100170123968  Community School for Creative Education   \n",
       "1  1100170123968  Community School for Creative Education   \n",
       "\n",
       "                     ELA_Districtname ELA_Countyname ELA_Studentgroup  \\\n",
       "0  Alameda County Office of Education        Alameda               AA   \n",
       "1  Alameda County Office of Education        Alameda               AA   \n",
       "\n",
       "   ELA_Statuslevel  ELA_Changelevel  ELA_Color  ELA_Box ELA_Reportingyear  \\\n",
       "0                1                1          0        0             2017f   \n",
       "1                1                1          0        0             2017f   \n",
       "\n",
       "                           MATH_Schoolname  \\\n",
       "0  Community School for Creative Education   \n",
       "1  Community School for Creative Education   \n",
       "\n",
       "                    MATH_Districtname MATH_Countyname MATH_Studentgroup  \\\n",
       "0  Alameda County Office of Education         Alameda                AA   \n",
       "1  Alameda County Office of Education         Alameda                AI   \n",
       "\n",
       "   MATH_Statuslevel  MATH_Changelevel  MATH_Color  MATH_Box  \\\n",
       "0                 2                 5           0         0   \n",
       "1                 0                 0           0         0   \n",
       "\n",
       "  MATH_Reportingyear perf  \n",
       "0              2017f  Low  \n",
       "1              2017f  Low  "
      ]
     },
     "execution_count": 16,
     "metadata": {},
     "output_type": "execute_result"
    }
   ],
   "source": [
    "# Create a categorical label from Color # Good:15~20 Fair:10~14 Poor:0~9\n",
    "acadperfte_df['perf'] = 'na'\n",
    "acadperfte_df.loc[(acadperfte_df.ELA_Color >= 4) , 'perf'] = 'High' \n",
    "acadperfte_df.loc[(acadperfte_df.ELA_Color >= 3) & (acadperfte_df.ELA_Color < 4) , 'perf'] = 'Mid' \n",
    "acadperfte_df.loc[(acadperfte_df.ELA_Color >= 0) & (acadperfte_df.ELA_Color <= 2) , 'perf'] = 'Low' \n",
    "acadperfte_df.loc[(acadperfte_df.MATH_Color >= 4) , 'perf'] = 'High' \n",
    "acadperfte_df.loc[(acadperfte_df.MATH_Color >= 3) & (acadperfte_df.MATH_Color < 4) , 'perf'] = 'Mid' \n",
    "acadperfte_df.loc[(acadperfte_df.MATH_Color >= 0) & (acadperfte_df.MATH_Color <= 2) , 'perf'] = 'Low' \n",
    "acadperfte_df.head(2)"
   ]
  },
  {
   "cell_type": "code",
   "execution_count": 17,
   "metadata": {
    "scrolled": true
   },
   "outputs": [
    {
     "data": {
      "text/plain": [
       "0    1132111\n",
       "2     256645\n",
       "3     150987\n",
       "4     124966\n",
       "1      88064\n",
       "5      52469\n",
       "Name: ELA_Color, dtype: int64"
      ]
     },
     "execution_count": 17,
     "metadata": {},
     "output_type": "execute_result"
    }
   ],
   "source": [
    "acadperfte_df['ELA_Color'].value_counts()"
   ]
  },
  {
   "cell_type": "code",
   "execution_count": 18,
   "metadata": {},
   "outputs": [
    {
     "data": {
      "text/plain": [
       "0    1132690\n",
       "2     241446\n",
       "3     176773\n",
       "4     120905\n",
       "1      76286\n",
       "5      57142\n",
       "Name: MATH_Color, dtype: int64"
      ]
     },
     "execution_count": 18,
     "metadata": {},
     "output_type": "execute_result"
    }
   ],
   "source": [
    "acadperfte_df['MATH_Color'].value_counts()"
   ]
  },
  {
   "cell_type": "markdown",
   "metadata": {},
   "source": [
    "## 5) Handling Missing values"
   ]
  },
  {
   "cell_type": "code",
   "execution_count": 19,
   "metadata": {},
   "outputs": [
    {
     "data": {
      "text/plain": [
       "cds                   False\n",
       "ELA_Schoolname         True\n",
       "ELA_Districtname      False\n",
       "ELA_Countyname        False\n",
       "ELA_Studentgroup      False\n",
       "ELA_Statuslevel       False\n",
       "ELA_Changelevel       False\n",
       "ELA_Color             False\n",
       "ELA_Box               False\n",
       "ELA_Reportingyear     False\n",
       "MATH_Schoolname        True\n",
       "MATH_Districtname     False\n",
       "MATH_Countyname       False\n",
       "MATH_Studentgroup     False\n",
       "MATH_Statuslevel      False\n",
       "MATH_Changelevel      False\n",
       "MATH_Color            False\n",
       "MATH_Box              False\n",
       "MATH_Reportingyear    False\n",
       "perf                  False\n",
       "dtype: bool"
      ]
     },
     "execution_count": 19,
     "metadata": {},
     "output_type": "execute_result"
    }
   ],
   "source": [
    "# look for missing values\n",
    "acadperfte_df.isnull().any()"
   ]
  },
  {
   "cell_type": "code",
   "execution_count": 20,
   "metadata": {},
   "outputs": [
    {
     "data": {
      "text/plain": [
       "(1805242, 20)"
      ]
     },
     "execution_count": 20,
     "metadata": {},
     "output_type": "execute_result"
    }
   ],
   "source": [
    "acadperfte_df.shape"
   ]
  },
  {
   "cell_type": "code",
   "execution_count": 21,
   "metadata": {},
   "outputs": [],
   "source": [
    "# making new data frame with dropped NA values \n",
    "new_datat1 = acadperfte_df.dropna(axis = 0, how ='any')"
   ]
  },
  {
   "cell_type": "code",
   "execution_count": 22,
   "metadata": {},
   "outputs": [
    {
     "data": {
      "text/plain": [
       "(1614245, 20)"
      ]
     },
     "execution_count": 22,
     "metadata": {},
     "output_type": "execute_result"
    }
   ],
   "source": [
    "new_datat1.shape"
   ]
  },
  {
   "cell_type": "code",
   "execution_count": 23,
   "metadata": {},
   "outputs": [
    {
     "data": {
      "text/plain": [
       "0    1036147\n",
       "2     217477\n",
       "3     131688\n",
       "4     107171\n",
       "1      76589\n",
       "5      45173\n",
       "Name: ELA_Color, dtype: int64"
      ]
     },
     "execution_count": 23,
     "metadata": {},
     "output_type": "execute_result"
    }
   ],
   "source": [
    "new_datat1['ELA_Color'].value_counts()"
   ]
  },
  {
   "cell_type": "code",
   "execution_count": 24,
   "metadata": {},
   "outputs": [
    {
     "data": {
      "text/plain": [
       "2    217477\n",
       "3    131688\n",
       "4    107171\n",
       "1     76589\n",
       "5     45173\n",
       "Name: ELA_Color, dtype: int64"
      ]
     },
     "execution_count": 24,
     "metadata": {},
     "output_type": "execute_result"
    }
   ],
   "source": [
    "#High number of Color=0 could give mostly poor perf , selecting rest\n",
    "new_datat2=new_datat1[new_datat1.ELA_Color != 0]\n",
    "new_datat2['ELA_Color'].value_counts()"
   ]
  },
  {
   "cell_type": "code",
   "execution_count": 25,
   "metadata": {
    "scrolled": true
   },
   "outputs": [
    {
     "data": {
      "text/plain": [
       "0    1036651\n",
       "2     202442\n",
       "3     153937\n",
       "4     105092\n",
       "1      66475\n",
       "5      49648\n",
       "Name: MATH_Color, dtype: int64"
      ]
     },
     "execution_count": 25,
     "metadata": {},
     "output_type": "execute_result"
    }
   ],
   "source": [
    "new_datat1['MATH_Color'].value_counts()"
   ]
  },
  {
   "cell_type": "code",
   "execution_count": 26,
   "metadata": {},
   "outputs": [
    {
     "data": {
      "text/plain": [
       "2    202442\n",
       "3    153937\n",
       "4    105092\n",
       "1     66475\n",
       "5     49648\n",
       "Name: MATH_Color, dtype: int64"
      ]
     },
     "execution_count": 26,
     "metadata": {},
     "output_type": "execute_result"
    }
   ],
   "source": [
    "#High number of Color=0 could give mostly poor perf , selecting rest\n",
    "new_datat2=new_datat1[new_datat1.MATH_Color != 0]\n",
    "new_datat2['MATH_Color'].value_counts()"
   ]
  },
  {
   "cell_type": "code",
   "execution_count": 27,
   "metadata": {},
   "outputs": [
    {
     "data": {
      "text/plain": [
       "cds                   False\n",
       "ELA_Schoolname        False\n",
       "ELA_Districtname      False\n",
       "ELA_Countyname        False\n",
       "ELA_Studentgroup      False\n",
       "ELA_Statuslevel       False\n",
       "ELA_Changelevel       False\n",
       "ELA_Color             False\n",
       "ELA_Box               False\n",
       "ELA_Reportingyear     False\n",
       "MATH_Schoolname       False\n",
       "MATH_Districtname     False\n",
       "MATH_Countyname       False\n",
       "MATH_Studentgroup     False\n",
       "MATH_Statuslevel      False\n",
       "MATH_Changelevel      False\n",
       "MATH_Color            False\n",
       "MATH_Box              False\n",
       "MATH_Reportingyear    False\n",
       "perf                  False\n",
       "dtype: bool"
      ]
     },
     "execution_count": 27,
     "metadata": {},
     "output_type": "execute_result"
    }
   ],
   "source": [
    "# making new data frame with dropped NA values \n",
    "# look for missing values\n",
    "new_datat2.isnull().any()"
   ]
  },
  {
   "cell_type": "code",
   "execution_count": 28,
   "metadata": {},
   "outputs": [
    {
     "data": {
      "text/plain": [
       "(577594, 20)"
      ]
     },
     "execution_count": 28,
     "metadata": {},
     "output_type": "execute_result"
    }
   ],
   "source": [
    "new_datat2.shape"
   ]
  },
  {
   "cell_type": "markdown",
   "metadata": {},
   "source": [
    "## 6)Exploratory Data Analysis"
   ]
  },
  {
   "cell_type": "code",
   "execution_count": 29,
   "metadata": {},
   "outputs": [
    {
     "data": {
      "text/plain": [
       "Text(0.5,1,'Correlation Heatmap')"
      ]
     },
     "execution_count": 29,
     "metadata": {},
     "output_type": "execute_result"
    },
    {
     "data": {
      "image/png": "[encoded data removed]",
      "text/plain": [
       "<Figure size 720x720 with 2 Axes>"
      ]
     },
     "metadata": {},
     "output_type": "display_data"
    }
   ],
   "source": [
    "# see correlation between variables through a correlation heatmap\n",
    "corr = new_datat2.corr()\n",
    "plt.figure(figsize=(10,10))\n",
    "sns.heatmap(corr, annot=True, cmap=\"Greens\")\n",
    "plt.title('Correlation Heatmap', fontsize=20)"
   ]
  },
  {
   "cell_type": "markdown",
   "metadata": {},
   "source": [
    "Looking at ELA , as you move from left to right(MATH) corr decrease . This could be due to diff scores applied for ELA and Math. \n",
    "Also ELA_Color is based of ELA_Statuslevel and ELA_Changelevel.From above we see that there is a high correlation between ELA_Color and ELS_Statuslevel (0.53)\n",
    "Ref: Table 9: Grade Five Scale Score Range for ELA and Mathematics"
   ]
  },
  {
   "cell_type": "markdown",
   "metadata": {},
   "source": [
    "## Hypothesis Testing also confirms that ELS_Statuslevel has a significant correlation with perfnum_label"
   ]
  },
  {
   "cell_type": "code",
   "execution_count": 30,
   "metadata": {},
   "outputs": [
    {
     "name": "stderr",
     "output_type": "stream",
     "text": [
      "/anaconda3/envs/PythonData/lib/python3.6/site-packages/ipykernel/__main__.py:2: SettingWithCopyWarning: \n",
      "A value is trying to be set on a copy of a slice from a DataFrame.\n",
      "Try using .loc[row_indexer,col_indexer] = value instead\n",
      "\n",
      "See the caveats in the documentation: http://pandas.pydata.org/pandas-docs/stable/indexing.html#indexing-view-versus-copy\n",
      "  from ipykernel import kernelapp as app\n",
      "/anaconda3/envs/PythonData/lib/python3.6/site-packages/pandas/core/indexing.py:543: SettingWithCopyWarning: \n",
      "A value is trying to be set on a copy of a slice from a DataFrame.\n",
      "Try using .loc[row_indexer,col_indexer] = value instead\n",
      "\n",
      "See the caveats in the documentation: http://pandas.pydata.org/pandas-docs/stable/indexing.html#indexing-view-versus-copy\n",
      "  self.obj[item] = s\n"
     ]
    },
    {
     "data": {
      "text/html": [
       "<div>\n",
       "<style scoped>\n",
       "    .dataframe tbody tr th:only-of-type {\n",
       "        vertical-align: middle;\n",
       "    }\n",
       "\n",
       "    .dataframe tbody tr th {\n",
       "        vertical-align: top;\n",
       "    }\n",
       "\n",
       "    .dataframe thead th {\n",
       "        text-align: right;\n",
       "    }\n",
       "</style>\n",
       "<table border=\"1\" class=\"dataframe\">\n",
       "  <thead>\n",
       "    <tr style=\"text-align: right;\">\n",
       "      <th></th>\n",
       "      <th>cds</th>\n",
       "      <th>ELA_Schoolname</th>\n",
       "      <th>ELA_Districtname</th>\n",
       "      <th>ELA_Countyname</th>\n",
       "      <th>ELA_Studentgroup</th>\n",
       "      <th>ELA_Statuslevel</th>\n",
       "      <th>ELA_Changelevel</th>\n",
       "      <th>ELA_Color</th>\n",
       "      <th>ELA_Box</th>\n",
       "      <th>ELA_Reportingyear</th>\n",
       "      <th>...</th>\n",
       "      <th>MATH_Districtname</th>\n",
       "      <th>MATH_Countyname</th>\n",
       "      <th>MATH_Studentgroup</th>\n",
       "      <th>MATH_Statuslevel</th>\n",
       "      <th>MATH_Changelevel</th>\n",
       "      <th>MATH_Color</th>\n",
       "      <th>MATH_Box</th>\n",
       "      <th>MATH_Reportingyear</th>\n",
       "      <th>perf</th>\n",
       "      <th>label</th>\n",
       "    </tr>\n",
       "  </thead>\n",
       "  <tbody>\n",
       "    <tr>\n",
       "      <th>2</th>\n",
       "      <td>1100170123968</td>\n",
       "      <td>Community School for Creative Education</td>\n",
       "      <td>Alameda County Office of Education</td>\n",
       "      <td>Alameda</td>\n",
       "      <td>AA</td>\n",
       "      <td>1</td>\n",
       "      <td>1</td>\n",
       "      <td>0</td>\n",
       "      <td>0</td>\n",
       "      <td>2017f</td>\n",
       "      <td>...</td>\n",
       "      <td>Alameda County Office of Education</td>\n",
       "      <td>Alameda</td>\n",
       "      <td>ALL</td>\n",
       "      <td>2</td>\n",
       "      <td>3</td>\n",
       "      <td>2</td>\n",
       "      <td>180</td>\n",
       "      <td>2017f</td>\n",
       "      <td>Low</td>\n",
       "      <td>no</td>\n",
       "    </tr>\n",
       "    <tr>\n",
       "      <th>4</th>\n",
       "      <td>1100170123968</td>\n",
       "      <td>Community School for Creative Education</td>\n",
       "      <td>Alameda County Office of Education</td>\n",
       "      <td>Alameda</td>\n",
       "      <td>AA</td>\n",
       "      <td>1</td>\n",
       "      <td>1</td>\n",
       "      <td>0</td>\n",
       "      <td>0</td>\n",
       "      <td>2017f</td>\n",
       "      <td>...</td>\n",
       "      <td>Alameda County Office of Education</td>\n",
       "      <td>Alameda</td>\n",
       "      <td>EL</td>\n",
       "      <td>2</td>\n",
       "      <td>5</td>\n",
       "      <td>3</td>\n",
       "      <td>200</td>\n",
       "      <td>2017f</td>\n",
       "      <td>Mid</td>\n",
       "      <td>yes</td>\n",
       "    </tr>\n",
       "  </tbody>\n",
       "</table>\n",
       "<p>2 rows × 21 columns</p>\n",
       "</div>"
      ],
      "text/plain": [
       "             cds                           ELA_Schoolname  \\\n",
       "2  1100170123968  Community School for Creative Education   \n",
       "4  1100170123968  Community School for Creative Education   \n",
       "\n",
       "                     ELA_Districtname ELA_Countyname ELA_Studentgroup  \\\n",
       "2  Alameda County Office of Education        Alameda               AA   \n",
       "4  Alameda County Office of Education        Alameda               AA   \n",
       "\n",
       "   ELA_Statuslevel  ELA_Changelevel  ELA_Color  ELA_Box ELA_Reportingyear  \\\n",
       "2                1                1          0        0             2017f   \n",
       "4                1                1          0        0             2017f   \n",
       "\n",
       "   ...                    MATH_Districtname MATH_Countyname MATH_Studentgroup  \\\n",
       "2  ...   Alameda County Office of Education         Alameda               ALL   \n",
       "4  ...   Alameda County Office of Education         Alameda                EL   \n",
       "\n",
       "  MATH_Statuslevel  MATH_Changelevel  MATH_Color  MATH_Box  \\\n",
       "2                2                 3           2       180   \n",
       "4                2                 5           3       200   \n",
       "\n",
       "   MATH_Reportingyear perf label  \n",
       "2               2017f  Low    no  \n",
       "4               2017f  Mid   yes  \n",
       "\n",
       "[2 rows x 21 columns]"
      ]
     },
     "execution_count": 30,
     "metadata": {},
     "output_type": "execute_result"
    }
   ],
   "source": [
    "# Create a categorical label from Color \n",
    "new_datat2['label'] = 'no'\n",
    "new_datat2.loc[(new_datat2.perf != 'Low') , 'label'] = 'yes'  \n",
    "new_datat2.head(2)"
   ]
  },
  {
   "cell_type": "code",
   "execution_count": 31,
   "metadata": {},
   "outputs": [
    {
     "data": {
      "text/plain": [
       "2     False\n",
       "4      True\n",
       "8     False\n",
       "11     True\n",
       "16    False\n",
       "Name: label, dtype: bool"
      ]
     },
     "execution_count": 31,
     "metadata": {},
     "output_type": "execute_result"
    }
   ],
   "source": [
    "# Create a categorical label from Color  - perf_flg\n",
    "#0/1 - perfflg - ignore\n",
    "#new_datat2['perfflg'] = 0\n",
    "#new_datat2.loc[(new_datat2.perf != 'Low') , 'perfflg'] = 1 \n",
    "#new_datat2.head(2)\n",
    "new_datat2['label'].str.contains('yes').head()"
   ]
  },
  {
   "cell_type": "code",
   "execution_count": 32,
   "metadata": {},
   "outputs": [
    {
     "data": {
      "text/plain": [
       "cds                    int64\n",
       "ELA_Schoolname        object\n",
       "ELA_Districtname      object\n",
       "ELA_Countyname        object\n",
       "ELA_Studentgroup      object\n",
       "ELA_Statuslevel        int64\n",
       "ELA_Changelevel        int64\n",
       "ELA_Color              int64\n",
       "ELA_Box                int64\n",
       "ELA_Reportingyear     object\n",
       "MATH_Schoolname       object\n",
       "MATH_Districtname     object\n",
       "MATH_Countyname       object\n",
       "MATH_Studentgroup     object\n",
       "MATH_Statuslevel       int64\n",
       "MATH_Changelevel       int64\n",
       "MATH_Color             int64\n",
       "MATH_Box               int64\n",
       "MATH_Reportingyear    object\n",
       "perf                  object\n",
       "label                 object\n",
       "dtype: object"
      ]
     },
     "execution_count": 32,
     "metadata": {},
     "output_type": "execute_result"
    }
   ],
   "source": [
    "#before getting binary value for perfflg\n",
    "new_datat2.dtypes"
   ]
  },
  {
   "cell_type": "code",
   "execution_count": 33,
   "metadata": {
    "scrolled": true
   },
   "outputs": [
    {
     "data": {
      "text/plain": [
       "2     0\n",
       "4     1\n",
       "8     0\n",
       "11    1\n",
       "16    0\n",
       "Name: label, dtype: int64"
      ]
     },
     "execution_count": 33,
     "metadata": {},
     "output_type": "execute_result"
    }
   ],
   "source": [
    "#Logistic regression gives binary outcome - Convert perf_flg to binary value \n",
    "new_datat2['label'].str.contains('yes').astype(int).head()"
   ]
  },
  {
   "cell_type": "code",
   "execution_count": 34,
   "metadata": {},
   "outputs": [],
   "source": [
    "perc = (lambda col: col/col.sum())\n",
    "index = ['Low','Mid','High']\n",
    "hypo_tab11 = pd.crosstab(index=new_datat2.label, columns=new_datat2.ELA_Statuslevel)\n",
    "hypo_tab = np.log(hypo_tab11)\n",
    "hypo_perc = hypo_tab.apply(perc).reindex(index)"
   ]
  },
  {
   "cell_type": "code",
   "execution_count": 35,
   "metadata": {},
   "outputs": [
    {
     "data": {
      "text/plain": [
       "0.0"
      ]
     },
     "execution_count": 35,
     "metadata": {},
     "output_type": "execute_result"
    }
   ],
   "source": [
    "# chi-square test result -- significant ran below so place up!\n",
    "import statsmodels.api as sm\n",
    "hypo_table = sm.stats.Table(hypo_tab11)\n",
    "hypo_rslt = hypo_table.test_nominal_association()\n",
    "hypo_rslt.pvalue"
   ]
  },
  {
   "cell_type": "markdown",
   "metadata": {},
   "source": [
    "When you perform a hypothesis test in statistics, a p-value helps you determine the significance of your results. The p-value is a number between 0 and 1 and interpreted in the following way: A small p-value (typically ≤ 0.05) indicates strong evidence against the null hypothesis, so you reject the null hypothesis"
   ]
  },
  {
   "cell_type": "markdown",
   "metadata": {},
   "source": [
    "## 6a)Check Overall Performance "
   ]
  },
  {
   "cell_type": "code",
   "execution_count": 36,
   "metadata": {},
   "outputs": [
    {
     "data": {
      "text/plain": [
       "Text(0,0.5,'Number of Schools')"
      ]
     },
     "execution_count": 36,
     "metadata": {},
     "output_type": "execute_result"
    },
    {
     "data": {
      "image/png": "[encoded data removed]",
      "text/plain": [
       "<Figure size 576x432 with 1 Axes>"
      ]
     },
     "metadata": {},
     "output_type": "display_data"
    }
   ],
   "source": [
    "# Performance Outcome Countplot - Schools\n",
    "plt.figure(figsize=(8,6))\n",
    "sns.countplot(new_datat2.perf, order=[\"Low\",\"Mid\",\"High\"], palette='Set1')\n",
    "plt.title('Performance Outcome - Number of Schools',fontsize=20)\n",
    "plt.xlabel('Performance Outcome', fontsize=16)\n",
    "plt.ylabel('Number of Schools', fontsize=16)"
   ]
  },
  {
   "cell_type": "markdown",
   "metadata": {},
   "source": [
    "since the above picture showed higher overall low performance, running further analysis to see a much granular level- district/school/student group "
   ]
  },
  {
   "cell_type": "markdown",
   "metadata": {},
   "source": [
    "## 6b1)Check ELA performance for a specific district "
   ]
  },
  {
   "cell_type": "code",
   "execution_count": 37,
   "metadata": {},
   "outputs": [
    {
     "data": {
      "text/plain": [
       "Capistrano Unified    4480\n",
       "Name: ELA_Districtname, dtype: int64"
      ]
     },
     "execution_count": 37,
     "metadata": {},
     "output_type": "execute_result"
    }
   ],
   "source": [
    "#Selecting district1\n",
    "district1=new_datat2[new_datat2.ELA_Districtname == 'Capistrano Unified']\n",
    "district1['ELA_Districtname'].value_counts()"
   ]
  },
  {
   "cell_type": "code",
   "execution_count": 38,
   "metadata": {},
   "outputs": [
    {
     "data": {
      "text/plain": [
       "1"
      ]
     },
     "execution_count": 38,
     "metadata": {},
     "output_type": "execute_result"
    }
   ],
   "source": [
    "#unique values in a coulmn\n",
    "dist1_unq=district1['ELA_Districtname'].nunique()\n",
    "dist1_unq"
   ]
  },
  {
   "cell_type": "code",
   "execution_count": 39,
   "metadata": {},
   "outputs": [
    {
     "data": {
      "text/plain": [
       "51"
      ]
     },
     "execution_count": 39,
     "metadata": {},
     "output_type": "execute_result"
    }
   ],
   "source": [
    "#count distinct values in single column\n",
    "dist1sch_cnt=district1['ELA_Schoolname'].nunique()\n",
    "dist1sch_cnt"
   ]
  },
  {
   "cell_type": "code",
   "execution_count": 40,
   "metadata": {},
   "outputs": [
    {
     "data": {
      "text/plain": [
       "array(['Aliso Viejo Middle', 'Arroyo Vista Elementary',\n",
       "       'Arroyo Vista Middle', 'Bathgate Elementary',\n",
       "       'Bernice Ayer Middle', 'Canyon Vista Elementary',\n",
       "       'Capistrano Connections Academy', 'Capistrano Virtual/Home',\n",
       "       'Carl Hankey Elementary', 'Carl Hankey Middle',\n",
       "       'Castille Elementary', 'Chaparral Elementary',\n",
       "       'Clarence Lobo Elementary', 'Community Roots Academy',\n",
       "       'Concordia Elementary', 'Del Obispo Elementary',\n",
       "       'Don Juan Avila Elementary', 'Don Juan Avila Middle',\n",
       "       'George White Elementary', 'Harold Ambuehl Elementary',\n",
       "       'Hidden Hills Elementary', 'John Malcom Elementary', 'Journey',\n",
       "       'Kinoshita Elementary', 'Ladera Ranch Elementary',\n",
       "       'Ladera Ranch Middle', 'Laguna Niguel Elementary',\n",
       "       'Las Flores Elementary', 'Las Flores Middle',\n",
       "       'Las Palmas Elementary', 'Marblehead Elementary',\n",
       "       'Marco Forster Middle', 'Marian Bergeson Elementary',\n",
       "       'Moulton Elementary', 'Newhart Middle', 'Niguel Hills Middle',\n",
       "       'Oak Grove Elementary', 'Oso Grande Elementary',\n",
       "       'Oxford Preparatory Academy - South Orange County',\n",
       "       'Palisades Elementary',\n",
       "       'Philip J. Reilly Elementary/Special Education',\n",
       "       'Richard Henry Dana Elementary', 'San Juan Elementary',\n",
       "       'Shorecliffs Middle', 'Tijeras Creek Elementary',\n",
       "       'Truman Benedict Elementary', 'Viejo Elementary',\n",
       "       'Vista del Mar Elementary', 'Vista del Mar Middle',\n",
       "       'Wagon Wheel Elementary', 'Wood Canyon Elementary'], dtype=object)"
      ]
     },
     "execution_count": 40,
     "metadata": {},
     "output_type": "execute_result"
    }
   ],
   "source": [
    "#Show the list of District1 schools\n",
    "D1_Schools = district1['ELA_Schoolname'].unique()\n",
    "D1_Schools.sort()\n",
    "D1_Schools"
   ]
  },
  {
   "cell_type": "code",
   "execution_count": 41,
   "metadata": {},
   "outputs": [
    {
     "data": {
      "text/plain": [
       "Text(0,0.5,'District1')"
      ]
     },
     "execution_count": 41,
     "metadata": {},
     "output_type": "execute_result"
    },
    {
     "data": {
      "image/png": "[encoded data removed]",
      "text/plain": [
       "<Figure size 576x432 with 1 Axes>"
      ]
     },
     "metadata": {},
     "output_type": "display_data"
    }
   ],
   "source": [
    "# ELA Performance Outcome Countplot - District1\n",
    "plt.figure(figsize=(8,6))\n",
    "sns.countplot(district1.perf, order=[\"Low\",\"Mid\",\"High\"], palette='Set1')\n",
    "plt.title('Performance Outcome - District1',fontsize=20)\n",
    "plt.xlabel('Performance Outcome', fontsize=16)\n",
    "plt.ylabel('District1', fontsize=16)"
   ]
  },
  {
   "cell_type": "markdown",
   "metadata": {},
   "source": [
    "In spite of overall low performance, when we look at specific school it showed high performance followed by higher low performance noted."
   ]
  },
  {
   "cell_type": "markdown",
   "metadata": {},
   "source": [
    "## 6b2)Check ELA performance for a another specific district "
   ]
  },
  {
   "cell_type": "code",
   "execution_count": 42,
   "metadata": {},
   "outputs": [
    {
     "data": {
      "text/plain": [
       "Irvine Unified    3229\n",
       "Name: ELA_Districtname, dtype: int64"
      ]
     },
     "execution_count": 42,
     "metadata": {},
     "output_type": "execute_result"
    }
   ],
   "source": [
    "#District2 - Irvine Unified\n",
    "district2=new_datat2[new_datat2.ELA_Districtname == 'Irvine Unified']\n",
    "district2['ELA_Districtname'].value_counts()"
   ]
  },
  {
   "cell_type": "code",
   "execution_count": 43,
   "metadata": {},
   "outputs": [
    {
     "data": {
      "text/plain": [
       "Text(0,0.5,'District2')"
      ]
     },
     "execution_count": 43,
     "metadata": {},
     "output_type": "execute_result"
    },
    {
     "data": {
      "image/png": "[encoded data removed]",
      "text/plain": [
       "<Figure size 576x432 with 1 Axes>"
      ]
     },
     "metadata": {},
     "output_type": "display_data"
    }
   ],
   "source": [
    "# ELA Performance Outcome Countplot - District2\n",
    "plt.figure(figsize=(8,6))\n",
    "sns.countplot(district2.perf, order=[\"Low\",\"Mid\",\"High\"], palette='Set1')\n",
    "plt.title('Performance Outcome - District2',fontsize=20)\n",
    "plt.xlabel('Performance Outcome', fontsize=16)\n",
    "plt.ylabel('District2', fontsize=16)"
   ]
  },
  {
   "cell_type": "markdown",
   "metadata": {},
   "source": [
    "From above figure district2 is exceptionally good!"
   ]
  },
  {
   "cell_type": "markdown",
   "metadata": {},
   "source": [
    "# 6c)Check ELA for a specific school"
   ]
  },
  {
   "cell_type": "code",
   "execution_count": 44,
   "metadata": {},
   "outputs": [
    {
     "data": {
      "text/plain": [
       "Wood Canyon Elementary    84\n",
       "Name: ELA_Schoolname, dtype: int64"
      ]
     },
     "execution_count": 44,
     "metadata": {},
     "output_type": "execute_result"
    }
   ],
   "source": [
    "school1=new_datat2[new_datat2.ELA_Schoolname == 'Wood Canyon Elementary']\n",
    "school1['ELA_Schoolname'].value_counts()"
   ]
  },
  {
   "cell_type": "code",
   "execution_count": 45,
   "metadata": {},
   "outputs": [
    {
     "data": {
      "text/plain": [
       "Text(0,0.5,'School1')"
      ]
     },
     "execution_count": 45,
     "metadata": {},
     "output_type": "execute_result"
    },
    {
     "data": {
      "image/png": "[encoded data removed]",
      "text/plain": [
       "<Figure size 576x432 with 1 Axes>"
      ]
     },
     "metadata": {},
     "output_type": "display_data"
    }
   ],
   "source": [
    "# ELA Performance Outcome Countplot - School1\n",
    "plt.figure(figsize=(8,6))\n",
    "sns.countplot(district1.perf, order=[\"Low\",\"Mid\",\"High\"], palette='Set1')\n",
    "plt.title('Performance Outcome - School1',fontsize=20)\n",
    "plt.xlabel('Performance Outcome', fontsize=16)\n",
    "plt.ylabel('School1', fontsize=16)"
   ]
  },
  {
   "cell_type": "markdown",
   "metadata": {},
   "source": [
    "## 6d)Check ELA performance under specific student group"
   ]
  },
  {
   "attachments": {},
   "cell_type": "markdown",
   "metadata": {},
   "source": [
    "ALL=All Students\n",
    "AA=Black/African American\n",
    "AI=American Indian or Alaska Native\n",
    "AS=Asian\n",
    "FI=Filipino\n",
    "HI=Hispanic\n",
    "PI=Pacific Islander\n",
    "WH=White\n",
    "MR=Multiple Races/Two or More\n",
    "EL=English Learner\n",
    "ELO=English Learners Only RFP=RFEPs Only \n",
    "EO=English Only\n",
    "SED=Socioeconomically Disadvantaged\n",
    "SWD=Students with Disabilities\n",
    "FOS=Foster Youth\n",
    "HOM=Homeless Youth"
   ]
  },
  {
   "cell_type": "code",
   "execution_count": 46,
   "metadata": {},
   "outputs": [
    {
     "data": {
      "text/plain": [
       "HI    38504\n",
       "AS    34134\n",
       "Name: ELA_Studentgroup, dtype: int64"
      ]
     },
     "execution_count": 46,
     "metadata": {},
     "output_type": "execute_result"
    }
   ],
   "source": [
    "stdgrp_array = ['HI', 'AS']\n",
    "stdgrp1=new_datat2.loc[new_datat2['ELA_Studentgroup'].isin(stdgrp_array)]\n",
    "#stdgrp1=new_datat2[new_datat2.ELA_Studentgroup == 'EL']\n",
    "stdgrp1['ELA_Studentgroup'].value_counts()"
   ]
  },
  {
   "cell_type": "code",
   "execution_count": 47,
   "metadata": {},
   "outputs": [],
   "source": [
    "perc = (lambda col: col/col.sum())\n",
    "index = ['Low','Mid','High']\n",
    "stdgrp_tab1 = pd.crosstab(index=stdgrp1.perf, columns=stdgrp1.ELA_Studentgroup)\n",
    "stdgrp_tab = np.log(stdgrp_tab1)\n",
    "stdgrp_perc = stdgrp_tab.apply(perc).reindex(index)"
   ]
  },
  {
   "cell_type": "code",
   "execution_count": 48,
   "metadata": {},
   "outputs": [
    {
     "data": {
      "text/plain": [
       "<Figure size 432x288 with 0 Axes>"
      ]
     },
     "metadata": {},
     "output_type": "display_data"
    },
    {
     "data": {
      "image/png": "[encoded data removed]",
      "text/plain": [
       "<Figure size 1296x720 with 1 Axes>"
      ]
     },
     "metadata": {},
     "output_type": "display_data"
    }
   ],
   "source": [
    "plt.figure()\n",
    "stdgrp_perc.plot.bar(colormap=\"PiYG_r\", fontsize=16, figsize=(18,10))\n",
    "plt.title('Performance By 2 StudentGroups', fontsize=20)\n",
    "plt.ylabel('Percentage of Logarithm StudentGroups Counts ', fontsize=16)\n",
    "plt.xlabel('Performance', fontsize=16)\n",
    "plt.show()"
   ]
  },
  {
   "cell_type": "markdown",
   "metadata": {},
   "source": [
    "## 6e) If have time then add CCI and ELP indicators "
   ]
  },
  {
   "cell_type": "markdown",
   "metadata": {},
   "source": [
    "## IGNORE 7) Prepare dataset for modelling  - Logistic Regression"
   ]
  },
  {
   "cell_type": "markdown",
   "metadata": {},
   "source": [
    "Voice gender example "
   ]
  },
  {
   "cell_type": "code",
   "execution_count": 49,
   "metadata": {},
   "outputs": [
    {
     "data": {
      "text/html": [
       "<div>\n",
       "<style scoped>\n",
       "    .dataframe tbody tr th:only-of-type {\n",
       "        vertical-align: middle;\n",
       "    }\n",
       "\n",
       "    .dataframe tbody tr th {\n",
       "        vertical-align: top;\n",
       "    }\n",
       "\n",
       "    .dataframe thead th {\n",
       "        text-align: right;\n",
       "    }\n",
       "</style>\n",
       "<table border=\"1\" class=\"dataframe\">\n",
       "  <thead>\n",
       "    <tr style=\"text-align: right;\">\n",
       "      <th></th>\n",
       "      <th>cds</th>\n",
       "      <th>ELA_Schoolname</th>\n",
       "      <th>ELA_Districtname</th>\n",
       "      <th>ELA_Countyname</th>\n",
       "      <th>ELA_Studentgroup</th>\n",
       "      <th>ELA_Statuslevel</th>\n",
       "      <th>ELA_Changelevel</th>\n",
       "      <th>ELA_Color</th>\n",
       "      <th>ELA_Box</th>\n",
       "      <th>ELA_Reportingyear</th>\n",
       "      <th>...</th>\n",
       "      <th>MATH_Districtname</th>\n",
       "      <th>MATH_Countyname</th>\n",
       "      <th>MATH_Studentgroup</th>\n",
       "      <th>MATH_Statuslevel</th>\n",
       "      <th>MATH_Changelevel</th>\n",
       "      <th>MATH_Color</th>\n",
       "      <th>MATH_Box</th>\n",
       "      <th>MATH_Reportingyear</th>\n",
       "      <th>perf</th>\n",
       "      <th>label</th>\n",
       "    </tr>\n",
       "  </thead>\n",
       "  <tbody>\n",
       "    <tr>\n",
       "      <th>2</th>\n",
       "      <td>1100170123968</td>\n",
       "      <td>Community School for Creative Education</td>\n",
       "      <td>Alameda County Office of Education</td>\n",
       "      <td>Alameda</td>\n",
       "      <td>AA</td>\n",
       "      <td>1</td>\n",
       "      <td>1</td>\n",
       "      <td>0</td>\n",
       "      <td>0</td>\n",
       "      <td>2017f</td>\n",
       "      <td>...</td>\n",
       "      <td>Alameda County Office of Education</td>\n",
       "      <td>Alameda</td>\n",
       "      <td>ALL</td>\n",
       "      <td>2</td>\n",
       "      <td>3</td>\n",
       "      <td>2</td>\n",
       "      <td>180</td>\n",
       "      <td>2017f</td>\n",
       "      <td>Low</td>\n",
       "      <td>no</td>\n",
       "    </tr>\n",
       "    <tr>\n",
       "      <th>4</th>\n",
       "      <td>1100170123968</td>\n",
       "      <td>Community School for Creative Education</td>\n",
       "      <td>Alameda County Office of Education</td>\n",
       "      <td>Alameda</td>\n",
       "      <td>AA</td>\n",
       "      <td>1</td>\n",
       "      <td>1</td>\n",
       "      <td>0</td>\n",
       "      <td>0</td>\n",
       "      <td>2017f</td>\n",
       "      <td>...</td>\n",
       "      <td>Alameda County Office of Education</td>\n",
       "      <td>Alameda</td>\n",
       "      <td>EL</td>\n",
       "      <td>2</td>\n",
       "      <td>5</td>\n",
       "      <td>3</td>\n",
       "      <td>200</td>\n",
       "      <td>2017f</td>\n",
       "      <td>Mid</td>\n",
       "      <td>yes</td>\n",
       "    </tr>\n",
       "  </tbody>\n",
       "</table>\n",
       "<p>2 rows × 21 columns</p>\n",
       "</div>"
      ],
      "text/plain": [
       "             cds                           ELA_Schoolname  \\\n",
       "2  1100170123968  Community School for Creative Education   \n",
       "4  1100170123968  Community School for Creative Education   \n",
       "\n",
       "                     ELA_Districtname ELA_Countyname ELA_Studentgroup  \\\n",
       "2  Alameda County Office of Education        Alameda               AA   \n",
       "4  Alameda County Office of Education        Alameda               AA   \n",
       "\n",
       "   ELA_Statuslevel  ELA_Changelevel  ELA_Color  ELA_Box ELA_Reportingyear  \\\n",
       "2                1                1          0        0             2017f   \n",
       "4                1                1          0        0             2017f   \n",
       "\n",
       "   ...                    MATH_Districtname MATH_Countyname MATH_Studentgroup  \\\n",
       "2  ...   Alameda County Office of Education         Alameda               ALL   \n",
       "4  ...   Alameda County Office of Education         Alameda                EL   \n",
       "\n",
       "  MATH_Statuslevel  MATH_Changelevel  MATH_Color  MATH_Box  \\\n",
       "2                2                 3           2       180   \n",
       "4                2                 5           3       200   \n",
       "\n",
       "   MATH_Reportingyear perf label  \n",
       "2               2017f  Low    no  \n",
       "4               2017f  Mid   yes  \n",
       "\n",
       "[2 rows x 21 columns]"
      ]
     },
     "execution_count": 49,
     "metadata": {},
     "output_type": "execute_result"
    }
   ],
   "source": [
    "new_datat2.head(2)\n",
    "#IGNORE perfflg\n",
    "#USE perf_flg"
   ]
  },
  {
   "cell_type": "code",
   "execution_count": 50,
   "metadata": {},
   "outputs": [
    {
     "data": {
      "text/plain": [
       "cds                    int64\n",
       "ELA_Schoolname        object\n",
       "ELA_Districtname      object\n",
       "ELA_Countyname        object\n",
       "ELA_Studentgroup      object\n",
       "ELA_Statuslevel        int64\n",
       "ELA_Changelevel        int64\n",
       "ELA_Color              int64\n",
       "ELA_Box                int64\n",
       "ELA_Reportingyear     object\n",
       "MATH_Schoolname       object\n",
       "MATH_Districtname     object\n",
       "MATH_Countyname       object\n",
       "MATH_Studentgroup     object\n",
       "MATH_Statuslevel       int64\n",
       "MATH_Changelevel       int64\n",
       "MATH_Color             int64\n",
       "MATH_Box               int64\n",
       "MATH_Reportingyear    object\n",
       "perf                  object\n",
       "label                 object\n",
       "dtype: object"
      ]
     },
     "execution_count": 50,
     "metadata": {},
     "output_type": "execute_result"
    }
   ],
   "source": [
    "new_datat2.dtypes"
   ]
  },
  {
   "cell_type": "markdown",
   "metadata": {},
   "source": [
    "Logistic regression gives binary outcome - already converted perf_flg to binary value\n",
    "since above type shows object again then convert again\n"
   ]
  },
  {
   "cell_type": "code",
   "execution_count": 51,
   "metadata": {},
   "outputs": [
    {
     "data": {
      "text/plain": [
       "2     0\n",
       "4     1\n",
       "8     0\n",
       "11    1\n",
       "16    0\n",
       "Name: label, dtype: int64"
      ]
     },
     "execution_count": 51,
     "metadata": {},
     "output_type": "execute_result"
    }
   ],
   "source": [
    "new_datat2['label'].str.contains('yes').astype(int).head()\n"
   ]
  },
  {
   "cell_type": "code",
   "execution_count": 52,
   "metadata": {},
   "outputs": [
    {
     "name": "stdout",
     "output_type": "stream",
     "text": [
      "(577594, 20) (577594,)\n"
     ]
    }
   ],
   "source": [
    "# Assign X (data) and y (target)\n",
    "X = new_datat2.drop(\"label\", axis=1)\n",
    "y = new_datat2[\"label\"]\n",
    "print(X.shape, y.shape)"
   ]
  },
  {
   "cell_type": "markdown",
   "metadata": {},
   "source": [
    " Split our data into training and testing"
   ]
  },
  {
   "cell_type": "code",
   "execution_count": 53,
   "metadata": {},
   "outputs": [],
   "source": [
    "from sklearn.model_selection import train_test_split\n",
    "\n",
    "X_train, X_test, y_train, y_test = train_test_split(X, y, random_state=1, stratify=y)"
   ]
  },
  {
   "cell_type": "markdown",
   "metadata": {},
   "source": [
    "Create a Logistic Regression Model"
   ]
  },
  {
   "cell_type": "code",
   "execution_count": 54,
   "metadata": {},
   "outputs": [
    {
     "data": {
      "text/plain": [
       "LogisticRegression(C=1.0, class_weight=None, dual=False, fit_intercept=True,\n",
       "          intercept_scaling=1, max_iter=100, multi_class='ovr', n_jobs=1,\n",
       "          penalty='l2', random_state=None, solver='liblinear', tol=0.0001,\n",
       "          verbose=0, warm_start=False)"
      ]
     },
     "execution_count": 54,
     "metadata": {},
     "output_type": "execute_result"
    }
   ],
   "source": [
    "from sklearn.linear_model import LogisticRegression\n",
    "classifier = LogisticRegression()\n",
    "classifier"
   ]
  },
  {
   "cell_type": "markdown",
   "metadata": {},
   "source": [
    "Fit (train) or model using the training data"
   ]
  },
  {
   "cell_type": "code",
   "execution_count": 55,
   "metadata": {},
   "outputs": [
    {
     "ename": "ValueError",
     "evalue": "could not convert string to float: 'Low'",
     "output_type": "error",
     "traceback": [
      "\u001b[0;31m---------------------------------------------------------------------------\u001b[0m",
      "\u001b[0;31mValueError\u001b[0m                                Traceback (most recent call last)",
      "\u001b[0;32m<ipython-input-55-f44724590846>\u001b[0m in \u001b[0;36m<module>\u001b[0;34m()\u001b[0m\n\u001b[0;32m----> 1\u001b[0;31m \u001b[0mclassifier\u001b[0m\u001b[0;34m.\u001b[0m\u001b[0mfit\u001b[0m\u001b[0;34m(\u001b[0m\u001b[0mX_train\u001b[0m\u001b[0;34m,\u001b[0m \u001b[0my_train\u001b[0m\u001b[0;34m)\u001b[0m\u001b[0;34m\u001b[0m\u001b[0;34m\u001b[0m\u001b[0m\n\u001b[0m",
      "\u001b[0;32m/anaconda3/envs/PythonData/lib/python3.6/site-packages/sklearn/linear_model/logistic.py\u001b[0m in \u001b[0;36mfit\u001b[0;34m(self, X, y, sample_weight)\u001b[0m\n\u001b[1;32m   1214\u001b[0m \u001b[0;34m\u001b[0m\u001b[0m\n\u001b[1;32m   1215\u001b[0m         X, y = check_X_y(X, y, accept_sparse='csr', dtype=_dtype,\n\u001b[0;32m-> 1216\u001b[0;31m                          order=\"C\")\n\u001b[0m\u001b[1;32m   1217\u001b[0m         \u001b[0mcheck_classification_targets\u001b[0m\u001b[0;34m(\u001b[0m\u001b[0my\u001b[0m\u001b[0;34m)\u001b[0m\u001b[0;34m\u001b[0m\u001b[0;34m\u001b[0m\u001b[0m\n\u001b[1;32m   1218\u001b[0m         \u001b[0mself\u001b[0m\u001b[0;34m.\u001b[0m\u001b[0mclasses_\u001b[0m \u001b[0;34m=\u001b[0m \u001b[0mnp\u001b[0m\u001b[0;34m.\u001b[0m\u001b[0munique\u001b[0m\u001b[0;34m(\u001b[0m\u001b[0my\u001b[0m\u001b[0;34m)\u001b[0m\u001b[0;34m\u001b[0m\u001b[0;34m\u001b[0m\u001b[0m\n",
      "\u001b[0;32m/anaconda3/envs/PythonData/lib/python3.6/site-packages/sklearn/utils/validation.py\u001b[0m in \u001b[0;36mcheck_X_y\u001b[0;34m(X, y, accept_sparse, dtype, order, copy, force_all_finite, ensure_2d, allow_nd, multi_output, ensure_min_samples, ensure_min_features, y_numeric, warn_on_dtype, estimator)\u001b[0m\n\u001b[1;32m    571\u001b[0m     X = check_array(X, accept_sparse, dtype, order, copy, force_all_finite,\n\u001b[1;32m    572\u001b[0m                     \u001b[0mensure_2d\u001b[0m\u001b[0;34m,\u001b[0m \u001b[0mallow_nd\u001b[0m\u001b[0;34m,\u001b[0m \u001b[0mensure_min_samples\u001b[0m\u001b[0;34m,\u001b[0m\u001b[0;34m\u001b[0m\u001b[0;34m\u001b[0m\u001b[0m\n\u001b[0;32m--> 573\u001b[0;31m                     ensure_min_features, warn_on_dtype, estimator)\n\u001b[0m\u001b[1;32m    574\u001b[0m     \u001b[0;32mif\u001b[0m \u001b[0mmulti_output\u001b[0m\u001b[0;34m:\u001b[0m\u001b[0;34m\u001b[0m\u001b[0;34m\u001b[0m\u001b[0m\n\u001b[1;32m    575\u001b[0m         y = check_array(y, 'csr', force_all_finite=True, ensure_2d=False,\n",
      "\u001b[0;32m/anaconda3/envs/PythonData/lib/python3.6/site-packages/sklearn/utils/validation.py\u001b[0m in \u001b[0;36mcheck_array\u001b[0;34m(array, accept_sparse, dtype, order, copy, force_all_finite, ensure_2d, allow_nd, ensure_min_samples, ensure_min_features, warn_on_dtype, estimator)\u001b[0m\n\u001b[1;32m    431\u001b[0m                                       force_all_finite)\n\u001b[1;32m    432\u001b[0m     \u001b[0;32melse\u001b[0m\u001b[0;34m:\u001b[0m\u001b[0;34m\u001b[0m\u001b[0;34m\u001b[0m\u001b[0m\n\u001b[0;32m--> 433\u001b[0;31m         \u001b[0marray\u001b[0m \u001b[0;34m=\u001b[0m \u001b[0mnp\u001b[0m\u001b[0;34m.\u001b[0m\u001b[0marray\u001b[0m\u001b[0;34m(\u001b[0m\u001b[0marray\u001b[0m\u001b[0;34m,\u001b[0m \u001b[0mdtype\u001b[0m\u001b[0;34m=\u001b[0m\u001b[0mdtype\u001b[0m\u001b[0;34m,\u001b[0m \u001b[0morder\u001b[0m\u001b[0;34m=\u001b[0m\u001b[0morder\u001b[0m\u001b[0;34m,\u001b[0m \u001b[0mcopy\u001b[0m\u001b[0;34m=\u001b[0m\u001b[0mcopy\u001b[0m\u001b[0;34m)\u001b[0m\u001b[0;34m\u001b[0m\u001b[0;34m\u001b[0m\u001b[0m\n\u001b[0m\u001b[1;32m    434\u001b[0m \u001b[0;34m\u001b[0m\u001b[0m\n\u001b[1;32m    435\u001b[0m         \u001b[0;32mif\u001b[0m \u001b[0mensure_2d\u001b[0m\u001b[0;34m:\u001b[0m\u001b[0;34m\u001b[0m\u001b[0;34m\u001b[0m\u001b[0m\n",
      "\u001b[0;31mValueError\u001b[0m: could not convert string to float: 'Low'"
     ]
    }
   ],
   "source": [
    "classifier.fit(X_train, y_train)"
   ]
  },
  {
   "cell_type": "markdown",
   "metadata": {},
   "source": [
    " Validate the model using the test data"
   ]
  },
  {
   "cell_type": "code",
   "execution_count": null,
   "metadata": {},
   "outputs": [],
   "source": [
    "print(f\"Training Data Score: {classifier.score(X_train, y_train)}\")\n",
    "print(f\"Testing Data Score: {classifier.score(X_test, y_test)}\")"
   ]
  },
  {
   "cell_type": "markdown",
   "metadata": {},
   "source": [
    "Make predictions"
   ]
  },
  {
   "cell_type": "code",
   "execution_count": null,
   "metadata": {},
   "outputs": [],
   "source": [
    "predictions = classifier.predict(X_test)\n",
    "print(f\"First 10 Predictions:   {predictions[:10]}\")\n",
    "print(f\"First 10 Actual labels: {y_test[:10].tolist()}\")"
   ]
  },
  {
   "cell_type": "code",
   "execution_count": null,
   "metadata": {},
   "outputs": [],
   "source": [
    "pd.DataFrame({\"Prediction\": predictions, \"Actual\": y_test}).reset_index(drop=True)"
   ]
  },
  {
   "cell_type": "code",
   "execution_count": null,
   "metadata": {},
   "outputs": [],
   "source": []
  },
  {
   "cell_type": "code",
   "execution_count": null,
   "metadata": {},
   "outputs": [],
   "source": []
  },
  {
   "cell_type": "code",
   "execution_count": null,
   "metadata": {},
   "outputs": [],
   "source": []
  },
  {
   "cell_type": "code",
   "execution_count": null,
   "metadata": {},
   "outputs": [],
   "source": []
  },
  {
   "cell_type": "markdown",
   "metadata": {},
   "source": [
    "## If have time run a Linear Regression on Color and Stautslevel - Childhood Respiratory Disease example "
   ]
  },
  {
   "cell_type": "code",
   "execution_count": null,
   "metadata": {},
   "outputs": [],
   "source": [
    "# Hot Encode Perf variable using Pandas get_dummies to convert categorical data \n",
    "#for Linear Regression below  - 5 min\n",
    "\n",
    "### BEGIN SOLUTION\n",
    "new_datat3 = pd.get_dummies(new_datat2)\n",
    "\n",
    "### END SOLUTION"
   ]
  },
  {
   "cell_type": "code",
   "execution_count": null,
   "metadata": {},
   "outputs": [],
   "source": [
    "new_datat3.head(2)"
   ]
  },
  {
   "cell_type": "code",
   "execution_count": null,
   "metadata": {},
   "outputs": [],
   "source": [
    "new_datat3.dtypes\n",
    "#may not be needed"
   ]
  },
  {
   "cell_type": "markdown",
   "metadata": {},
   "source": [
    "## Student example"
   ]
  },
  {
   "cell_type": "markdown",
   "metadata": {},
   "source": [
    "### 7) Train/Test dataset prep "
   ]
  },
  {
   "cell_type": "code",
   "execution_count": null,
   "metadata": {},
   "outputs": [],
   "source": [
    "# Extract \n",
    "new_datat2lin = new_datat2.loc[:, [\"cds\", \"ELA_Statuslevel\", \"ELA_Changelevel\", \n",
    "        \"ELA_Color\", \"ELA_Box\", \"MATH_Statuslevel\", \"MATH_Changelevel\", \"MATH_Color\", \n",
    "        \"MATH_Box\", \"perf\", \"perf_High\", \"perf_Low\", \"perf_Mid\", \"label\"]]\n",
    "new_datat2lin.head(3)"
   ]
  },
  {
   "cell_type": "code",
   "execution_count": null,
   "metadata": {},
   "outputs": [],
   "source": [
    "new_datat2lin.tail()"
   ]
  },
  {
   "cell_type": "code",
   "execution_count": null,
   "metadata": {},
   "outputs": [],
   "source": [
    "# look for missing values\n",
    "new_datat2lin.isnull().any()"
   ]
  },
  {
   "cell_type": "code",
   "execution_count": null,
   "metadata": {},
   "outputs": [],
   "source": [
    "# Hot Encode Perf variable using Pandas get_dummies to convert categorical data \n",
    "#for Linear Regression below  - 5 min\n",
    "\n",
    "### BEGIN SOLUTION\n",
    "new_datat2lin3 = pd.get_dummies(new_datat2lin)\n",
    "\n",
    "new_datat2lin3.head(3)\n",
    "### END SOLUTION"
   ]
  },
  {
   "cell_type": "code",
   "execution_count": null,
   "metadata": {},
   "outputs": [],
   "source": [
    "new_datat2lin3.shape"
   ]
  },
  {
   "cell_type": "code",
   "execution_count": null,
   "metadata": {},
   "outputs": [],
   "source": [
    "# create dataframe class_df for classification\n",
    "class_df = new_datat2.copy()\n",
    "class_df = class_df.drop([ 'ELA_Color'], axis=1)"
   ]
  },
  {
   "cell_type": "code",
   "execution_count": null,
   "metadata": {},
   "outputs": [],
   "source": [
    "#label encode final_grade\n",
    "from sklearn import preprocessing\n",
    "le = preprocessing.LabelEncoder()\n",
    "class_df.perf = le.fit_transform(class_df.perf)"
   ]
  },
  {
   "cell_type": "code",
   "execution_count": null,
   "metadata": {},
   "outputs": [],
   "source": [
    "# dataset train_test_split\n",
    "from sklearn.cross_validation import train_test_split\n",
    "X = class_df.drop('perf',axis=1)\n",
    "y = class_df.perf\n",
    "X_train,X_test,y_train,y_test=train_test_split(X,y,test_size=0.2)"
   ]
  },
  {
   "cell_type": "code",
   "execution_count": null,
   "metadata": {},
   "outputs": [],
   "source": [
    "# get dummy varibles \n",
    "X_train = pd.get_dummies(X_train)\n",
    "X_test = pd.get_dummies(X_test)"
   ]
  },
  {
   "cell_type": "code",
   "execution_count": null,
   "metadata": {},
   "outputs": [],
   "source": [
    "\n",
    "# see total number of features\n",
    "##14120 - kernel was restarting for DT/RF modelling\n",
    "len(list(X_train))"
   ]
  },
  {
   "cell_type": "markdown",
   "metadata": {},
   "source": [
    "### 7a) Logistic Regression "
   ]
  },
  {
   "cell_type": "code",
   "execution_count": null,
   "metadata": {},
   "outputs": [],
   "source": [
    "from sklearn.linear_model import LogisticRegression\n",
    "classifier = LogisticRegression()\n",
    "classifier"
   ]
  },
  {
   "cell_type": "markdown",
   "metadata": {},
   "source": [
    " Fit (train) or model using the training data"
   ]
  },
  {
   "cell_type": "markdown",
   "metadata": {},
   "source": [
    "# Q-Hitting kernal restarting"
   ]
  },
  {
   "cell_type": "code",
   "execution_count": null,
   "metadata": {},
   "outputs": [],
   "source": [
    "classifier.fit(X_train, y_train)"
   ]
  },
  {
   "cell_type": "markdown",
   "metadata": {},
   "source": [
    " Validate the model using the test data"
   ]
  },
  {
   "cell_type": "code",
   "execution_count": null,
   "metadata": {},
   "outputs": [],
   "source": [
    "print(f\"Training Data Score: {classifier.score(X_train, y_train)}\")\n",
    "print(f\"Testing Data Score: {classifier.score(X_test, y_test)}\")"
   ]
  },
  {
   "cell_type": "markdown",
   "metadata": {},
   "source": [
    "Make predictions"
   ]
  },
  {
   "cell_type": "code",
   "execution_count": null,
   "metadata": {},
   "outputs": [],
   "source": [
    "predictions = classifier.predict(X_test)\n",
    "print(f\"First 10 Predictions:   {predictions[:10]}\")\n",
    "print(f\"First 10 Actual labels: {y_test[:10].tolist()}\")"
   ]
  },
  {
   "cell_type": "code",
   "execution_count": null,
   "metadata": {},
   "outputs": [],
   "source": [
    "pd.DataFrame({\"Prediction\": predictions, \"Actual\": y_test}).reset_index(drop=True)"
   ]
  },
  {
   "cell_type": "code",
   "execution_count": null,
   "metadata": {},
   "outputs": [],
   "source": []
  },
  {
   "cell_type": "markdown",
   "metadata": {},
   "source": [
    "# Q-hitting kernal restarting\n",
    "### 7b) Decision Tree/Random Forest "
   ]
  },
  {
   "cell_type": "code",
   "execution_count": null,
   "metadata": {},
   "outputs": [],
   "source": [
    "# TRY LAST BECAUSE KERNEL ALWAYS RESTARTS - From Stu_trees example\n",
    "from sklearn import tree\n",
    "\n",
    "clf_dt = tree.DecisionTreeClassifier()\n",
    "#clf_dt = clf_dt.fit(X_train, y_train)\n",
    "#clf_dt.score(X_test, y_test)"
   ]
  },
  {
   "cell_type": "code",
   "execution_count": null,
   "metadata": {},
   "outputs": [],
   "source": [
    "from sklearn.ensemble import RandomForestClassifier\n",
    "#rf = RandomForestClassifier(n_estimators=200)\n",
    "rf = RandomForestClassifier(n_estimators=10)\n",
    "rf = rf.fit(X_train, y_train)\n",
    "rf.score(X_test, y_test)"
   ]
  },
  {
   "cell_type": "code",
   "execution_count": null,
   "metadata": {},
   "outputs": [],
   "source": [
    "sorted(zip(rf.feature_importances_, feature_names), reverse=True)"
   ]
  },
  {
   "cell_type": "markdown",
   "metadata": {},
   "source": [
    "## 7c)Stochastic Gradient Descent Classification"
   ]
  },
  {
   "cell_type": "code",
   "execution_count": null,
   "metadata": {},
   "outputs": [],
   "source": [
    "from sklearn.linear_model import SGDClassifier\n",
    "sgd = SGDClassifier()\n",
    "sf = sgd.fit(X_train, y_train)\n",
    "print(\"Stochastic Gradient Descent Model Score\" , \":\" , sf.score(X_train, y_train) , \",\" ,\n",
    "      \"Cross Validation Score\" ,\":\" , sf.score(X_test, y_test))"
   ]
  },
  {
   "cell_type": "code",
   "execution_count": null,
   "metadata": {},
   "outputs": [],
   "source": [
    "#RUN ABOVE"
   ]
  },
  {
   "cell_type": "markdown",
   "metadata": {},
   "source": [
    "## Childhood respiratory disease "
   ]
  },
  {
   "cell_type": "code",
   "execution_count": null,
   "metadata": {},
   "outputs": [],
   "source": [
    "# Assign X (data) and y (target)\n",
    "\n",
    "### BEGIN SOLUTION\n",
    "##Age', 'Height'\n",
    "X = new_datat2lin3[['cds', 'ELA_Statuslevel', 'ELA_Changelevel', 'ELA_Color', 'ELA_Box',\n",
    "                'MATH_Statuslevel', 'MATH_Changelevel', 'MATH_Color', 'MATH_Box','perf'\n",
    "               'label_no', 'label_yes' ]]\n",
    "y = new_datat2lin3[\"FEV\"].values.reshape(-1, 1)\n",
    "print(X.shape, y.shape)\n",
    "### END SOLUTION"
   ]
  }
 ],
 "metadata": {
  "kernelspec": {
   "display_name": "Python [conda env:PythonData]",
   "language": "python",
   "name": "conda-env-PythonData-py"
  },
  "language_info": {
   "codemirror_mode": {
    "name": "ipython",
    "version": 3
   },
   "file_extension": ".py",
   "mimetype": "text/x-python",
   "name": "python",
   "nbconvert_exporter": "python",
   "pygments_lexer": "ipython3",
   "version": "3.6.8"
  }
 },
 "nbformat": 4,
 "nbformat_minor": 2
}
