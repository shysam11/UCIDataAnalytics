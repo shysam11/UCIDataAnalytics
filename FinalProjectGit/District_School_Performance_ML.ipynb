{
 "cells": [
  {
   "cell_type": "markdown",
   "metadata": {},
   "source": [
    "#      Machine Learning to predict District/School Performance"
   ]
  },
  {
   "cell_type": "markdown",
   "metadata": {},
   "source": [
    "1. **Packages** - sklearn, pandas, numpy, matplotlib, seaborn\n",
    "2. **Datasource** - 2017 ELA and MATH data from California Department of Education website\n",
    "3. **Classification Models** - Logistic Regression, Random Forest, Stochastic Gradient Descent\n",
    "4. **Dashboard** - Tableau "
   ]
  },
  {
   "cell_type": "markdown",
   "metadata": {},
   "source": [
    "## 1) Import Packages"
   ]
  },
  {
   "cell_type": "code",
   "execution_count": 1,
   "metadata": {},
   "outputs": [],
   "source": [
    "import numpy as np\n",
    "%matplotlib inline\n",
    "import matplotlib.pyplot as plt\n",
    "import pandas as pd\n",
    "import os\n",
    "import seaborn as sns\n",
    "sns.set_style('whitegrid')\n",
    "import statsmodels.api as sm"
   ]
  },
  {
   "cell_type": "markdown",
   "metadata": {},
   "source": [
    "## 2) Load Dataset"
   ]
  },
  {
   "cell_type": "code",
   "execution_count": 2,
   "metadata": {},
   "outputs": [],
   "source": [
    "\n",
    "ela1 = pd.read_csv(os.path.join('/Users/sesamuel/Documents/Proj3/StudentAnalytics/csv/ela38download2017f.csv'))                     \n",
    "math1 = pd.read_csv(os.path.join('/Users/sesamuel/Documents/Proj3/StudentAnalytics/csv/math38download2017f.csv'))                     "
   ]
  },
  {
   "cell_type": "code",
   "execution_count": 3,
   "metadata": {},
   "outputs": [
    {
     "data": {
      "text/plain": [
       "(121959, 25)"
      ]
     },
     "execution_count": 3,
     "metadata": {},
     "output_type": "execute_result"
    }
   ],
   "source": [
    "ela1.shape"
   ]
  },
  {
   "cell_type": "code",
   "execution_count": 4,
   "metadata": {},
   "outputs": [
    {
     "data": {
      "text/html": [
       "<div>\n",
       "<style scoped>\n",
       "    .dataframe tbody tr th:only-of-type {\n",
       "        vertical-align: middle;\n",
       "    }\n",
       "\n",
       "    .dataframe tbody tr th {\n",
       "        vertical-align: top;\n",
       "    }\n",
       "\n",
       "    .dataframe thead th {\n",
       "        text-align: right;\n",
       "    }\n",
       "</style>\n",
       "<table border=\"1\" class=\"dataframe\">\n",
       "  <thead>\n",
       "    <tr style=\"text-align: right;\">\n",
       "      <th></th>\n",
       "      <th>cds</th>\n",
       "      <th>rtype</th>\n",
       "      <th>schoolname</th>\n",
       "      <th>districtname</th>\n",
       "      <th>countyname</th>\n",
       "      <th>charter_flag</th>\n",
       "      <th>coe_flag</th>\n",
       "      <th>studentgroup</th>\n",
       "      <th>currdenom</th>\n",
       "      <th>currstatus</th>\n",
       "      <th>...</th>\n",
       "      <th>color</th>\n",
       "      <th>box</th>\n",
       "      <th>caa_denom</th>\n",
       "      <th>caa_level1_num</th>\n",
       "      <th>caa_level1_pct</th>\n",
       "      <th>caa_level2_num</th>\n",
       "      <th>caa_level2_pct</th>\n",
       "      <th>caa_level3_num</th>\n",
       "      <th>caa_level3_pct</th>\n",
       "      <th>reportingyear</th>\n",
       "    </tr>\n",
       "  </thead>\n",
       "  <tbody>\n",
       "    <tr>\n",
       "      <th>0</th>\n",
       "      <td>1100170123968</td>\n",
       "      <td>S</td>\n",
       "      <td>Community School for Creative Education</td>\n",
       "      <td>Alameda County Office of Education</td>\n",
       "      <td>Alameda</td>\n",
       "      <td>Y</td>\n",
       "      <td>NaN</td>\n",
       "      <td>AA</td>\n",
       "      <td>12</td>\n",
       "      <td>-131.2</td>\n",
       "      <td>...</td>\n",
       "      <td>0</td>\n",
       "      <td>0</td>\n",
       "      <td>NaN</td>\n",
       "      <td>NaN</td>\n",
       "      <td>NaN</td>\n",
       "      <td>NaN</td>\n",
       "      <td>NaN</td>\n",
       "      <td>NaN</td>\n",
       "      <td>NaN</td>\n",
       "      <td>2017f</td>\n",
       "    </tr>\n",
       "    <tr>\n",
       "      <th>1</th>\n",
       "      <td>1100170123968</td>\n",
       "      <td>S</td>\n",
       "      <td>Community School for Creative Education</td>\n",
       "      <td>Alameda County Office of Education</td>\n",
       "      <td>Alameda</td>\n",
       "      <td>Y</td>\n",
       "      <td>NaN</td>\n",
       "      <td>AI</td>\n",
       "      <td>2</td>\n",
       "      <td>NaN</td>\n",
       "      <td>...</td>\n",
       "      <td>0</td>\n",
       "      <td>0</td>\n",
       "      <td>NaN</td>\n",
       "      <td>NaN</td>\n",
       "      <td>NaN</td>\n",
       "      <td>NaN</td>\n",
       "      <td>NaN</td>\n",
       "      <td>NaN</td>\n",
       "      <td>NaN</td>\n",
       "      <td>2017f</td>\n",
       "    </tr>\n",
       "  </tbody>\n",
       "</table>\n",
       "<p>2 rows × 25 columns</p>\n",
       "</div>"
      ],
      "text/plain": [
       "             cds rtype                               schoolname  \\\n",
       "0  1100170123968     S  Community School for Creative Education   \n",
       "1  1100170123968     S  Community School for Creative Education   \n",
       "\n",
       "                         districtname countyname charter_flag  coe_flag  \\\n",
       "0  Alameda County Office of Education    Alameda            Y       NaN   \n",
       "1  Alameda County Office of Education    Alameda            Y       NaN   \n",
       "\n",
       "  studentgroup  currdenom  currstatus      ...        color  box  caa_denom  \\\n",
       "0           AA         12      -131.2      ...            0    0        NaN   \n",
       "1           AI          2         NaN      ...            0    0        NaN   \n",
       "\n",
       "   caa_level1_num  caa_level1_pct  caa_level2_num  caa_level2_pct  \\\n",
       "0             NaN             NaN             NaN             NaN   \n",
       "1             NaN             NaN             NaN             NaN   \n",
       "\n",
       "   caa_level3_num  caa_level3_pct  reportingyear  \n",
       "0             NaN             NaN          2017f  \n",
       "1             NaN             NaN          2017f  \n",
       "\n",
       "[2 rows x 25 columns]"
      ]
     },
     "execution_count": 4,
     "metadata": {},
     "output_type": "execute_result"
    }
   ],
   "source": [
    "ela1.head(2)\n"
   ]
  },
  {
   "cell_type": "code",
   "execution_count": 5,
   "metadata": {},
   "outputs": [
    {
     "data": {
      "text/plain": [
       "(121910, 25)"
      ]
     },
     "execution_count": 5,
     "metadata": {},
     "output_type": "execute_result"
    }
   ],
   "source": [
    "math1.shape"
   ]
  },
  {
   "cell_type": "markdown",
   "metadata": {},
   "source": [
    "## 3) Data Preparation prior to train , test split"
   ]
  },
  {
   "cell_type": "code",
   "execution_count": 6,
   "metadata": {},
   "outputs": [
    {
     "data": {
      "text/plain": [
       "Index(['cds', 'rtype', 'schoolname', 'districtname', 'countyname',\n",
       "       'charter_flag', 'coe_flag', 'studentgroup', 'currdenom', 'currstatus',\n",
       "       'priordenom', 'priorstatus', 'change', 'statuslevel', 'changelevel',\n",
       "       'color', 'box', 'caa_denom', 'caa_level1_num', 'caa_level1_pct',\n",
       "       'caa_level2_num', 'caa_level2_pct', 'caa_level3_num', 'caa_level3_pct',\n",
       "       'reportingyear'],\n",
       "      dtype='object')"
      ]
     },
     "execution_count": 6,
     "metadata": {},
     "output_type": "execute_result"
    }
   ],
   "source": [
    "ela1.columns"
   ]
  },
  {
   "cell_type": "code",
   "execution_count": 7,
   "metadata": {},
   "outputs": [
    {
     "data": {
      "text/plain": [
       "cds                 int64\n",
       "rtype              object\n",
       "schoolname         object\n",
       "districtname       object\n",
       "countyname         object\n",
       "charter_flag       object\n",
       "coe_flag          float64\n",
       "studentgroup       object\n",
       "currdenom           int64\n",
       "currstatus        float64\n",
       "priordenom          int64\n",
       "priorstatus       float64\n",
       "change            float64\n",
       "statuslevel         int64\n",
       "changelevel         int64\n",
       "color               int64\n",
       "box                 int64\n",
       "caa_denom         float64\n",
       "caa_level1_num    float64\n",
       "caa_level1_pct    float64\n",
       "caa_level2_num    float64\n",
       "caa_level2_pct    float64\n",
       "caa_level3_num    float64\n",
       "caa_level3_pct    float64\n",
       "reportingyear      object\n",
       "dtype: object"
      ]
     },
     "execution_count": 7,
     "metadata": {},
     "output_type": "execute_result"
    }
   ],
   "source": [
    "ela1.dtypes"
   ]
  },
  {
   "cell_type": "code",
   "execution_count": 8,
   "metadata": {},
   "outputs": [
    {
     "data": {
      "text/plain": [
       "Index(['cds', 'rtype', 'schoolname', 'districtname', 'countyname',\n",
       "       'charter_flag', 'coe_flag', 'studentgroup', 'currdenom', 'currstatus',\n",
       "       'priordenom', 'priorstatus', 'change', 'statuslevel', 'changelevel',\n",
       "       'color', 'box', 'caa_denom', 'caa_level1_num', 'caa_level1_pct',\n",
       "       'caa_level2_num', 'caa_level2_pct', 'caa_level3_num', 'caa_level3_pct',\n",
       "       'reportingyear'],\n",
       "      dtype='object')"
      ]
     },
     "execution_count": 8,
     "metadata": {},
     "output_type": "execute_result"
    }
   ],
   "source": [
    "math1.columns"
   ]
  },
  {
   "cell_type": "code",
   "execution_count": 9,
   "metadata": {
    "scrolled": true
   },
   "outputs": [
    {
     "data": {
      "text/html": [
       "<div>\n",
       "<style scoped>\n",
       "    .dataframe tbody tr th:only-of-type {\n",
       "        vertical-align: middle;\n",
       "    }\n",
       "\n",
       "    .dataframe tbody tr th {\n",
       "        vertical-align: top;\n",
       "    }\n",
       "\n",
       "    .dataframe thead th {\n",
       "        text-align: right;\n",
       "    }\n",
       "</style>\n",
       "<table border=\"1\" class=\"dataframe\">\n",
       "  <thead>\n",
       "    <tr style=\"text-align: right;\">\n",
       "      <th></th>\n",
       "      <th>cds</th>\n",
       "      <th>rtype_x</th>\n",
       "      <th>schoolname_x</th>\n",
       "      <th>districtname_x</th>\n",
       "      <th>countyname_x</th>\n",
       "      <th>charter_flag_x</th>\n",
       "      <th>coe_flag_x</th>\n",
       "      <th>studentgroup_x</th>\n",
       "      <th>currdenom_x</th>\n",
       "      <th>currstatus_x</th>\n",
       "      <th>...</th>\n",
       "      <th>color_y</th>\n",
       "      <th>box_y</th>\n",
       "      <th>caa_denom_y</th>\n",
       "      <th>caa_level1_num_y</th>\n",
       "      <th>caa_level1_pct_y</th>\n",
       "      <th>caa_level2_num_y</th>\n",
       "      <th>caa_level2_pct_y</th>\n",
       "      <th>caa_level3_num_y</th>\n",
       "      <th>caa_level3_pct_y</th>\n",
       "      <th>reportingyear_y</th>\n",
       "    </tr>\n",
       "  </thead>\n",
       "  <tbody>\n",
       "    <tr>\n",
       "      <th>0</th>\n",
       "      <td>1100170123968</td>\n",
       "      <td>S</td>\n",
       "      <td>Community School for Creative Education</td>\n",
       "      <td>Alameda County Office of Education</td>\n",
       "      <td>Alameda</td>\n",
       "      <td>Y</td>\n",
       "      <td>NaN</td>\n",
       "      <td>AA</td>\n",
       "      <td>12</td>\n",
       "      <td>-131.2</td>\n",
       "      <td>...</td>\n",
       "      <td>0</td>\n",
       "      <td>0</td>\n",
       "      <td>NaN</td>\n",
       "      <td>NaN</td>\n",
       "      <td>NaN</td>\n",
       "      <td>NaN</td>\n",
       "      <td>NaN</td>\n",
       "      <td>NaN</td>\n",
       "      <td>NaN</td>\n",
       "      <td>2017f</td>\n",
       "    </tr>\n",
       "    <tr>\n",
       "      <th>1</th>\n",
       "      <td>1100170123968</td>\n",
       "      <td>S</td>\n",
       "      <td>Community School for Creative Education</td>\n",
       "      <td>Alameda County Office of Education</td>\n",
       "      <td>Alameda</td>\n",
       "      <td>Y</td>\n",
       "      <td>NaN</td>\n",
       "      <td>AA</td>\n",
       "      <td>12</td>\n",
       "      <td>-131.2</td>\n",
       "      <td>...</td>\n",
       "      <td>0</td>\n",
       "      <td>0</td>\n",
       "      <td>NaN</td>\n",
       "      <td>NaN</td>\n",
       "      <td>NaN</td>\n",
       "      <td>NaN</td>\n",
       "      <td>NaN</td>\n",
       "      <td>NaN</td>\n",
       "      <td>NaN</td>\n",
       "      <td>2017f</td>\n",
       "    </tr>\n",
       "    <tr>\n",
       "      <th>2</th>\n",
       "      <td>1100170123968</td>\n",
       "      <td>S</td>\n",
       "      <td>Community School for Creative Education</td>\n",
       "      <td>Alameda County Office of Education</td>\n",
       "      <td>Alameda</td>\n",
       "      <td>Y</td>\n",
       "      <td>NaN</td>\n",
       "      <td>AA</td>\n",
       "      <td>12</td>\n",
       "      <td>-131.2</td>\n",
       "      <td>...</td>\n",
       "      <td>2</td>\n",
       "      <td>180</td>\n",
       "      <td>0.0</td>\n",
       "      <td>NaN</td>\n",
       "      <td>NaN</td>\n",
       "      <td>NaN</td>\n",
       "      <td>NaN</td>\n",
       "      <td>NaN</td>\n",
       "      <td>NaN</td>\n",
       "      <td>2017f</td>\n",
       "    </tr>\n",
       "    <tr>\n",
       "      <th>3</th>\n",
       "      <td>1100170123968</td>\n",
       "      <td>S</td>\n",
       "      <td>Community School for Creative Education</td>\n",
       "      <td>Alameda County Office of Education</td>\n",
       "      <td>Alameda</td>\n",
       "      <td>Y</td>\n",
       "      <td>NaN</td>\n",
       "      <td>AA</td>\n",
       "      <td>12</td>\n",
       "      <td>-131.2</td>\n",
       "      <td>...</td>\n",
       "      <td>0</td>\n",
       "      <td>0</td>\n",
       "      <td>NaN</td>\n",
       "      <td>NaN</td>\n",
       "      <td>NaN</td>\n",
       "      <td>NaN</td>\n",
       "      <td>NaN</td>\n",
       "      <td>NaN</td>\n",
       "      <td>NaN</td>\n",
       "      <td>2017f</td>\n",
       "    </tr>\n",
       "    <tr>\n",
       "      <th>4</th>\n",
       "      <td>1100170123968</td>\n",
       "      <td>S</td>\n",
       "      <td>Community School for Creative Education</td>\n",
       "      <td>Alameda County Office of Education</td>\n",
       "      <td>Alameda</td>\n",
       "      <td>Y</td>\n",
       "      <td>NaN</td>\n",
       "      <td>AA</td>\n",
       "      <td>12</td>\n",
       "      <td>-131.2</td>\n",
       "      <td>...</td>\n",
       "      <td>3</td>\n",
       "      <td>200</td>\n",
       "      <td>NaN</td>\n",
       "      <td>NaN</td>\n",
       "      <td>NaN</td>\n",
       "      <td>NaN</td>\n",
       "      <td>NaN</td>\n",
       "      <td>NaN</td>\n",
       "      <td>NaN</td>\n",
       "      <td>2017f</td>\n",
       "    </tr>\n",
       "  </tbody>\n",
       "</table>\n",
       "<p>5 rows × 49 columns</p>\n",
       "</div>"
      ],
      "text/plain": [
       "             cds rtype_x                             schoolname_x  \\\n",
       "0  1100170123968       S  Community School for Creative Education   \n",
       "1  1100170123968       S  Community School for Creative Education   \n",
       "2  1100170123968       S  Community School for Creative Education   \n",
       "3  1100170123968       S  Community School for Creative Education   \n",
       "4  1100170123968       S  Community School for Creative Education   \n",
       "\n",
       "                       districtname_x countyname_x charter_flag_x  coe_flag_x  \\\n",
       "0  Alameda County Office of Education      Alameda              Y         NaN   \n",
       "1  Alameda County Office of Education      Alameda              Y         NaN   \n",
       "2  Alameda County Office of Education      Alameda              Y         NaN   \n",
       "3  Alameda County Office of Education      Alameda              Y         NaN   \n",
       "4  Alameda County Office of Education      Alameda              Y         NaN   \n",
       "\n",
       "  studentgroup_x  currdenom_x  currstatus_x       ...         color_y  box_y  \\\n",
       "0             AA           12        -131.2       ...               0      0   \n",
       "1             AA           12        -131.2       ...               0      0   \n",
       "2             AA           12        -131.2       ...               2    180   \n",
       "3             AA           12        -131.2       ...               0      0   \n",
       "4             AA           12        -131.2       ...               3    200   \n",
       "\n",
       "   caa_denom_y  caa_level1_num_y  caa_level1_pct_y  caa_level2_num_y  \\\n",
       "0          NaN               NaN               NaN               NaN   \n",
       "1          NaN               NaN               NaN               NaN   \n",
       "2          0.0               NaN               NaN               NaN   \n",
       "3          NaN               NaN               NaN               NaN   \n",
       "4          NaN               NaN               NaN               NaN   \n",
       "\n",
       "   caa_level2_pct_y  caa_level3_num_y  caa_level3_pct_y  reportingyear_y  \n",
       "0               NaN               NaN               NaN            2017f  \n",
       "1               NaN               NaN               NaN            2017f  \n",
       "2               NaN               NaN               NaN            2017f  \n",
       "3               NaN               NaN               NaN            2017f  \n",
       "4               NaN               NaN               NaN            2017f  \n",
       "\n",
       "[5 rows x 49 columns]"
      ]
     },
     "execution_count": 9,
     "metadata": {},
     "output_type": "execute_result"
    }
   ],
   "source": [
    " # Merge the two DataFrames together based on the cds they share\n",
    "acadperft = pd.merge(ela1, math1, on=\"cds\")\n",
    "acadperft.head()"
   ]
  },
  {
   "cell_type": "code",
   "execution_count": 10,
   "metadata": {},
   "outputs": [
    {
     "data": {
      "text/plain": [
       "(1805242, 49)"
      ]
     },
     "execution_count": 10,
     "metadata": {},
     "output_type": "execute_result"
    }
   ],
   "source": [
    "acadperft.shape"
   ]
  },
  {
   "cell_type": "code",
   "execution_count": 11,
   "metadata": {},
   "outputs": [
    {
     "data": {
      "text/html": [
       "<div>\n",
       "<style scoped>\n",
       "    .dataframe tbody tr th:only-of-type {\n",
       "        vertical-align: middle;\n",
       "    }\n",
       "\n",
       "    .dataframe tbody tr th {\n",
       "        vertical-align: top;\n",
       "    }\n",
       "\n",
       "    .dataframe thead th {\n",
       "        text-align: right;\n",
       "    }\n",
       "</style>\n",
       "<table border=\"1\" class=\"dataframe\">\n",
       "  <thead>\n",
       "    <tr style=\"text-align: right;\">\n",
       "      <th></th>\n",
       "      <th>cds</th>\n",
       "      <th>schoolname_x</th>\n",
       "      <th>districtname_x</th>\n",
       "      <th>countyname_x</th>\n",
       "      <th>studentgroup_x</th>\n",
       "      <th>statuslevel_x</th>\n",
       "      <th>changelevel_x</th>\n",
       "      <th>color_x</th>\n",
       "      <th>box_x</th>\n",
       "      <th>schoolname_y</th>\n",
       "      <th>districtname_y</th>\n",
       "      <th>countyname_y</th>\n",
       "      <th>studentgroup_y</th>\n",
       "      <th>statuslevel_y</th>\n",
       "      <th>changelevel_y</th>\n",
       "      <th>color_y</th>\n",
       "      <th>box_y</th>\n",
       "    </tr>\n",
       "  </thead>\n",
       "  <tbody>\n",
       "    <tr>\n",
       "      <th>0</th>\n",
       "      <td>1100170123968</td>\n",
       "      <td>Community School for Creative Education</td>\n",
       "      <td>Alameda County Office of Education</td>\n",
       "      <td>Alameda</td>\n",
       "      <td>AA</td>\n",
       "      <td>1</td>\n",
       "      <td>1</td>\n",
       "      <td>0</td>\n",
       "      <td>0</td>\n",
       "      <td>Community School for Creative Education</td>\n",
       "      <td>Alameda County Office of Education</td>\n",
       "      <td>Alameda</td>\n",
       "      <td>AA</td>\n",
       "      <td>2</td>\n",
       "      <td>5</td>\n",
       "      <td>0</td>\n",
       "      <td>0</td>\n",
       "    </tr>\n",
       "    <tr>\n",
       "      <th>1</th>\n",
       "      <td>1100170123968</td>\n",
       "      <td>Community School for Creative Education</td>\n",
       "      <td>Alameda County Office of Education</td>\n",
       "      <td>Alameda</td>\n",
       "      <td>AA</td>\n",
       "      <td>1</td>\n",
       "      <td>1</td>\n",
       "      <td>0</td>\n",
       "      <td>0</td>\n",
       "      <td>Community School for Creative Education</td>\n",
       "      <td>Alameda County Office of Education</td>\n",
       "      <td>Alameda</td>\n",
       "      <td>AI</td>\n",
       "      <td>0</td>\n",
       "      <td>0</td>\n",
       "      <td>0</td>\n",
       "      <td>0</td>\n",
       "    </tr>\n",
       "    <tr>\n",
       "      <th>2</th>\n",
       "      <td>1100170123968</td>\n",
       "      <td>Community School for Creative Education</td>\n",
       "      <td>Alameda County Office of Education</td>\n",
       "      <td>Alameda</td>\n",
       "      <td>AA</td>\n",
       "      <td>1</td>\n",
       "      <td>1</td>\n",
       "      <td>0</td>\n",
       "      <td>0</td>\n",
       "      <td>Community School for Creative Education</td>\n",
       "      <td>Alameda County Office of Education</td>\n",
       "      <td>Alameda</td>\n",
       "      <td>ALL</td>\n",
       "      <td>2</td>\n",
       "      <td>3</td>\n",
       "      <td>2</td>\n",
       "      <td>180</td>\n",
       "    </tr>\n",
       "    <tr>\n",
       "      <th>3</th>\n",
       "      <td>1100170123968</td>\n",
       "      <td>Community School for Creative Education</td>\n",
       "      <td>Alameda County Office of Education</td>\n",
       "      <td>Alameda</td>\n",
       "      <td>AA</td>\n",
       "      <td>1</td>\n",
       "      <td>1</td>\n",
       "      <td>0</td>\n",
       "      <td>0</td>\n",
       "      <td>Community School for Creative Education</td>\n",
       "      <td>Alameda County Office of Education</td>\n",
       "      <td>Alameda</td>\n",
       "      <td>AS</td>\n",
       "      <td>0</td>\n",
       "      <td>0</td>\n",
       "      <td>0</td>\n",
       "      <td>0</td>\n",
       "    </tr>\n",
       "    <tr>\n",
       "      <th>4</th>\n",
       "      <td>1100170123968</td>\n",
       "      <td>Community School for Creative Education</td>\n",
       "      <td>Alameda County Office of Education</td>\n",
       "      <td>Alameda</td>\n",
       "      <td>AA</td>\n",
       "      <td>1</td>\n",
       "      <td>1</td>\n",
       "      <td>0</td>\n",
       "      <td>0</td>\n",
       "      <td>Community School for Creative Education</td>\n",
       "      <td>Alameda County Office of Education</td>\n",
       "      <td>Alameda</td>\n",
       "      <td>EL</td>\n",
       "      <td>2</td>\n",
       "      <td>5</td>\n",
       "      <td>3</td>\n",
       "      <td>200</td>\n",
       "    </tr>\n",
       "  </tbody>\n",
       "</table>\n",
       "</div>"
      ],
      "text/plain": [
       "             cds                             schoolname_x  \\\n",
       "0  1100170123968  Community School for Creative Education   \n",
       "1  1100170123968  Community School for Creative Education   \n",
       "2  1100170123968  Community School for Creative Education   \n",
       "3  1100170123968  Community School for Creative Education   \n",
       "4  1100170123968  Community School for Creative Education   \n",
       "\n",
       "                       districtname_x countyname_x studentgroup_x  \\\n",
       "0  Alameda County Office of Education      Alameda             AA   \n",
       "1  Alameda County Office of Education      Alameda             AA   \n",
       "2  Alameda County Office of Education      Alameda             AA   \n",
       "3  Alameda County Office of Education      Alameda             AA   \n",
       "4  Alameda County Office of Education      Alameda             AA   \n",
       "\n",
       "   statuslevel_x  changelevel_x  color_x  box_x  \\\n",
       "0              1              1        0      0   \n",
       "1              1              1        0      0   \n",
       "2              1              1        0      0   \n",
       "3              1              1        0      0   \n",
       "4              1              1        0      0   \n",
       "\n",
       "                              schoolname_y  \\\n",
       "0  Community School for Creative Education   \n",
       "1  Community School for Creative Education   \n",
       "2  Community School for Creative Education   \n",
       "3  Community School for Creative Education   \n",
       "4  Community School for Creative Education   \n",
       "\n",
       "                       districtname_y countyname_y studentgroup_y  \\\n",
       "0  Alameda County Office of Education      Alameda             AA   \n",
       "1  Alameda County Office of Education      Alameda             AI   \n",
       "2  Alameda County Office of Education      Alameda            ALL   \n",
       "3  Alameda County Office of Education      Alameda             AS   \n",
       "4  Alameda County Office of Education      Alameda             EL   \n",
       "\n",
       "   statuslevel_y  changelevel_y  color_y  box_y  \n",
       "0              2              5        0      0  \n",
       "1              0              0        0      0  \n",
       "2              2              3        2    180  \n",
       "3              0              0        0      0  \n",
       "4              2              5        3    200  "
      ]
     },
     "execution_count": 11,
     "metadata": {},
     "output_type": "execute_result"
    }
   ],
   "source": [
    "# Extract \n",
    "acadperfte_df = acadperft.loc[:, [\"cds\", \"schoolname_x\", \"districtname_x\",\"countyname_x\",\"studentgroup_x\",\n",
    "                 \"statuslevel_x\",\"changelevel_x\", \"color_x\", \"box_x\",\n",
    "\"schoolname_y\", \"districtname_y\",\"countyname_y\",\"studentgroup_y\",\n",
    "                 \"statuslevel_y\",\"changelevel_y\", \"color_y\", \"box_y\"]]\n",
    "acadperfte_df.head()"
   ]
  },
  {
   "cell_type": "code",
   "execution_count": 12,
   "metadata": {},
   "outputs": [
    {
     "data": {
      "text/plain": [
       "Index(['cds', 'ELA_Schoolname', 'ELA_Districtname', 'ELA_Countyname',\n",
       "       'ELA_Studentgroup', 'ELA_Statuslevel', 'ELA_Changelevel', 'ELA_Color',\n",
       "       'ELA_Box', 'MATH_Schoolname', 'MATH_Districtname', 'MATH_Countyname',\n",
       "       'MATH_Studentgroup', 'MATH_Statuslevel', 'MATH_Changelevel',\n",
       "       'MATH_Color', 'MATH_Box'],\n",
       "      dtype='object')"
      ]
     },
     "execution_count": 12,
     "metadata": {},
     "output_type": "execute_result"
    }
   ],
   "source": [
    "# Rename columns so that they are differentiated\n",
    "acadperfte_df= acadperfte_df.rename(columns={\"schoolname_x\": \"ELA_Schoolname\", \"districtname_x\": \"ELA_Districtname\", \"countyname_x\": \"ELA_Countyname\",\n",
    "            \"studentgroup_x\": \"ELA_Studentgroup\", \"statuslevel_x\": \"ELA_Statuslevel\", \"changelevel_x\": \"ELA_Changelevel\",\n",
    "            \"color_x\": \"ELA_Color\", \"box_x\": \"ELA_Box\"})\n",
    "\n",
    "acadperfte_df = acadperfte_df.rename(columns={\"schoolname_y\": \"MATH_Schoolname\", \"districtname_y\": \"MATH_Districtname\", \"countyname_y\": \"MATH_Countyname\",\n",
    "            \"studentgroup_y\": \"MATH_Studentgroup\", \"statuslevel_y\": \"MATH_Statuslevel\", \"changelevel_y\": \"MATH_Changelevel\",\n",
    "            \"color_y\": \"MATH_Color\", \"box_y\": \"MATH_Box\"})\n",
    "\n",
    "acadperfte_df.columns"
   ]
  },
  {
   "cell_type": "code",
   "execution_count": 13,
   "metadata": {},
   "outputs": [
    {
     "data": {
      "text/plain": [
       "cds                   int64\n",
       "ELA_Schoolname       object\n",
       "ELA_Districtname     object\n",
       "ELA_Countyname       object\n",
       "ELA_Studentgroup     object\n",
       "ELA_Statuslevel       int64\n",
       "ELA_Changelevel       int64\n",
       "ELA_Color             int64\n",
       "ELA_Box               int64\n",
       "MATH_Schoolname      object\n",
       "MATH_Districtname    object\n",
       "MATH_Countyname      object\n",
       "MATH_Studentgroup    object\n",
       "MATH_Statuslevel      int64\n",
       "MATH_Changelevel      int64\n",
       "MATH_Color            int64\n",
       "MATH_Box              int64\n",
       "dtype: object"
      ]
     },
     "execution_count": 13,
     "metadata": {},
     "output_type": "execute_result"
    }
   ],
   "source": [
    "acadperfte_df.dtypes"
   ]
  },
  {
   "cell_type": "markdown",
   "metadata": {},
   "source": [
    "## 3a) Create a variable  - perf  \n",
    "Better the color better the perf"
   ]
  },
  {
   "attachments": {
    "image.png": {
     "image/png": "[encoded data removed]"
    }
   },
   "cell_type": "markdown",
   "metadata": {},
   "source": [
    "                                 Keycode for ELA_Color \n",
    "![image.png](attachment:image.png)"
   ]
  },
  {
   "cell_type": "code",
   "execution_count": 14,
   "metadata": {
    "scrolled": true
   },
   "outputs": [
    {
     "data": {
      "text/html": [
       "<div>\n",
       "<style scoped>\n",
       "    .dataframe tbody tr th:only-of-type {\n",
       "        vertical-align: middle;\n",
       "    }\n",
       "\n",
       "    .dataframe tbody tr th {\n",
       "        vertical-align: top;\n",
       "    }\n",
       "\n",
       "    .dataframe thead th {\n",
       "        text-align: right;\n",
       "    }\n",
       "</style>\n",
       "<table border=\"1\" class=\"dataframe\">\n",
       "  <thead>\n",
       "    <tr style=\"text-align: right;\">\n",
       "      <th></th>\n",
       "      <th>cds</th>\n",
       "      <th>ELA_Schoolname</th>\n",
       "      <th>ELA_Districtname</th>\n",
       "      <th>ELA_Countyname</th>\n",
       "      <th>ELA_Studentgroup</th>\n",
       "      <th>ELA_Statuslevel</th>\n",
       "      <th>ELA_Changelevel</th>\n",
       "      <th>ELA_Color</th>\n",
       "      <th>ELA_Box</th>\n",
       "      <th>MATH_Schoolname</th>\n",
       "      <th>MATH_Districtname</th>\n",
       "      <th>MATH_Countyname</th>\n",
       "      <th>MATH_Studentgroup</th>\n",
       "      <th>MATH_Statuslevel</th>\n",
       "      <th>MATH_Changelevel</th>\n",
       "      <th>MATH_Color</th>\n",
       "      <th>MATH_Box</th>\n",
       "      <th>perf</th>\n",
       "    </tr>\n",
       "  </thead>\n",
       "  <tbody>\n",
       "    <tr>\n",
       "      <th>0</th>\n",
       "      <td>1100170123968</td>\n",
       "      <td>Community School for Creative Education</td>\n",
       "      <td>Alameda County Office of Education</td>\n",
       "      <td>Alameda</td>\n",
       "      <td>AA</td>\n",
       "      <td>1</td>\n",
       "      <td>1</td>\n",
       "      <td>0</td>\n",
       "      <td>0</td>\n",
       "      <td>Community School for Creative Education</td>\n",
       "      <td>Alameda County Office of Education</td>\n",
       "      <td>Alameda</td>\n",
       "      <td>AA</td>\n",
       "      <td>2</td>\n",
       "      <td>5</td>\n",
       "      <td>0</td>\n",
       "      <td>0</td>\n",
       "      <td>Low</td>\n",
       "    </tr>\n",
       "    <tr>\n",
       "      <th>1</th>\n",
       "      <td>1100170123968</td>\n",
       "      <td>Community School for Creative Education</td>\n",
       "      <td>Alameda County Office of Education</td>\n",
       "      <td>Alameda</td>\n",
       "      <td>AA</td>\n",
       "      <td>1</td>\n",
       "      <td>1</td>\n",
       "      <td>0</td>\n",
       "      <td>0</td>\n",
       "      <td>Community School for Creative Education</td>\n",
       "      <td>Alameda County Office of Education</td>\n",
       "      <td>Alameda</td>\n",
       "      <td>AI</td>\n",
       "      <td>0</td>\n",
       "      <td>0</td>\n",
       "      <td>0</td>\n",
       "      <td>0</td>\n",
       "      <td>Low</td>\n",
       "    </tr>\n",
       "  </tbody>\n",
       "</table>\n",
       "</div>"
      ],
      "text/plain": [
       "             cds                           ELA_Schoolname  \\\n",
       "0  1100170123968  Community School for Creative Education   \n",
       "1  1100170123968  Community School for Creative Education   \n",
       "\n",
       "                     ELA_Districtname ELA_Countyname ELA_Studentgroup  \\\n",
       "0  Alameda County Office of Education        Alameda               AA   \n",
       "1  Alameda County Office of Education        Alameda               AA   \n",
       "\n",
       "   ELA_Statuslevel  ELA_Changelevel  ELA_Color  ELA_Box  \\\n",
       "0                1                1          0        0   \n",
       "1                1                1          0        0   \n",
       "\n",
       "                           MATH_Schoolname  \\\n",
       "0  Community School for Creative Education   \n",
       "1  Community School for Creative Education   \n",
       "\n",
       "                    MATH_Districtname MATH_Countyname MATH_Studentgroup  \\\n",
       "0  Alameda County Office of Education         Alameda                AA   \n",
       "1  Alameda County Office of Education         Alameda                AI   \n",
       "\n",
       "   MATH_Statuslevel  MATH_Changelevel  MATH_Color  MATH_Box perf  \n",
       "0                 2                 5           0         0  Low  \n",
       "1                 0                 0           0         0  Low  "
      ]
     },
     "execution_count": 14,
     "metadata": {},
     "output_type": "execute_result"
    }
   ],
   "source": [
    "# Create a categorical label from Color # Good:15~20 Fair:10~14 Poor:0~9\n",
    "acadperfte_df['perf'] = 'na'\n",
    "acadperfte_df.loc[(acadperfte_df.ELA_Color >= 4) , 'perf'] = 'High' \n",
    "acadperfte_df.loc[(acadperfte_df.ELA_Color >= 3) & (acadperfte_df.ELA_Color < 4) , 'perf'] = 'Mid' \n",
    "acadperfte_df.loc[(acadperfte_df.ELA_Color >= 0) & (acadperfte_df.ELA_Color <= 2) , 'perf'] = 'Low' \n",
    "acadperfte_df.loc[(acadperfte_df.MATH_Color >= 4) , 'perf'] = 'High' \n",
    "acadperfte_df.loc[(acadperfte_df.MATH_Color >= 3) & (acadperfte_df.MATH_Color < 4) , 'perf'] = 'Mid' \n",
    "acadperfte_df.loc[(acadperfte_df.MATH_Color >= 0) & (acadperfte_df.MATH_Color <= 2) , 'perf'] = 'Low' \n",
    "acadperfte_df.head(2)"
   ]
  },
  {
   "cell_type": "code",
   "execution_count": 15,
   "metadata": {
    "scrolled": true
   },
   "outputs": [
    {
     "data": {
      "text/plain": [
       "0    1132111\n",
       "2     256645\n",
       "3     150987\n",
       "4     124966\n",
       "1      88064\n",
       "5      52469\n",
       "Name: ELA_Color, dtype: int64"
      ]
     },
     "execution_count": 15,
     "metadata": {},
     "output_type": "execute_result"
    }
   ],
   "source": [
    "acadperfte_df['ELA_Color'].value_counts()"
   ]
  },
  {
   "cell_type": "code",
   "execution_count": 16,
   "metadata": {},
   "outputs": [
    {
     "data": {
      "text/plain": [
       "0    1132690\n",
       "2     241446\n",
       "3     176773\n",
       "4     120905\n",
       "1      76286\n",
       "5      57142\n",
       "Name: MATH_Color, dtype: int64"
      ]
     },
     "execution_count": 16,
     "metadata": {},
     "output_type": "execute_result"
    }
   ],
   "source": [
    "acadperfte_df['MATH_Color'].value_counts()"
   ]
  },
  {
   "cell_type": "markdown",
   "metadata": {},
   "source": [
    "## 3b) Handling Missing values"
   ]
  },
  {
   "cell_type": "code",
   "execution_count": 17,
   "metadata": {},
   "outputs": [
    {
     "data": {
      "text/plain": [
       "cds                  False\n",
       "ELA_Schoolname        True\n",
       "ELA_Districtname     False\n",
       "ELA_Countyname       False\n",
       "ELA_Studentgroup     False\n",
       "ELA_Statuslevel      False\n",
       "ELA_Changelevel      False\n",
       "ELA_Color            False\n",
       "ELA_Box              False\n",
       "MATH_Schoolname       True\n",
       "MATH_Districtname    False\n",
       "MATH_Countyname      False\n",
       "MATH_Studentgroup    False\n",
       "MATH_Statuslevel     False\n",
       "MATH_Changelevel     False\n",
       "MATH_Color           False\n",
       "MATH_Box             False\n",
       "perf                 False\n",
       "dtype: bool"
      ]
     },
     "execution_count": 17,
     "metadata": {},
     "output_type": "execute_result"
    }
   ],
   "source": [
    "# look for missing values\n",
    "acadperfte_df.isnull().any()"
   ]
  },
  {
   "cell_type": "code",
   "execution_count": 18,
   "metadata": {},
   "outputs": [
    {
     "data": {
      "text/plain": [
       "(1805242, 18)"
      ]
     },
     "execution_count": 18,
     "metadata": {},
     "output_type": "execute_result"
    }
   ],
   "source": [
    "acadperfte_df.shape"
   ]
  },
  {
   "cell_type": "code",
   "execution_count": 19,
   "metadata": {},
   "outputs": [],
   "source": [
    "# making new data frame with dropped NA values \n",
    "new_datat1 = acadperfte_df.dropna(axis = 0, how ='any')"
   ]
  },
  {
   "cell_type": "code",
   "execution_count": 20,
   "metadata": {},
   "outputs": [
    {
     "data": {
      "text/plain": [
       "(1614245, 18)"
      ]
     },
     "execution_count": 20,
     "metadata": {},
     "output_type": "execute_result"
    }
   ],
   "source": [
    "new_datat1.shape"
   ]
  },
  {
   "cell_type": "code",
   "execution_count": 21,
   "metadata": {},
   "outputs": [
    {
     "data": {
      "text/plain": [
       "0    1036147\n",
       "2     217477\n",
       "3     131688\n",
       "4     107171\n",
       "1      76589\n",
       "5      45173\n",
       "Name: ELA_Color, dtype: int64"
      ]
     },
     "execution_count": 21,
     "metadata": {},
     "output_type": "execute_result"
    }
   ],
   "source": [
    "new_datat1['ELA_Color'].value_counts()"
   ]
  },
  {
   "cell_type": "markdown",
   "metadata": {},
   "source": [
    "## 4)Exploratory Data Analysis"
   ]
  },
  {
   "cell_type": "markdown",
   "metadata": {},
   "source": [
    "### 4a)Visually analysing ELA_Color distribution"
   ]
  },
  {
   "attachments": {
    "image.png": {
     "image/png": "[encoded data removed]"
    }
   },
   "cell_type": "markdown",
   "metadata": {},
   "source": [
    "                                 Keycode for ELA_Color \n",
    "![image.png](attachment:image.png)"
   ]
  },
  {
   "cell_type": "code",
   "execution_count": 22,
   "metadata": {},
   "outputs": [
    {
     "data": {
      "text/plain": [
       "<matplotlib.axes._subplots.AxesSubplot at 0x1046f7198>"
      ]
     },
     "execution_count": 22,
     "metadata": {},
     "output_type": "execute_result"
    },
    {
     "data": {
      "image/png": "[encoded data removed]",
      "text/plain": [
       "<Figure size 432x288 with 1 Axes>"
      ]
     },
     "metadata": {},
     "output_type": "display_data"
    }
   ],
   "source": [
    "sns.countplot(x=\"ELA_Color\", data=new_datat1)"
   ]
  },
  {
   "cell_type": "code",
   "execution_count": 23,
   "metadata": {},
   "outputs": [
    {
     "data": {
      "text/plain": [
       "2    217477\n",
       "3    131688\n",
       "4    107171\n",
       "1     76589\n",
       "5     45173\n",
       "Name: ELA_Color, dtype: int64"
      ]
     },
     "execution_count": 23,
     "metadata": {},
     "output_type": "execute_result"
    }
   ],
   "source": [
    "#High number of Color=0 due to no data and could give  poor outcome .\n",
    "#Hence lets work with those that have data \n",
    "new_datat2=new_datat1[new_datat1.ELA_Color != 0]\n",
    "new_datat2['ELA_Color'].value_counts()"
   ]
  },
  {
   "cell_type": "markdown",
   "metadata": {},
   "source": [
    "## <font color=blue>Googled \"top public elementary school and <font color=magenta>Bonita Canyon</font> popped up!\"   -        So let's find out if my plot will display accordingly</font>\n"
   ]
  },
  {
   "cell_type": "code",
   "execution_count": 24,
   "metadata": {},
   "outputs": [],
   "source": [
    "new_datatz=new_datat2[new_datat2.ELA_Schoolname == 'Bonita Canyon Elementary']"
   ]
  },
  {
   "cell_type": "code",
   "execution_count": 25,
   "metadata": {
    "scrolled": true
   },
   "outputs": [
    {
     "data": {
      "text/plain": [
       "<matplotlib.axes._subplots.AxesSubplot at 0x1051720f0>"
      ]
     },
     "execution_count": 25,
     "metadata": {},
     "output_type": "execute_result"
    },
    {
     "data": {
      "image/png": "[encoded data removed]",
      "text/plain": [
       "<Figure size 432x288 with 1 Axes>"
      ]
     },
     "metadata": {},
     "output_type": "display_data"
    }
   ],
   "source": [
    "sns.countplot(x=\"ELA_Color\", data=new_datatz)"
   ]
  },
  {
   "cell_type": "markdown",
   "metadata": {},
   "source": [
    "## <font color=green>\"4\" means being in the second top color code category for ELA!  So plot is ok....let's move on!</font>"
   ]
  },
  {
   "attachments": {
    "image.png": {
     "image/png": "[encoded data removed]"
    }
   },
   "cell_type": "markdown",
   "metadata": {},
   "source": [
    "                                 Keycode for ELA_Color \n",
    "![image.png](attachment:image.png)"
   ]
  },
  {
   "cell_type": "code",
   "execution_count": 26,
   "metadata": {
    "scrolled": true
   },
   "outputs": [
    {
     "data": {
      "text/plain": [
       "0    1036651\n",
       "2     202442\n",
       "3     153937\n",
       "4     105092\n",
       "1      66475\n",
       "5      49648\n",
       "Name: MATH_Color, dtype: int64"
      ]
     },
     "execution_count": 26,
     "metadata": {},
     "output_type": "execute_result"
    }
   ],
   "source": [
    "new_datat1['MATH_Color'].value_counts()"
   ]
  },
  {
   "cell_type": "code",
   "execution_count": 27,
   "metadata": {},
   "outputs": [
    {
     "data": {
      "text/plain": [
       "2    202442\n",
       "3    153937\n",
       "4    105092\n",
       "1     66475\n",
       "5     49648\n",
       "Name: MATH_Color, dtype: int64"
      ]
     },
     "execution_count": 27,
     "metadata": {},
     "output_type": "execute_result"
    }
   ],
   "source": [
    "#Do the same for Math , selecting rest\n",
    "new_datat2=new_datat1[new_datat1.MATH_Color != 0]\n",
    "new_datat2['MATH_Color'].value_counts()"
   ]
  },
  {
   "cell_type": "code",
   "execution_count": 28,
   "metadata": {},
   "outputs": [
    {
     "data": {
      "text/plain": [
       "cds                  False\n",
       "ELA_Schoolname       False\n",
       "ELA_Districtname     False\n",
       "ELA_Countyname       False\n",
       "ELA_Studentgroup     False\n",
       "ELA_Statuslevel      False\n",
       "ELA_Changelevel      False\n",
       "ELA_Color            False\n",
       "ELA_Box              False\n",
       "MATH_Schoolname      False\n",
       "MATH_Districtname    False\n",
       "MATH_Countyname      False\n",
       "MATH_Studentgroup    False\n",
       "MATH_Statuslevel     False\n",
       "MATH_Changelevel     False\n",
       "MATH_Color           False\n",
       "MATH_Box             False\n",
       "perf                 False\n",
       "dtype: bool"
      ]
     },
     "execution_count": 28,
     "metadata": {},
     "output_type": "execute_result"
    }
   ],
   "source": [
    "# making new data frame with dropped NA values \n",
    "# look for missing values\n",
    "new_datat2.isnull().any()"
   ]
  },
  {
   "cell_type": "markdown",
   "metadata": {},
   "source": [
    "### <font color=green>Nice! No missing values </font>"
   ]
  },
  {
   "cell_type": "code",
   "execution_count": 29,
   "metadata": {},
   "outputs": [
    {
     "data": {
      "text/plain": [
       "(577594, 18)"
      ]
     },
     "execution_count": 29,
     "metadata": {},
     "output_type": "execute_result"
    }
   ],
   "source": [
    "new_datat2.shape"
   ]
  },
  {
   "cell_type": "markdown",
   "metadata": {},
   "source": [
    "## <font color=blue>Oh wait, how did our test school look for Math?</font>"
   ]
  },
  {
   "cell_type": "code",
   "execution_count": 30,
   "metadata": {},
   "outputs": [],
   "source": [
    "new_datatzm=new_datat2[new_datat2.MATH_Schoolname == 'Bonita Canyon Elementary']"
   ]
  },
  {
   "cell_type": "code",
   "execution_count": 31,
   "metadata": {},
   "outputs": [
    {
     "data": {
      "text/plain": [
       "<matplotlib.axes._subplots.AxesSubplot at 0x10626dc18>"
      ]
     },
     "execution_count": 31,
     "metadata": {},
     "output_type": "execute_result"
    },
    {
     "data": {
      "image/png": "[encoded data removed]",
      "text/plain": [
       "<Figure size 432x288 with 1 Axes>"
      ]
     },
     "metadata": {},
     "output_type": "display_data"
    }
   ],
   "source": [
    "sns.countplot(x=\"MATH_Color\", data=new_datatzm)"
   ]
  },
  {
   "cell_type": "markdown",
   "metadata": {},
   "source": [
    "### <font color=green>Wow! It has a \"4\" and \"5\" and nothing lower !!! !  So far so good! ....let's move on!</font>"
   ]
  },
  {
   "cell_type": "markdown",
   "metadata": {},
   "source": [
    "## 4b)Use Matplotlib to identify the correlation between variables through a correlation heatmap"
   ]
  },
  {
   "cell_type": "code",
   "execution_count": 32,
   "metadata": {},
   "outputs": [
    {
     "data": {
      "text/plain": [
       "Text(0.5,1,'Correlation Heatmap')"
      ]
     },
     "execution_count": 32,
     "metadata": {},
     "output_type": "execute_result"
    },
    {
     "data": {
      "image/png": "[encoded data removed]",
      "text/plain": [
       "<Figure size 720x720 with 2 Axes>"
      ]
     },
     "metadata": {},
     "output_type": "display_data"
    }
   ],
   "source": [
    " corr = new_datat2.corr()\n",
    "plt.figure(figsize=(10,10))\n",
    "sns.heatmap(corr, annot=True, cmap=\"Greens\")\n",
    "plt.title('Correlation Heatmap', fontsize=20)"
   ]
  },
  {
   "cell_type": "markdown",
   "metadata": {},
   "source": [
    "### <font color=green>Here are some quick observations\n",
    "1. ELA_Color has a **higher correlation** with **ELA_Statuslevel - 0.53** followed by **ELA_Changelevel**\n",
    "2. MATH_Color has a **higher correlation** with **MATH_Statuslevel - 0.9** followed by **ELA_Changelevel at 0.5**\n",
    "3. As you move from left to right from ELA_Color , the **MATH_** correlation decreases . \n",
    "4. As you move from left to right from MATH_Color , the **ELA_** correlation decreases . \n",
    "    * This could also be because different score ranges are applied to evaluate ELA and Math performance.</font> ![Ref](Table9_ScoreRange.png)\n",
    "    "
   ]
  },
  {
   "cell_type": "code",
   "execution_count": 33,
   "metadata": {},
   "outputs": [
    {
     "name": "stderr",
     "output_type": "stream",
     "text": [
      "/anaconda3/envs/PythonData/lib/python3.6/site-packages/ipykernel/__main__.py:3: SettingWithCopyWarning: \n",
      "A value is trying to be set on a copy of a slice from a DataFrame.\n",
      "Try using .loc[row_indexer,col_indexer] = value instead\n",
      "\n",
      "See the caveats in the documentation: http://pandas.pydata.org/pandas-docs/stable/indexing.html#indexing-view-versus-copy\n",
      "  app.launch_new_instance()\n",
      "/anaconda3/envs/PythonData/lib/python3.6/site-packages/pandas/core/indexing.py:543: SettingWithCopyWarning: \n",
      "A value is trying to be set on a copy of a slice from a DataFrame.\n",
      "Try using .loc[row_indexer,col_indexer] = value instead\n",
      "\n",
      "See the caveats in the documentation: http://pandas.pydata.org/pandas-docs/stable/indexing.html#indexing-view-versus-copy\n",
      "  self.obj[item] = s\n"
     ]
    },
    {
     "data": {
      "text/html": [
       "<div>\n",
       "<style scoped>\n",
       "    .dataframe tbody tr th:only-of-type {\n",
       "        vertical-align: middle;\n",
       "    }\n",
       "\n",
       "    .dataframe tbody tr th {\n",
       "        vertical-align: top;\n",
       "    }\n",
       "\n",
       "    .dataframe thead th {\n",
       "        text-align: right;\n",
       "    }\n",
       "</style>\n",
       "<table border=\"1\" class=\"dataframe\">\n",
       "  <thead>\n",
       "    <tr style=\"text-align: right;\">\n",
       "      <th></th>\n",
       "      <th>cds</th>\n",
       "      <th>ELA_Schoolname</th>\n",
       "      <th>ELA_Districtname</th>\n",
       "      <th>ELA_Countyname</th>\n",
       "      <th>ELA_Studentgroup</th>\n",
       "      <th>ELA_Statuslevel</th>\n",
       "      <th>ELA_Changelevel</th>\n",
       "      <th>ELA_Color</th>\n",
       "      <th>ELA_Box</th>\n",
       "      <th>MATH_Schoolname</th>\n",
       "      <th>MATH_Districtname</th>\n",
       "      <th>MATH_Countyname</th>\n",
       "      <th>MATH_Studentgroup</th>\n",
       "      <th>MATH_Statuslevel</th>\n",
       "      <th>MATH_Changelevel</th>\n",
       "      <th>MATH_Color</th>\n",
       "      <th>MATH_Box</th>\n",
       "      <th>perf</th>\n",
       "      <th>label</th>\n",
       "    </tr>\n",
       "  </thead>\n",
       "  <tbody>\n",
       "    <tr>\n",
       "      <th>2</th>\n",
       "      <td>1100170123968</td>\n",
       "      <td>Community School for Creative Education</td>\n",
       "      <td>Alameda County Office of Education</td>\n",
       "      <td>Alameda</td>\n",
       "      <td>AA</td>\n",
       "      <td>1</td>\n",
       "      <td>1</td>\n",
       "      <td>0</td>\n",
       "      <td>0</td>\n",
       "      <td>Community School for Creative Education</td>\n",
       "      <td>Alameda County Office of Education</td>\n",
       "      <td>Alameda</td>\n",
       "      <td>ALL</td>\n",
       "      <td>2</td>\n",
       "      <td>3</td>\n",
       "      <td>2</td>\n",
       "      <td>180</td>\n",
       "      <td>Low</td>\n",
       "      <td>no</td>\n",
       "    </tr>\n",
       "    <tr>\n",
       "      <th>4</th>\n",
       "      <td>1100170123968</td>\n",
       "      <td>Community School for Creative Education</td>\n",
       "      <td>Alameda County Office of Education</td>\n",
       "      <td>Alameda</td>\n",
       "      <td>AA</td>\n",
       "      <td>1</td>\n",
       "      <td>1</td>\n",
       "      <td>0</td>\n",
       "      <td>0</td>\n",
       "      <td>Community School for Creative Education</td>\n",
       "      <td>Alameda County Office of Education</td>\n",
       "      <td>Alameda</td>\n",
       "      <td>EL</td>\n",
       "      <td>2</td>\n",
       "      <td>5</td>\n",
       "      <td>3</td>\n",
       "      <td>200</td>\n",
       "      <td>Mid</td>\n",
       "      <td>yes</td>\n",
       "    </tr>\n",
       "  </tbody>\n",
       "</table>\n",
       "</div>"
      ],
      "text/plain": [
       "             cds                           ELA_Schoolname  \\\n",
       "2  1100170123968  Community School for Creative Education   \n",
       "4  1100170123968  Community School for Creative Education   \n",
       "\n",
       "                     ELA_Districtname ELA_Countyname ELA_Studentgroup  \\\n",
       "2  Alameda County Office of Education        Alameda               AA   \n",
       "4  Alameda County Office of Education        Alameda               AA   \n",
       "\n",
       "   ELA_Statuslevel  ELA_Changelevel  ELA_Color  ELA_Box  \\\n",
       "2                1                1          0        0   \n",
       "4                1                1          0        0   \n",
       "\n",
       "                           MATH_Schoolname  \\\n",
       "2  Community School for Creative Education   \n",
       "4  Community School for Creative Education   \n",
       "\n",
       "                    MATH_Districtname MATH_Countyname MATH_Studentgroup  \\\n",
       "2  Alameda County Office of Education         Alameda               ALL   \n",
       "4  Alameda County Office of Education         Alameda                EL   \n",
       "\n",
       "   MATH_Statuslevel  MATH_Changelevel  MATH_Color  MATH_Box perf label  \n",
       "2                 2                 3           2       180  Low    no  \n",
       "4                 2                 5           3       200  Mid   yes  "
      ]
     },
     "execution_count": 33,
     "metadata": {},
     "output_type": "execute_result"
    }
   ],
   "source": [
    "#Create a categorical label from Color \n",
    "new_datat2['label'] = 'no'\n",
    "new_datat2.loc[(new_datat2.perf != 'Low') , 'label'] = 'yes'  \n",
    "new_datat2.head(2)"
   ]
  },
  {
   "cell_type": "code",
   "execution_count": 34,
   "metadata": {},
   "outputs": [
    {
     "data": {
      "text/plain": [
       "2     False\n",
       "4      True\n",
       "8     False\n",
       "11     True\n",
       "16    False\n",
       "Name: label, dtype: bool"
      ]
     },
     "execution_count": 34,
     "metadata": {},
     "output_type": "execute_result"
    }
   ],
   "source": [
    "# Create a categorical label from Color  - perf_flg\n",
    "#0/1 - perfflg - ignore\n",
    "#new_datat2['perfflg'] = 0\n",
    "#new_datat2.loc[(new_datat2.perf != 'Low') , 'perfflg'] = 1 \n",
    "#new_datat2.head(2)\n",
    "new_datat2['label'].str.contains('yes').head()"
   ]
  },
  {
   "cell_type": "code",
   "execution_count": 35,
   "metadata": {},
   "outputs": [
    {
     "data": {
      "text/plain": [
       "cds                   int64\n",
       "ELA_Schoolname       object\n",
       "ELA_Districtname     object\n",
       "ELA_Countyname       object\n",
       "ELA_Studentgroup     object\n",
       "ELA_Statuslevel       int64\n",
       "ELA_Changelevel       int64\n",
       "ELA_Color             int64\n",
       "ELA_Box               int64\n",
       "MATH_Schoolname      object\n",
       "MATH_Districtname    object\n",
       "MATH_Countyname      object\n",
       "MATH_Studentgroup    object\n",
       "MATH_Statuslevel      int64\n",
       "MATH_Changelevel      int64\n",
       "MATH_Color            int64\n",
       "MATH_Box              int64\n",
       "perf                 object\n",
       "label                object\n",
       "dtype: object"
      ]
     },
     "execution_count": 35,
     "metadata": {},
     "output_type": "execute_result"
    }
   ],
   "source": [
    "#before getting binary outcome for perfflg\n",
    "new_datat2.dtypes"
   ]
  },
  {
   "cell_type": "markdown",
   "metadata": {},
   "source": [
    "## 5a)Check Overall Performance again using matplotlib "
   ]
  },
  {
   "cell_type": "code",
   "execution_count": 36,
   "metadata": {},
   "outputs": [
    {
     "data": {
      "text/plain": [
       "Text(0,0.5,'Number of Schools')"
      ]
     },
     "execution_count": 36,
     "metadata": {},
     "output_type": "execute_result"
    },
    {
     "data": {
      "image/png": "[encoded data removed]",
      "text/plain": [
       "<Figure size 576x432 with 1 Axes>"
      ]
     },
     "metadata": {},
     "output_type": "display_data"
    }
   ],
   "source": [
    "# Performance Outcome Countplot - Schools   -IGNORE\n",
    "plt.figure(figsize=(8,6))\n",
    "sns.countplot(new_datat2.perf, order=[\"Low\",\"Mid\",\"High\"], palette='Set1')\n",
    "plt.title('Performance Outcome - Number of Schools',fontsize=20)\n",
    "plt.xlabel('Performance Outcome', fontsize=16)\n",
    "plt.ylabel('Number of Schools', fontsize=16)"
   ]
  },
  {
   "cell_type": "markdown",
   "metadata": {},
   "source": [
    " ## <font color=blue> This is on overall data that has all County, Districts, School info  and it shows overall low performance.This may indicate our education system need to improve . </font>\n",
    "   <b> - Let's get to a more granular level- district/school/student group </b>"
   ]
  },
  {
   "cell_type": "code",
   "execution_count": 37,
   "metadata": {},
   "outputs": [
    {
     "data": {
      "text/plain": [
       "Capistrano Unified    4480\n",
       "Name: ELA_Districtname, dtype: int64"
      ]
     },
     "execution_count": 37,
     "metadata": {},
     "output_type": "execute_result"
    }
   ],
   "source": [
    "#Selecting district1\n",
    "district1=new_datat2[new_datat2.ELA_Districtname == 'Capistrano Unified']\n",
    "district1['ELA_Districtname'].value_counts()"
   ]
  },
  {
   "cell_type": "code",
   "execution_count": 38,
   "metadata": {},
   "outputs": [
    {
     "data": {
      "text/plain": [
       "1"
      ]
     },
     "execution_count": 38,
     "metadata": {},
     "output_type": "execute_result"
    }
   ],
   "source": [
    "#unique values in a coulmn\n",
    "dist1_unq=district1['ELA_Districtname'].nunique()\n",
    "dist1_unq"
   ]
  },
  {
   "cell_type": "code",
   "execution_count": 39,
   "metadata": {},
   "outputs": [
    {
     "data": {
      "text/plain": [
       "51"
      ]
     },
     "execution_count": 39,
     "metadata": {},
     "output_type": "execute_result"
    }
   ],
   "source": [
    "#count distinct values in single column\n",
    "dist1sch_cnt=district1['ELA_Schoolname'].nunique()\n",
    "dist1sch_cnt"
   ]
  },
  {
   "cell_type": "code",
   "execution_count": 40,
   "metadata": {},
   "outputs": [
    {
     "data": {
      "text/plain": [
       "array(['Aliso Viejo Middle', 'Arroyo Vista Elementary',\n",
       "       'Arroyo Vista Middle', 'Bathgate Elementary',\n",
       "       'Bernice Ayer Middle', 'Canyon Vista Elementary',\n",
       "       'Capistrano Connections Academy', 'Capistrano Virtual/Home',\n",
       "       'Carl Hankey Elementary', 'Carl Hankey Middle',\n",
       "       'Castille Elementary', 'Chaparral Elementary',\n",
       "       'Clarence Lobo Elementary', 'Community Roots Academy',\n",
       "       'Concordia Elementary', 'Del Obispo Elementary',\n",
       "       'Don Juan Avila Elementary', 'Don Juan Avila Middle',\n",
       "       'George White Elementary', 'Harold Ambuehl Elementary',\n",
       "       'Hidden Hills Elementary', 'John Malcom Elementary', 'Journey',\n",
       "       'Kinoshita Elementary', 'Ladera Ranch Elementary',\n",
       "       'Ladera Ranch Middle', 'Laguna Niguel Elementary',\n",
       "       'Las Flores Elementary', 'Las Flores Middle',\n",
       "       'Las Palmas Elementary', 'Marblehead Elementary',\n",
       "       'Marco Forster Middle', 'Marian Bergeson Elementary',\n",
       "       'Moulton Elementary', 'Newhart Middle', 'Niguel Hills Middle',\n",
       "       'Oak Grove Elementary', 'Oso Grande Elementary',\n",
       "       'Oxford Preparatory Academy - South Orange County',\n",
       "       'Palisades Elementary',\n",
       "       'Philip J. Reilly Elementary/Special Education',\n",
       "       'Richard Henry Dana Elementary', 'San Juan Elementary',\n",
       "       'Shorecliffs Middle', 'Tijeras Creek Elementary',\n",
       "       'Truman Benedict Elementary', 'Viejo Elementary',\n",
       "       'Vista del Mar Elementary', 'Vista del Mar Middle',\n",
       "       'Wagon Wheel Elementary', 'Wood Canyon Elementary'], dtype=object)"
      ]
     },
     "execution_count": 40,
     "metadata": {},
     "output_type": "execute_result"
    }
   ],
   "source": [
    "#Show the list of District1 schools\n",
    "D1_Schools = district1['ELA_Schoolname'].unique()\n",
    "D1_Schools.sort()\n",
    "D1_Schools"
   ]
  },
  {
   "cell_type": "code",
   "execution_count": 41,
   "metadata": {},
   "outputs": [
    {
     "data": {
      "text/plain": [
       "Text(0,0.5,'District1')"
      ]
     },
     "execution_count": 41,
     "metadata": {},
     "output_type": "execute_result"
    },
    {
     "data": {
      "image/png": "[encoded data removed]",
      "text/plain": [
       "<Figure size 576x432 with 1 Axes>"
      ]
     },
     "metadata": {},
     "output_type": "display_data"
    }
   ],
   "source": [
    "# ELA Performance Outcome Countplot - District1\n",
    "plt.figure(figsize=(8,6))\n",
    "sns.countplot(district1.perf, order=[\"Low\",\"Mid\",\"High\"], palette='Set1')\n",
    "plt.title('Performance Outcome - District1',fontsize=20)\n",
    "plt.xlabel('Performance Outcome', fontsize=16)\n",
    "plt.ylabel('District1', fontsize=16)"
   ]
  },
  {
   "cell_type": "markdown",
   "metadata": {},
   "source": [
    "### <font color=green> In spite of overall low performance, when we look at specific school it showed high performance </font> <font color=red>followed by higher low performance noted. So watch out for that! </font>"
   ]
  },
  {
   "cell_type": "markdown",
   "metadata": {},
   "source": [
    "## 5b)Check ELA performance for a another specific district "
   ]
  },
  {
   "cell_type": "code",
   "execution_count": 42,
   "metadata": {},
   "outputs": [
    {
     "data": {
      "text/plain": [
       "Irvine Unified    3229\n",
       "Name: ELA_Districtname, dtype: int64"
      ]
     },
     "execution_count": 42,
     "metadata": {},
     "output_type": "execute_result"
    }
   ],
   "source": [
    "#District2 - Irvine Unified\n",
    "district2=new_datat2[new_datat2.ELA_Districtname == 'Irvine Unified']\n",
    "district2['ELA_Districtname'].value_counts()"
   ]
  },
  {
   "cell_type": "code",
   "execution_count": 43,
   "metadata": {},
   "outputs": [
    {
     "data": {
      "text/plain": [
       "Text(0,0.5,'District2')"
      ]
     },
     "execution_count": 43,
     "metadata": {},
     "output_type": "execute_result"
    },
    {
     "data": {
      "image/png": "[encoded data removed]",
      "text/plain": [
       "<Figure size 576x432 with 1 Axes>"
      ]
     },
     "metadata": {},
     "output_type": "display_data"
    }
   ],
   "source": [
    "# ELA Performance Outcome Countplot - District2\n",
    "plt.figure(figsize=(8,6))\n",
    "sns.countplot(district2.perf, order=[\"Low\",\"Mid\",\"High\"], palette='Set1')\n",
    "plt.title('Performance Outcome - District2',fontsize=20)\n",
    "plt.xlabel('Performance Outcome', fontsize=16)\n",
    "plt.ylabel('District2', fontsize=16)"
   ]
  },
  {
   "cell_type": "markdown",
   "metadata": {},
   "source": [
    "### <font color=green> From above figure district2 is exceptionally good! Expected that right! </font>"
   ]
  },
  {
   "cell_type": "markdown",
   "metadata": {},
   "source": [
    "# 5c)Check ELA for a specific school"
   ]
  },
  {
   "cell_type": "code",
   "execution_count": 44,
   "metadata": {},
   "outputs": [
    {
     "data": {
      "text/plain": [
       "Wood Canyon Elementary    84\n",
       "Name: ELA_Schoolname, dtype: int64"
      ]
     },
     "execution_count": 44,
     "metadata": {},
     "output_type": "execute_result"
    }
   ],
   "source": [
    "school1=new_datat2[new_datat2.ELA_Schoolname == 'Wood Canyon Elementary']\n",
    "school1['ELA_Schoolname'].value_counts()"
   ]
  },
  {
   "cell_type": "code",
   "execution_count": 45,
   "metadata": {},
   "outputs": [
    {
     "data": {
      "text/plain": [
       "Text(0,0.5,'School1')"
      ]
     },
     "execution_count": 45,
     "metadata": {},
     "output_type": "execute_result"
    },
    {
     "data": {
      "image/png": "[encoded data removed]",
      "text/plain": [
       "<Figure size 576x432 with 1 Axes>"
      ]
     },
     "metadata": {},
     "output_type": "display_data"
    }
   ],
   "source": [
    "# ELA Performance Outcome Countplot - School1\n",
    "plt.figure(figsize=(8,6))\n",
    "sns.countplot(district1.perf, order=[\"Low\",\"Mid\",\"High\"], palette='Set1')\n",
    "plt.title('Performance Outcome - School1',fontsize=20)\n",
    "plt.xlabel('Performance Outcome', fontsize=16)\n",
    "plt.ylabel('School1', fontsize=16)"
   ]
  },
  {
   "cell_type": "markdown",
   "metadata": {},
   "source": [
    "## 5d)Check ELA performance under specific student group"
   ]
  },
  {
   "cell_type": "markdown",
   "metadata": {},
   "source": [
    "ALL=All Students\n",
    "AA=Black/African American\n",
    "AI=American Indian or Alaska Native\n",
    "AS=Asian\n",
    "FI=Filipino\n",
    "HI=Hispanic\n",
    "PI=Pacific Islander\n",
    "WH=White\n",
    "MR=Multiple Races/Two or More\n",
    "EL=English Learner\n",
    "ELO=English Learners Only RFP=RFEPs Only \n",
    "EO=English Only\n",
    "SED=Socioeconomically Disadvantaged\n",
    "SWD=Students with Disabilities\n",
    "FOS=Foster Youth\n",
    "HOM=Homeless Youth"
   ]
  },
  {
   "cell_type": "code",
   "execution_count": 46,
   "metadata": {},
   "outputs": [
    {
     "data": {
      "text/plain": [
       "HOM    30696\n",
       "FOS    25989\n",
       "Name: ELA_Studentgroup, dtype: int64"
      ]
     },
     "execution_count": 46,
     "metadata": {},
     "output_type": "execute_result"
    }
   ],
   "source": [
    "stdgrp_array = ['HOM', 'FOS']\n",
    "stdgrp1=new_datat2.loc[new_datat2['ELA_Studentgroup'].isin(stdgrp_array)]\n",
    "#stdgrp1=new_datat2[new_datat2.ELA_Studentgroup == 'EL']\n",
    "stdgrp1['ELA_Studentgroup'].value_counts()"
   ]
  },
  {
   "cell_type": "code",
   "execution_count": 47,
   "metadata": {},
   "outputs": [],
   "source": [
    "perc = (lambda col: col/col.sum())\n",
    "index = ['Low','Mid','High']\n",
    "stdgrp_tab1 = pd.crosstab(index=stdgrp1.perf, columns=stdgrp1.ELA_Studentgroup)\n",
    "stdgrp_tab = np.log(stdgrp_tab1)\n",
    "stdgrp_perc = stdgrp_tab.apply(perc).reindex(index)"
   ]
  },
  {
   "cell_type": "code",
   "execution_count": 48,
   "metadata": {},
   "outputs": [
    {
     "data": {
      "text/plain": [
       "<Figure size 432x288 with 0 Axes>"
      ]
     },
     "metadata": {},
     "output_type": "display_data"
    },
    {
     "data": {
      "image/png": "[encoded data removed]",
      "text/plain": [
       "<Figure size 1296x720 with 1 Axes>"
      ]
     },
     "metadata": {},
     "output_type": "display_data"
    }
   ],
   "source": [
    "plt.figure()\n",
    "stdgrp_perc.plot.bar(colormap=\"PiYG_r\", fontsize=16, figsize=(18,10))\n",
    "plt.title('Performance By 2 StudentGroups', fontsize=20)\n",
    "plt.ylabel('Percentage of Logarithm StudentGroups Counts ', fontsize=16)\n",
    "plt.xlabel('Performance', fontsize=16)\n",
    "plt.show()"
   ]
  },
  {
   "cell_type": "markdown",
   "metadata": {},
   "source": [
    "## 6)Assign X (data) and y (target)"
   ]
  },
  {
   "cell_type": "code",
   "execution_count": 49,
   "metadata": {
    "scrolled": true
   },
   "outputs": [
    {
     "data": {
      "text/html": [
       "<div>\n",
       "<style scoped>\n",
       "    .dataframe tbody tr th:only-of-type {\n",
       "        vertical-align: middle;\n",
       "    }\n",
       "\n",
       "    .dataframe tbody tr th {\n",
       "        vertical-align: top;\n",
       "    }\n",
       "\n",
       "    .dataframe thead th {\n",
       "        text-align: right;\n",
       "    }\n",
       "</style>\n",
       "<table border=\"1\" class=\"dataframe\">\n",
       "  <thead>\n",
       "    <tr style=\"text-align: right;\">\n",
       "      <th></th>\n",
       "      <th>cds</th>\n",
       "      <th>ELA_Schoolname</th>\n",
       "      <th>ELA_Districtname</th>\n",
       "      <th>ELA_Countyname</th>\n",
       "      <th>ELA_Studentgroup</th>\n",
       "      <th>ELA_Statuslevel</th>\n",
       "      <th>ELA_Changelevel</th>\n",
       "      <th>ELA_Color</th>\n",
       "      <th>ELA_Box</th>\n",
       "      <th>MATH_Schoolname</th>\n",
       "      <th>MATH_Districtname</th>\n",
       "      <th>MATH_Countyname</th>\n",
       "      <th>MATH_Studentgroup</th>\n",
       "      <th>MATH_Statuslevel</th>\n",
       "      <th>MATH_Changelevel</th>\n",
       "      <th>MATH_Color</th>\n",
       "      <th>MATH_Box</th>\n",
       "      <th>perf</th>\n",
       "      <th>label</th>\n",
       "    </tr>\n",
       "  </thead>\n",
       "  <tbody>\n",
       "    <tr>\n",
       "      <th>2</th>\n",
       "      <td>1100170123968</td>\n",
       "      <td>Community School for Creative Education</td>\n",
       "      <td>Alameda County Office of Education</td>\n",
       "      <td>Alameda</td>\n",
       "      <td>AA</td>\n",
       "      <td>1</td>\n",
       "      <td>1</td>\n",
       "      <td>0</td>\n",
       "      <td>0</td>\n",
       "      <td>Community School for Creative Education</td>\n",
       "      <td>Alameda County Office of Education</td>\n",
       "      <td>Alameda</td>\n",
       "      <td>ALL</td>\n",
       "      <td>2</td>\n",
       "      <td>3</td>\n",
       "      <td>2</td>\n",
       "      <td>180</td>\n",
       "      <td>Low</td>\n",
       "      <td>no</td>\n",
       "    </tr>\n",
       "    <tr>\n",
       "      <th>4</th>\n",
       "      <td>1100170123968</td>\n",
       "      <td>Community School for Creative Education</td>\n",
       "      <td>Alameda County Office of Education</td>\n",
       "      <td>Alameda</td>\n",
       "      <td>AA</td>\n",
       "      <td>1</td>\n",
       "      <td>1</td>\n",
       "      <td>0</td>\n",
       "      <td>0</td>\n",
       "      <td>Community School for Creative Education</td>\n",
       "      <td>Alameda County Office of Education</td>\n",
       "      <td>Alameda</td>\n",
       "      <td>EL</td>\n",
       "      <td>2</td>\n",
       "      <td>5</td>\n",
       "      <td>3</td>\n",
       "      <td>200</td>\n",
       "      <td>Mid</td>\n",
       "      <td>yes</td>\n",
       "    </tr>\n",
       "  </tbody>\n",
       "</table>\n",
       "</div>"
      ],
      "text/plain": [
       "             cds                           ELA_Schoolname  \\\n",
       "2  1100170123968  Community School for Creative Education   \n",
       "4  1100170123968  Community School for Creative Education   \n",
       "\n",
       "                     ELA_Districtname ELA_Countyname ELA_Studentgroup  \\\n",
       "2  Alameda County Office of Education        Alameda               AA   \n",
       "4  Alameda County Office of Education        Alameda               AA   \n",
       "\n",
       "   ELA_Statuslevel  ELA_Changelevel  ELA_Color  ELA_Box  \\\n",
       "2                1                1          0        0   \n",
       "4                1                1          0        0   \n",
       "\n",
       "                           MATH_Schoolname  \\\n",
       "2  Community School for Creative Education   \n",
       "4  Community School for Creative Education   \n",
       "\n",
       "                    MATH_Districtname MATH_Countyname MATH_Studentgroup  \\\n",
       "2  Alameda County Office of Education         Alameda               ALL   \n",
       "4  Alameda County Office of Education         Alameda                EL   \n",
       "\n",
       "   MATH_Statuslevel  MATH_Changelevel  MATH_Color  MATH_Box perf label  \n",
       "2                 2                 3           2       180  Low    no  \n",
       "4                 2                 5           3       200  Mid   yes  "
      ]
     },
     "execution_count": 49,
     "metadata": {},
     "output_type": "execute_result"
    }
   ],
   "source": [
    "new_datat2.head(2)\n",
    "#IGNORE perfflg\n",
    "#USE perf_flg"
   ]
  },
  {
   "cell_type": "code",
   "execution_count": 50,
   "metadata": {},
   "outputs": [
    {
     "data": {
      "text/plain": [
       "cds                   int64\n",
       "ELA_Schoolname       object\n",
       "ELA_Districtname     object\n",
       "ELA_Countyname       object\n",
       "ELA_Studentgroup     object\n",
       "ELA_Statuslevel       int64\n",
       "ELA_Changelevel       int64\n",
       "ELA_Color             int64\n",
       "ELA_Box               int64\n",
       "MATH_Schoolname      object\n",
       "MATH_Districtname    object\n",
       "MATH_Countyname      object\n",
       "MATH_Studentgroup    object\n",
       "MATH_Statuslevel      int64\n",
       "MATH_Changelevel      int64\n",
       "MATH_Color            int64\n",
       "MATH_Box              int64\n",
       "perf                 object\n",
       "label                object\n",
       "dtype: object"
      ]
     },
     "execution_count": 50,
     "metadata": {},
     "output_type": "execute_result"
    }
   ],
   "source": [
    "new_datat2.dtypes"
   ]
  },
  {
   "cell_type": "markdown",
   "metadata": {},
   "source": [
    "<B> IGNORELogistic regression gives binary outcome - already converted perf_flg to binary value\n",
    "since above type shows object again then convert again</B>\n"
   ]
  },
  {
   "cell_type": "markdown",
   "metadata": {},
   "source": [
    "<B> Logistic regression gives binary outcome - convert target variable \"label\" to binary value</B>\n"
   ]
  },
  {
   "cell_type": "code",
   "execution_count": 51,
   "metadata": {},
   "outputs": [
    {
     "data": {
      "text/plain": [
       "2     0\n",
       "4     1\n",
       "8     0\n",
       "11    1\n",
       "16    0\n",
       "Name: label, dtype: int64"
      ]
     },
     "execution_count": 51,
     "metadata": {},
     "output_type": "execute_result"
    }
   ],
   "source": [
    "new_datat2['label'].str.contains('yes').astype(int).head()\n"
   ]
  },
  {
   "cell_type": "markdown",
   "metadata": {},
   "source": [
    "### 6a)Assign the X data  - predictor /independent variables"
   ]
  },
  {
   "cell_type": "code",
   "execution_count": 52,
   "metadata": {},
   "outputs": [
    {
     "data": {
      "text/html": [
       "<div>\n",
       "<style scoped>\n",
       "    .dataframe tbody tr th:only-of-type {\n",
       "        vertical-align: middle;\n",
       "    }\n",
       "\n",
       "    .dataframe tbody tr th {\n",
       "        vertical-align: top;\n",
       "    }\n",
       "\n",
       "    .dataframe thead th {\n",
       "        text-align: right;\n",
       "    }\n",
       "</style>\n",
       "<table border=\"1\" class=\"dataframe\">\n",
       "  <thead>\n",
       "    <tr style=\"text-align: right;\">\n",
       "      <th></th>\n",
       "      <th>cds</th>\n",
       "      <th>ELA_Statuslevel</th>\n",
       "      <th>ELA_Changelevel</th>\n",
       "      <th>ELA_Color</th>\n",
       "      <th>ELA_Box</th>\n",
       "      <th>MATH_Statuslevel</th>\n",
       "      <th>MATH_Changelevel</th>\n",
       "      <th>MATH_Color</th>\n",
       "      <th>MATH_Box</th>\n",
       "      <th>perf</th>\n",
       "    </tr>\n",
       "  </thead>\n",
       "  <tbody>\n",
       "    <tr>\n",
       "      <th>2</th>\n",
       "      <td>1100170123968</td>\n",
       "      <td>1</td>\n",
       "      <td>1</td>\n",
       "      <td>0</td>\n",
       "      <td>0</td>\n",
       "      <td>2</td>\n",
       "      <td>3</td>\n",
       "      <td>2</td>\n",
       "      <td>180</td>\n",
       "      <td>Low</td>\n",
       "    </tr>\n",
       "    <tr>\n",
       "      <th>4</th>\n",
       "      <td>1100170123968</td>\n",
       "      <td>1</td>\n",
       "      <td>1</td>\n",
       "      <td>0</td>\n",
       "      <td>0</td>\n",
       "      <td>2</td>\n",
       "      <td>5</td>\n",
       "      <td>3</td>\n",
       "      <td>200</td>\n",
       "      <td>Mid</td>\n",
       "    </tr>\n",
       "    <tr>\n",
       "      <th>8</th>\n",
       "      <td>1100170123968</td>\n",
       "      <td>1</td>\n",
       "      <td>1</td>\n",
       "      <td>0</td>\n",
       "      <td>0</td>\n",
       "      <td>2</td>\n",
       "      <td>3</td>\n",
       "      <td>2</td>\n",
       "      <td>180</td>\n",
       "      <td>Low</td>\n",
       "    </tr>\n",
       "    <tr>\n",
       "      <th>11</th>\n",
       "      <td>1100170123968</td>\n",
       "      <td>1</td>\n",
       "      <td>1</td>\n",
       "      <td>0</td>\n",
       "      <td>0</td>\n",
       "      <td>2</td>\n",
       "      <td>4</td>\n",
       "      <td>3</td>\n",
       "      <td>190</td>\n",
       "      <td>Mid</td>\n",
       "    </tr>\n",
       "    <tr>\n",
       "      <th>16</th>\n",
       "      <td>1100170123968</td>\n",
       "      <td>0</td>\n",
       "      <td>0</td>\n",
       "      <td>0</td>\n",
       "      <td>0</td>\n",
       "      <td>2</td>\n",
       "      <td>3</td>\n",
       "      <td>2</td>\n",
       "      <td>180</td>\n",
       "      <td>Low</td>\n",
       "    </tr>\n",
       "  </tbody>\n",
       "</table>\n",
       "</div>"
      ],
      "text/plain": [
       "              cds  ELA_Statuslevel  ELA_Changelevel  ELA_Color  ELA_Box  \\\n",
       "2   1100170123968                1                1          0        0   \n",
       "4   1100170123968                1                1          0        0   \n",
       "8   1100170123968                1                1          0        0   \n",
       "11  1100170123968                1                1          0        0   \n",
       "16  1100170123968                0                0          0        0   \n",
       "\n",
       "    MATH_Statuslevel  MATH_Changelevel  MATH_Color  MATH_Box perf  \n",
       "2                  2                 3           2       180  Low  \n",
       "4                  2                 5           3       200  Mid  \n",
       "8                  2                 3           2       180  Low  \n",
       "11                 2                 4           3       190  Mid  \n",
       "16                 2                 3           2       180  Low  "
      ]
     },
     "execution_count": 52,
     "metadata": {},
     "output_type": "execute_result"
    }
   ],
   "source": [
    "\n",
    "X = new_datat2[[\"cds\", \"ELA_Statuslevel\", \"ELA_Changelevel\", \n",
    "        \"ELA_Color\", \"ELA_Box\", \"MATH_Statuslevel\", \"MATH_Changelevel\", \"MATH_Color\", \n",
    "        \"MATH_Box\", \"perf\"]]\n",
    "X.head(5)"
   ]
  },
  {
   "cell_type": "code",
   "execution_count": 53,
   "metadata": {},
   "outputs": [
    {
     "data": {
      "text/plain": [
       "cds                  int64\n",
       "ELA_Statuslevel      int64\n",
       "ELA_Changelevel      int64\n",
       "ELA_Color            int64\n",
       "ELA_Box              int64\n",
       "MATH_Statuslevel     int64\n",
       "MATH_Changelevel     int64\n",
       "MATH_Color           int64\n",
       "MATH_Box             int64\n",
       "perf                object\n",
       "dtype: object"
      ]
     },
     "execution_count": 53,
     "metadata": {},
     "output_type": "execute_result"
    }
   ],
   "source": [
    "X.dtypes"
   ]
  },
  {
   "cell_type": "code",
   "execution_count": 54,
   "metadata": {},
   "outputs": [
    {
     "data": {
      "text/plain": [
       "(577594, 10)"
      ]
     },
     "execution_count": 54,
     "metadata": {},
     "output_type": "execute_result"
    }
   ],
   "source": [
    "X.shape"
   ]
  },
  {
   "cell_type": "code",
   "execution_count": 55,
   "metadata": {},
   "outputs": [
    {
     "data": {
      "text/plain": [
       "cds                 int64\n",
       "ELA_Statuslevel     int64\n",
       "ELA_Changelevel     int64\n",
       "ELA_Color           int64\n",
       "ELA_Box             int64\n",
       "MATH_Statuslevel    int64\n",
       "MATH_Changelevel    int64\n",
       "MATH_Color          int64\n",
       "MATH_Box            int64\n",
       "perf_High           uint8\n",
       "perf_Low            uint8\n",
       "perf_Mid            uint8\n",
       "dtype: object"
      ]
     },
     "execution_count": 55,
     "metadata": {},
     "output_type": "execute_result"
    }
   ],
   "source": [
    "# convert all columns of DataFrame\n",
    "#X=pd.to_numeric(X)\n",
    "#X\n",
    "X = pd.get_dummies(X)\n",
    "X.dtypes\n"
   ]
  },
  {
   "cell_type": "code",
   "execution_count": 56,
   "metadata": {},
   "outputs": [
    {
     "data": {
      "text/html": [
       "<div>\n",
       "<style scoped>\n",
       "    .dataframe tbody tr th:only-of-type {\n",
       "        vertical-align: middle;\n",
       "    }\n",
       "\n",
       "    .dataframe tbody tr th {\n",
       "        vertical-align: top;\n",
       "    }\n",
       "\n",
       "    .dataframe thead th {\n",
       "        text-align: right;\n",
       "    }\n",
       "</style>\n",
       "<table border=\"1\" class=\"dataframe\">\n",
       "  <thead>\n",
       "    <tr style=\"text-align: right;\">\n",
       "      <th></th>\n",
       "      <th>cds</th>\n",
       "      <th>ELA_Statuslevel</th>\n",
       "      <th>ELA_Changelevel</th>\n",
       "      <th>ELA_Color</th>\n",
       "      <th>ELA_Box</th>\n",
       "      <th>MATH_Statuslevel</th>\n",
       "      <th>MATH_Changelevel</th>\n",
       "      <th>MATH_Color</th>\n",
       "      <th>MATH_Box</th>\n",
       "      <th>perf_High</th>\n",
       "      <th>perf_Low</th>\n",
       "      <th>perf_Mid</th>\n",
       "    </tr>\n",
       "  </thead>\n",
       "  <tbody>\n",
       "    <tr>\n",
       "      <th>2</th>\n",
       "      <td>1100170123968</td>\n",
       "      <td>1</td>\n",
       "      <td>1</td>\n",
       "      <td>0</td>\n",
       "      <td>0</td>\n",
       "      <td>2</td>\n",
       "      <td>3</td>\n",
       "      <td>2</td>\n",
       "      <td>180</td>\n",
       "      <td>0</td>\n",
       "      <td>1</td>\n",
       "      <td>0</td>\n",
       "    </tr>\n",
       "    <tr>\n",
       "      <th>4</th>\n",
       "      <td>1100170123968</td>\n",
       "      <td>1</td>\n",
       "      <td>1</td>\n",
       "      <td>0</td>\n",
       "      <td>0</td>\n",
       "      <td>2</td>\n",
       "      <td>5</td>\n",
       "      <td>3</td>\n",
       "      <td>200</td>\n",
       "      <td>0</td>\n",
       "      <td>0</td>\n",
       "      <td>1</td>\n",
       "    </tr>\n",
       "    <tr>\n",
       "      <th>8</th>\n",
       "      <td>1100170123968</td>\n",
       "      <td>1</td>\n",
       "      <td>1</td>\n",
       "      <td>0</td>\n",
       "      <td>0</td>\n",
       "      <td>2</td>\n",
       "      <td>3</td>\n",
       "      <td>2</td>\n",
       "      <td>180</td>\n",
       "      <td>0</td>\n",
       "      <td>1</td>\n",
       "      <td>0</td>\n",
       "    </tr>\n",
       "    <tr>\n",
       "      <th>11</th>\n",
       "      <td>1100170123968</td>\n",
       "      <td>1</td>\n",
       "      <td>1</td>\n",
       "      <td>0</td>\n",
       "      <td>0</td>\n",
       "      <td>2</td>\n",
       "      <td>4</td>\n",
       "      <td>3</td>\n",
       "      <td>190</td>\n",
       "      <td>0</td>\n",
       "      <td>0</td>\n",
       "      <td>1</td>\n",
       "    </tr>\n",
       "    <tr>\n",
       "      <th>16</th>\n",
       "      <td>1100170123968</td>\n",
       "      <td>0</td>\n",
       "      <td>0</td>\n",
       "      <td>0</td>\n",
       "      <td>0</td>\n",
       "      <td>2</td>\n",
       "      <td>3</td>\n",
       "      <td>2</td>\n",
       "      <td>180</td>\n",
       "      <td>0</td>\n",
       "      <td>1</td>\n",
       "      <td>0</td>\n",
       "    </tr>\n",
       "  </tbody>\n",
       "</table>\n",
       "</div>"
      ],
      "text/plain": [
       "              cds  ELA_Statuslevel  ELA_Changelevel  ELA_Color  ELA_Box  \\\n",
       "2   1100170123968                1                1          0        0   \n",
       "4   1100170123968                1                1          0        0   \n",
       "8   1100170123968                1                1          0        0   \n",
       "11  1100170123968                1                1          0        0   \n",
       "16  1100170123968                0                0          0        0   \n",
       "\n",
       "    MATH_Statuslevel  MATH_Changelevel  MATH_Color  MATH_Box  perf_High  \\\n",
       "2                  2                 3           2       180          0   \n",
       "4                  2                 5           3       200          0   \n",
       "8                  2                 3           2       180          0   \n",
       "11                 2                 4           3       190          0   \n",
       "16                 2                 3           2       180          0   \n",
       "\n",
       "    perf_Low  perf_Mid  \n",
       "2          1         0  \n",
       "4          0         1  \n",
       "8          1         0  \n",
       "11         0         1  \n",
       "16         1         0  "
      ]
     },
     "execution_count": 56,
     "metadata": {},
     "output_type": "execute_result"
    }
   ],
   "source": [
    "X.head()"
   ]
  },
  {
   "cell_type": "markdown",
   "metadata": {},
   "source": [
    "### 6b)Assign the y data  - target/ outcome /dependent variable"
   ]
  },
  {
   "cell_type": "code",
   "execution_count": 57,
   "metadata": {},
   "outputs": [
    {
     "data": {
      "text/plain": [
       "2     0\n",
       "4     1\n",
       "8     0\n",
       "11    1\n",
       "16    0\n",
       "Name: label, dtype: int64"
      ]
     },
     "execution_count": 57,
     "metadata": {},
     "output_type": "execute_result"
    }
   ],
   "source": [
    "y = new_datat2['label'].str.contains('yes').astype(int)\n",
    "y.head(5)"
   ]
  },
  {
   "cell_type": "code",
   "execution_count": 58,
   "metadata": {},
   "outputs": [
    {
     "data": {
      "text/plain": [
       "(577594,)"
      ]
     },
     "execution_count": 58,
     "metadata": {},
     "output_type": "execute_result"
    }
   ],
   "source": [
    "y.shape"
   ]
  },
  {
   "cell_type": "markdown",
   "metadata": {},
   "source": [
    "## 7) Next create Train and Test split data  "
   ]
  },
  {
   "cell_type": "markdown",
   "metadata": {},
   "source": [
    "### <b>Build model on training data ,   Predict on testing data </b>"
   ]
  },
  {
   "cell_type": "code",
   "execution_count": 59,
   "metadata": {},
   "outputs": [],
   "source": [
    "from sklearn.model_selection import train_test_split\n",
    "\n",
    "X_train, X_test, y_train, y_test = train_test_split(X, y, random_state=1, stratify=y)"
   ]
  },
  {
   "cell_type": "markdown",
   "metadata": {},
   "source": [
    "## 8) Create a Logistic Regression Model"
   ]
  },
  {
   "cell_type": "code",
   "execution_count": 60,
   "metadata": {},
   "outputs": [
    {
     "data": {
      "text/plain": [
       "LogisticRegression(C=1.0, class_weight=None, dual=False, fit_intercept=True,\n",
       "          intercept_scaling=1, max_iter=100, multi_class='ovr', n_jobs=1,\n",
       "          penalty='l2', random_state=None, solver='liblinear', tol=0.0001,\n",
       "          verbose=0, warm_start=False)"
      ]
     },
     "execution_count": 60,
     "metadata": {},
     "output_type": "execute_result"
    }
   ],
   "source": [
    "from sklearn.linear_model import LogisticRegression\n",
    "classifier = LogisticRegression()\n",
    "classifier"
   ]
  },
  {
   "cell_type": "markdown",
   "metadata": {},
   "source": [
    "### <b> 8a-Fit (train) or model using the training data <b>"
   ]
  },
  {
   "cell_type": "code",
   "execution_count": 61,
   "metadata": {},
   "outputs": [
    {
     "data": {
      "text/plain": [
       "LogisticRegression(C=1.0, class_weight=None, dual=False, fit_intercept=True,\n",
       "          intercept_scaling=1, max_iter=100, multi_class='ovr', n_jobs=1,\n",
       "          penalty='l2', random_state=None, solver='liblinear', tol=0.0001,\n",
       "          verbose=0, warm_start=False)"
      ]
     },
     "execution_count": 61,
     "metadata": {},
     "output_type": "execute_result"
    }
   ],
   "source": [
    "classifier.fit(X_train, y_train)"
   ]
  },
  {
   "cell_type": "markdown",
   "metadata": {},
   "source": [
    " ### <b>8b-Validate the model using the test data </b>"
   ]
  },
  {
   "cell_type": "code",
   "execution_count": 62,
   "metadata": {},
   "outputs": [
    {
     "name": "stdout",
     "output_type": "stream",
     "text": [
      "Training Data Score: 0.5344175255947091\n",
      "Testing Data Score: 0.5344219835317419\n"
     ]
    }
   ],
   "source": [
    "print(f\"Training Data Score: {classifier.score(X_train, y_train)}\")\n",
    "print(f\"Testing Data Score: {classifier.score(X_test, y_test)}\")"
   ]
  },
  {
   "cell_type": "markdown",
   "metadata": {},
   "source": [
    " ## <font color=blue> Testing score is so close to Training score . This may indicate how well our Logistic Regression model learnt from the training model.</font> \n",
    " > <font color=blue><b> However the score is at 53% . Is that low due to large dataset of 577k records?</b></font>\n",
    "   <b><h3> - Let's try to see if the score gets better at a granular level- district </h3></b>"
   ]
  },
  {
   "cell_type": "markdown",
   "metadata": {},
   "source": [
    "## 8) Check district level to check if it would give a better accuracy score"
   ]
  },
  {
   "cell_type": "code",
   "execution_count": 83,
   "metadata": {},
   "outputs": [],
   "source": [
    "# Calculate the unique numbers in the DataFrame\n",
    "ELA_allcnty_count = len(new_datat2[\"ELA_Countyname\"].unique())\n",
    "MATH_allcnty_count = len(new_datat2[\"MATH_Countyname\"].unique())\n",
    "ELA_alldist_count = len(new_datat2[\"ELA_Districtname\"].unique())\n",
    "MATH_alldist_count = len(new_datat2[\"MATH_Districtname\"].unique())\n",
    "ELA_allsch_count = len(new_datat2[\"ELA_Schoolname\"].unique())\n",
    "MATH_allsch_count = len(new_datat2[\"MATH_Schoolname\"].unique())"
   ]
  },
  {
   "cell_type": "code",
   "execution_count": 84,
   "metadata": {
    "scrolled": true
   },
   "outputs": [
    {
     "data": {
      "text/html": [
       "<div>\n",
       "<style scoped>\n",
       "    .dataframe tbody tr th:only-of-type {\n",
       "        vertical-align: middle;\n",
       "    }\n",
       "\n",
       "    .dataframe tbody tr th {\n",
       "        vertical-align: top;\n",
       "    }\n",
       "\n",
       "    .dataframe thead th {\n",
       "        text-align: right;\n",
       "    }\n",
       "</style>\n",
       "<table border=\"1\" class=\"dataframe\">\n",
       "  <thead>\n",
       "    <tr style=\"text-align: right;\">\n",
       "      <th></th>\n",
       "      <th>Tot_Unq Counties with ELA</th>\n",
       "      <th>Tot_Unq Counties with MATH</th>\n",
       "      <th>Tot_Unq Districts with ELA</th>\n",
       "      <th>Tot_Unq Districts with MATH</th>\n",
       "      <th>Tot_Unq Schools with ELA</th>\n",
       "      <th>Tot_Unq Schools with MATH</th>\n",
       "    </tr>\n",
       "  </thead>\n",
       "  <tbody>\n",
       "    <tr>\n",
       "      <th>0</th>\n",
       "      <td>58</td>\n",
       "      <td>58</td>\n",
       "      <td>856</td>\n",
       "      <td>856</td>\n",
       "      <td>6126</td>\n",
       "      <td>6126</td>\n",
       "    </tr>\n",
       "  </tbody>\n",
       "</table>\n",
       "</div>"
      ],
      "text/plain": [
       "   Tot_Unq Counties with ELA  Tot_Unq Counties with MATH  \\\n",
       "0                         58                          58   \n",
       "\n",
       "   Tot_Unq Districts with ELA  Tot_Unq Districts with MATH  \\\n",
       "0                         856                          856   \n",
       "\n",
       "   Tot_Unq Schools with ELA  Tot_Unq Schools with MATH  \n",
       "0                      6126                       6126  "
      ]
     },
     "execution_count": 84,
     "metadata": {},
     "output_type": "execute_result"
    }
   ],
   "source": [
    "# Place all of the data found into a summary DataFrame\n",
    "summary_all = pd.DataFrame({\"Tot_Unq Counties with ELA\": ELA_allcnty_count,\n",
    "                            \"Tot_Unq Counties with MATH\": [MATH_allcnty_count],\n",
    "                            \"Tot_Unq Districts with ELA\": [ELA_alldist_count],\n",
    "                              \"Tot_Unq Districts with MATH\": [MATH_alldist_count],\n",
    "                              \"Tot_Unq Schools with ELA\": [ELA_allsch_count],\n",
    "                              \"Tot_Unq Schools with MATH\": [MATH_allsch_count],})\n",
    "summary_all"
   ]
  },
  {
   "cell_type": "code",
   "execution_count": 90,
   "metadata": {},
   "outputs": [],
   "source": [
    "# Export file as a CSV, without the Pandas index, but with the header\n",
    "new_datat2.to_csv(\"/Users/sesamuel/Documents/Proj3/StudentAnalytics/csv/cds_ELA_MATH_output.csv\", \n",
    "                  index=False, header=True)"
   ]
  },
  {
   "cell_type": "code",
   "execution_count": 85,
   "metadata": {},
   "outputs": [],
   "source": [
    "#CHECK DISTRICT LEVEL FOR MORE ACCURACY"
   ]
  },
  {
   "cell_type": "code",
   "execution_count": 88,
   "metadata": {},
   "outputs": [],
   "source": [
    "# Calculate the unique school  numbers of a district in the DataFrame\n",
    "ELA_county_count = len(district1[\"ELA_Countyname\"].unique())\n",
    "MATH_county_count = len(district1[\"MATH_Countyname\"].unique())\n",
    "ELA_district_count = len(district1[\"ELA_Districtname\"].unique())\n",
    "MATH_district_count = len(district1[\"MATH_Districtname\"].unique())\n",
    "ELA_school_count = len(district1[\"ELA_Schoolname\"].unique())\n",
    "MATH_school_count = len(district1[\"MATH_Schoolname\"].unique())"
   ]
  },
  {
   "cell_type": "code",
   "execution_count": 89,
   "metadata": {},
   "outputs": [
    {
     "data": {
      "text/html": [
       "<div>\n",
       "<style scoped>\n",
       "    .dataframe tbody tr th:only-of-type {\n",
       "        vertical-align: middle;\n",
       "    }\n",
       "\n",
       "    .dataframe tbody tr th {\n",
       "        vertical-align: top;\n",
       "    }\n",
       "\n",
       "    .dataframe thead th {\n",
       "        text-align: right;\n",
       "    }\n",
       "</style>\n",
       "<table border=\"1\" class=\"dataframe\">\n",
       "  <thead>\n",
       "    <tr style=\"text-align: right;\">\n",
       "      <th></th>\n",
       "      <th>Tot_Unq Counties with ELA</th>\n",
       "      <th>Tot_Unq Counties with MATH</th>\n",
       "      <th>Tot_Unq Districts with ELA</th>\n",
       "      <th>Tot_Unq Districts with MATH</th>\n",
       "      <th>Tot_Unq Schools with ELA</th>\n",
       "      <th>Tot_Unq Schools with MATH</th>\n",
       "    </tr>\n",
       "  </thead>\n",
       "  <tbody>\n",
       "    <tr>\n",
       "      <th>0</th>\n",
       "      <td>1</td>\n",
       "      <td>1</td>\n",
       "      <td>1</td>\n",
       "      <td>1</td>\n",
       "      <td>51</td>\n",
       "      <td>51</td>\n",
       "    </tr>\n",
       "  </tbody>\n",
       "</table>\n",
       "</div>"
      ],
      "text/plain": [
       "   Tot_Unq Counties with ELA  Tot_Unq Counties with MATH  \\\n",
       "0                          1                           1   \n",
       "\n",
       "   Tot_Unq Districts with ELA  Tot_Unq Districts with MATH  \\\n",
       "0                           1                            1   \n",
       "\n",
       "   Tot_Unq Schools with ELA  Tot_Unq Schools with MATH  \n",
       "0                        51                         51  "
      ]
     },
     "execution_count": 89,
     "metadata": {},
     "output_type": "execute_result"
    }
   ],
   "source": [
    "# Place all of the data found into a summary DataFrame\n",
    "summary_district1 = pd.DataFrame({\"Tot_Unq Counties with ELA\": ELA_county_count,\n",
    "                                  \"Tot_Unq Counties with MATH\": [MATH_county_count],\n",
    "                                  \"Tot_Unq Districts with ELA\": [ELA_district_count],\n",
    "                                \"Tot_Unq Districts with MATH\": [MATH_district_count],\n",
    "                              \"Tot_Unq Schools with ELA\": [ELA_school_count],\n",
    "                              \"Tot_Unq Schools with MATH\": [MATH_school_count],})\n",
    "summary_district1"
   ]
  },
  {
   "cell_type": "code",
   "execution_count": 91,
   "metadata": {},
   "outputs": [],
   "source": [
    "# Export district file as a CSV, without the Pandas index, but with the header\n",
    "district1.to_csv(\"/Users/sesamuel/Documents/Proj3/StudentAnalytics/csv/CUSD_ELA_MATH_output.csv\", \n",
    "                  index=False, header=True)"
   ]
  },
  {
   "cell_type": "code",
   "execution_count": 92,
   "metadata": {},
   "outputs": [],
   "source": [
    "# Export district file as Excel for Tableau Dashboard, \n",
    "#without the Pandas index, but with the header\n",
    "district1.to_excel(\"/Users/sesamuel/Documents/Proj3/StudentAnalytics/csv/CUSD_ELA_MATH_output.xlsx\", \n",
    "                  index=False, header=True)"
   ]
  },
  {
   "cell_type": "markdown",
   "metadata": {},
   "source": [
    "### 8a)Assign the X data - predictor /independent variable"
   ]
  },
  {
   "cell_type": "code",
   "execution_count": 64,
   "metadata": {},
   "outputs": [
    {
     "data": {
      "text/html": [
       "<div>\n",
       "<style scoped>\n",
       "    .dataframe tbody tr th:only-of-type {\n",
       "        vertical-align: middle;\n",
       "    }\n",
       "\n",
       "    .dataframe tbody tr th {\n",
       "        vertical-align: top;\n",
       "    }\n",
       "\n",
       "    .dataframe thead th {\n",
       "        text-align: right;\n",
       "    }\n",
       "</style>\n",
       "<table border=\"1\" class=\"dataframe\">\n",
       "  <thead>\n",
       "    <tr style=\"text-align: right;\">\n",
       "      <th></th>\n",
       "      <th>cds</th>\n",
       "      <th>ELA_Statuslevel</th>\n",
       "      <th>ELA_Changelevel</th>\n",
       "      <th>ELA_Color</th>\n",
       "      <th>ELA_Box</th>\n",
       "      <th>MATH_Statuslevel</th>\n",
       "      <th>MATH_Changelevel</th>\n",
       "      <th>MATH_Color</th>\n",
       "      <th>MATH_Box</th>\n",
       "      <th>perf</th>\n",
       "    </tr>\n",
       "  </thead>\n",
       "  <tbody>\n",
       "    <tr>\n",
       "      <th>796722</th>\n",
       "      <td>30664640100735</td>\n",
       "      <td>0</td>\n",
       "      <td>0</td>\n",
       "      <td>0</td>\n",
       "      <td>0</td>\n",
       "      <td>4</td>\n",
       "      <td>2</td>\n",
       "      <td>4</td>\n",
       "      <td>70</td>\n",
       "      <td>High</td>\n",
       "    </tr>\n",
       "    <tr>\n",
       "      <th>796723</th>\n",
       "      <td>30664640100735</td>\n",
       "      <td>0</td>\n",
       "      <td>0</td>\n",
       "      <td>0</td>\n",
       "      <td>0</td>\n",
       "      <td>5</td>\n",
       "      <td>4</td>\n",
       "      <td>5</td>\n",
       "      <td>40</td>\n",
       "      <td>High</td>\n",
       "    </tr>\n",
       "    <tr>\n",
       "      <th>796728</th>\n",
       "      <td>30664640100735</td>\n",
       "      <td>0</td>\n",
       "      <td>0</td>\n",
       "      <td>0</td>\n",
       "      <td>0</td>\n",
       "      <td>2</td>\n",
       "      <td>1</td>\n",
       "      <td>2</td>\n",
       "      <td>160</td>\n",
       "      <td>Low</td>\n",
       "    </tr>\n",
       "    <tr>\n",
       "      <th>796730</th>\n",
       "      <td>30664640100735</td>\n",
       "      <td>0</td>\n",
       "      <td>0</td>\n",
       "      <td>0</td>\n",
       "      <td>0</td>\n",
       "      <td>4</td>\n",
       "      <td>4</td>\n",
       "      <td>4</td>\n",
       "      <td>90</td>\n",
       "      <td>High</td>\n",
       "    </tr>\n",
       "    <tr>\n",
       "      <th>796732</th>\n",
       "      <td>30664640100735</td>\n",
       "      <td>0</td>\n",
       "      <td>0</td>\n",
       "      <td>0</td>\n",
       "      <td>0</td>\n",
       "      <td>2</td>\n",
       "      <td>4</td>\n",
       "      <td>3</td>\n",
       "      <td>190</td>\n",
       "      <td>Mid</td>\n",
       "    </tr>\n",
       "  </tbody>\n",
       "</table>\n",
       "</div>"
      ],
      "text/plain": [
       "                   cds  ELA_Statuslevel  ELA_Changelevel  ELA_Color  ELA_Box  \\\n",
       "796722  30664640100735                0                0          0        0   \n",
       "796723  30664640100735                0                0          0        0   \n",
       "796728  30664640100735                0                0          0        0   \n",
       "796730  30664640100735                0                0          0        0   \n",
       "796732  30664640100735                0                0          0        0   \n",
       "\n",
       "        MATH_Statuslevel  MATH_Changelevel  MATH_Color  MATH_Box  perf  \n",
       "796722                 4                 2           4        70  High  \n",
       "796723                 5                 4           5        40  High  \n",
       "796728                 2                 1           2       160   Low  \n",
       "796730                 4                 4           4        90  High  \n",
       "796732                 2                 4           3       190   Mid  "
      ]
     },
     "execution_count": 64,
     "metadata": {},
     "output_type": "execute_result"
    }
   ],
   "source": [
    " \n",
    "X = district1[[\"cds\", \"ELA_Statuslevel\", \"ELA_Changelevel\", \n",
    "        \"ELA_Color\", \"ELA_Box\", \"MATH_Statuslevel\", \"MATH_Changelevel\", \"MATH_Color\", \n",
    "        \"MATH_Box\", \"perf\"]]\n",
    "X.head(5)\n"
   ]
  },
  {
   "cell_type": "code",
   "execution_count": 65,
   "metadata": {},
   "outputs": [
    {
     "data": {
      "text/plain": [
       "cds                  int64\n",
       "ELA_Statuslevel      int64\n",
       "ELA_Changelevel      int64\n",
       "ELA_Color            int64\n",
       "ELA_Box              int64\n",
       "MATH_Statuslevel     int64\n",
       "MATH_Changelevel     int64\n",
       "MATH_Color           int64\n",
       "MATH_Box             int64\n",
       "perf                object\n",
       "dtype: object"
      ]
     },
     "execution_count": 65,
     "metadata": {},
     "output_type": "execute_result"
    }
   ],
   "source": [
    "X.dtypes"
   ]
  },
  {
   "cell_type": "code",
   "execution_count": 66,
   "metadata": {},
   "outputs": [
    {
     "data": {
      "text/plain": [
       "(4480, 10)"
      ]
     },
     "execution_count": 66,
     "metadata": {},
     "output_type": "execute_result"
    }
   ],
   "source": [
    "X.shape"
   ]
  },
  {
   "cell_type": "markdown",
   "metadata": {},
   "source": [
    "### 8b)Assign the y data  - target/ outcome /dependent variable"
   ]
  },
  {
   "cell_type": "code",
   "execution_count": 67,
   "metadata": {},
   "outputs": [
    {
     "data": {
      "text/plain": [
       "796722    1\n",
       "796723    1\n",
       "796728    0\n",
       "796730    1\n",
       "796732    1\n",
       "796733    1\n",
       "796734    1\n",
       "796736    1\n",
       "796737    1\n",
       "796742    0\n",
       "Name: label, dtype: int64"
      ]
     },
     "execution_count": 67,
     "metadata": {},
     "output_type": "execute_result"
    }
   ],
   "source": [
    "y = district1['label'].str.contains('yes').astype(int)\n",
    "y.head(10)"
   ]
  },
  {
   "cell_type": "code",
   "execution_count": 68,
   "metadata": {},
   "outputs": [
    {
     "data": {
      "text/plain": [
       "(4480,)"
      ]
     },
     "execution_count": 68,
     "metadata": {},
     "output_type": "execute_result"
    }
   ],
   "source": [
    "y.shape"
   ]
  },
  {
   "cell_type": "code",
   "execution_count": 69,
   "metadata": {},
   "outputs": [
    {
     "data": {
      "text/plain": [
       "cds                 int64\n",
       "ELA_Statuslevel     int64\n",
       "ELA_Changelevel     int64\n",
       "ELA_Color           int64\n",
       "ELA_Box             int64\n",
       "MATH_Statuslevel    int64\n",
       "MATH_Changelevel    int64\n",
       "MATH_Color          int64\n",
       "MATH_Box            int64\n",
       "perf_High           uint8\n",
       "perf_Low            uint8\n",
       "perf_Mid            uint8\n",
       "dtype: object"
      ]
     },
     "execution_count": 69,
     "metadata": {},
     "output_type": "execute_result"
    }
   ],
   "source": [
    "# convert all columns of DataFrame\n",
    "#X=pd.to_numeric(X)\n",
    "#X\n",
    "X = pd.get_dummies(X)\n",
    "X.dtypes"
   ]
  },
  {
   "cell_type": "code",
   "execution_count": 70,
   "metadata": {},
   "outputs": [
    {
     "data": {
      "text/html": [
       "<div>\n",
       "<style scoped>\n",
       "    .dataframe tbody tr th:only-of-type {\n",
       "        vertical-align: middle;\n",
       "    }\n",
       "\n",
       "    .dataframe tbody tr th {\n",
       "        vertical-align: top;\n",
       "    }\n",
       "\n",
       "    .dataframe thead th {\n",
       "        text-align: right;\n",
       "    }\n",
       "</style>\n",
       "<table border=\"1\" class=\"dataframe\">\n",
       "  <thead>\n",
       "    <tr style=\"text-align: right;\">\n",
       "      <th></th>\n",
       "      <th>cds</th>\n",
       "      <th>ELA_Statuslevel</th>\n",
       "      <th>ELA_Changelevel</th>\n",
       "      <th>ELA_Color</th>\n",
       "      <th>ELA_Box</th>\n",
       "      <th>MATH_Statuslevel</th>\n",
       "      <th>MATH_Changelevel</th>\n",
       "      <th>MATH_Color</th>\n",
       "      <th>MATH_Box</th>\n",
       "      <th>perf_High</th>\n",
       "      <th>perf_Low</th>\n",
       "      <th>perf_Mid</th>\n",
       "    </tr>\n",
       "  </thead>\n",
       "  <tbody>\n",
       "    <tr>\n",
       "      <th>796722</th>\n",
       "      <td>30664640100735</td>\n",
       "      <td>0</td>\n",
       "      <td>0</td>\n",
       "      <td>0</td>\n",
       "      <td>0</td>\n",
       "      <td>4</td>\n",
       "      <td>2</td>\n",
       "      <td>4</td>\n",
       "      <td>70</td>\n",
       "      <td>1</td>\n",
       "      <td>0</td>\n",
       "      <td>0</td>\n",
       "    </tr>\n",
       "    <tr>\n",
       "      <th>796723</th>\n",
       "      <td>30664640100735</td>\n",
       "      <td>0</td>\n",
       "      <td>0</td>\n",
       "      <td>0</td>\n",
       "      <td>0</td>\n",
       "      <td>5</td>\n",
       "      <td>4</td>\n",
       "      <td>5</td>\n",
       "      <td>40</td>\n",
       "      <td>1</td>\n",
       "      <td>0</td>\n",
       "      <td>0</td>\n",
       "    </tr>\n",
       "    <tr>\n",
       "      <th>796728</th>\n",
       "      <td>30664640100735</td>\n",
       "      <td>0</td>\n",
       "      <td>0</td>\n",
       "      <td>0</td>\n",
       "      <td>0</td>\n",
       "      <td>2</td>\n",
       "      <td>1</td>\n",
       "      <td>2</td>\n",
       "      <td>160</td>\n",
       "      <td>0</td>\n",
       "      <td>1</td>\n",
       "      <td>0</td>\n",
       "    </tr>\n",
       "    <tr>\n",
       "      <th>796730</th>\n",
       "      <td>30664640100735</td>\n",
       "      <td>0</td>\n",
       "      <td>0</td>\n",
       "      <td>0</td>\n",
       "      <td>0</td>\n",
       "      <td>4</td>\n",
       "      <td>4</td>\n",
       "      <td>4</td>\n",
       "      <td>90</td>\n",
       "      <td>1</td>\n",
       "      <td>0</td>\n",
       "      <td>0</td>\n",
       "    </tr>\n",
       "    <tr>\n",
       "      <th>796732</th>\n",
       "      <td>30664640100735</td>\n",
       "      <td>0</td>\n",
       "      <td>0</td>\n",
       "      <td>0</td>\n",
       "      <td>0</td>\n",
       "      <td>2</td>\n",
       "      <td>4</td>\n",
       "      <td>3</td>\n",
       "      <td>190</td>\n",
       "      <td>0</td>\n",
       "      <td>0</td>\n",
       "      <td>1</td>\n",
       "    </tr>\n",
       "  </tbody>\n",
       "</table>\n",
       "</div>"
      ],
      "text/plain": [
       "                   cds  ELA_Statuslevel  ELA_Changelevel  ELA_Color  ELA_Box  \\\n",
       "796722  30664640100735                0                0          0        0   \n",
       "796723  30664640100735                0                0          0        0   \n",
       "796728  30664640100735                0                0          0        0   \n",
       "796730  30664640100735                0                0          0        0   \n",
       "796732  30664640100735                0                0          0        0   \n",
       "\n",
       "        MATH_Statuslevel  MATH_Changelevel  MATH_Color  MATH_Box  perf_High  \\\n",
       "796722                 4                 2           4        70          1   \n",
       "796723                 5                 4           5        40          1   \n",
       "796728                 2                 1           2       160          0   \n",
       "796730                 4                 4           4        90          1   \n",
       "796732                 2                 4           3       190          0   \n",
       "\n",
       "        perf_Low  perf_Mid  \n",
       "796722         0         0  \n",
       "796723         0         0  \n",
       "796728         1         0  \n",
       "796730         0         0  \n",
       "796732         0         1  "
      ]
     },
     "execution_count": 70,
     "metadata": {},
     "output_type": "execute_result"
    }
   ],
   "source": [
    "X.head(5)"
   ]
  },
  {
   "cell_type": "markdown",
   "metadata": {},
   "source": [
    "## <b>9-Build model on training data ,   Predict on testing data - District level </b>"
   ]
  },
  {
   "cell_type": "code",
   "execution_count": 71,
   "metadata": {},
   "outputs": [],
   "source": [
    "from sklearn.model_selection import train_test_split\n",
    "\n",
    "X_train, X_test, y_train, y_test = train_test_split(X, y, random_state=1, stratify=y)"
   ]
  },
  {
   "cell_type": "markdown",
   "metadata": {},
   "source": [
    "### Fit (train) or model using the training data"
   ]
  },
  {
   "cell_type": "code",
   "execution_count": 72,
   "metadata": {},
   "outputs": [
    {
     "data": {
      "text/plain": [
       "LogisticRegression(C=1.0, class_weight=None, dual=False, fit_intercept=True,\n",
       "          intercept_scaling=1, max_iter=100, multi_class='ovr', n_jobs=1,\n",
       "          penalty='l2', random_state=None, solver='liblinear', tol=0.0001,\n",
       "          verbose=0, warm_start=False)"
      ]
     },
     "execution_count": 72,
     "metadata": {},
     "output_type": "execute_result"
    }
   ],
   "source": [
    "from sklearn.linear_model import LogisticRegression\n",
    "classifier = LogisticRegression()\n",
    "classifier\n",
    "\n",
    "classifier.fit(X_train, y_train)"
   ]
  },
  {
   "cell_type": "markdown",
   "metadata": {},
   "source": [
    "### <b>Validate the model using the test data </b>"
   ]
  },
  {
   "cell_type": "code",
   "execution_count": 73,
   "metadata": {},
   "outputs": [
    {
     "name": "stdout",
     "output_type": "stream",
     "text": [
      "Training Data Score: 0.7026785714285714\n",
      "Testing Data Score: 0.7026785714285714\n"
     ]
    }
   ],
   "source": [
    "print(f\"Training Data Score: {classifier.score(X_train, y_train)}\")\n",
    "print(f\"Testing Data Score: {classifier.score(X_test, y_test)}\")"
   ]
  },
  {
   "cell_type": "markdown",
   "metadata": {},
   "source": [
    "### <font color=blue> Testing score is same as Training score</font>. There maybe a case of overfitting here.\n",
    "    \n"
   ]
  },
  {
   "cell_type": "markdown",
   "metadata": {},
   "source": [
    "### <font color=green><b> However this time the accuracy score increased to is 70% with a smaller dataset.</b></font>"
   ]
  },
  {
   "cell_type": "markdown",
   "metadata": {},
   "source": [
    "# 10) Random Forest"
   ]
  },
  {
   "cell_type": "code",
   "execution_count": 74,
   "metadata": {},
   "outputs": [
    {
     "data": {
      "text/plain": [
       "1.0"
      ]
     },
     "execution_count": 74,
     "metadata": {},
     "output_type": "execute_result"
    }
   ],
   "source": [
    "from sklearn.ensemble import RandomForestClassifier\n",
    "rf = RandomForestClassifier(n_estimators=200)\n",
    "#rf = RandomForestClassifier(n_estimators=10)\n",
    "rf = rf.fit(X_train, y_train)\n",
    "rf.score(X_test, y_test)"
   ]
  },
  {
   "cell_type": "code",
   "execution_count": 75,
   "metadata": {},
   "outputs": [
    {
     "data": {
      "text/plain": [
       "Index(['cds', 'ELA_Statuslevel', 'ELA_Changelevel', 'ELA_Color', 'ELA_Box',\n",
       "       'MATH_Statuslevel', 'MATH_Changelevel', 'MATH_Color', 'MATH_Box',\n",
       "       'perf_High', 'perf_Low', 'perf_Mid'],\n",
       "      dtype='object')"
      ]
     },
     "execution_count": 75,
     "metadata": {},
     "output_type": "execute_result"
    }
   ],
   "source": [
    "X_test.columns"
   ]
  },
  {
   "cell_type": "code",
   "execution_count": 76,
   "metadata": {},
   "outputs": [
    {
     "data": {
      "text/plain": [
       "[(0.30920033781126494, 'perf_Low'),\n",
       " (0.30147483778815454, 'MATH_Color'),\n",
       " (0.13106325909847627, 'MATH_Box'),\n",
       " (0.11374611394909548, 'MATH_Statuslevel'),\n",
       " (0.04990739454053591, 'perf_Mid'),\n",
       " (0.04648073622265334, 'MATH_Changelevel'),\n",
       " (0.04602844594189246, 'perf_High'),\n",
       " (0.0010944677576330709, 'cds'),\n",
       " (0.00039552038319292423, 'ELA_Box'),\n",
       " (0.00024393772083640479, 'ELA_Statuslevel'),\n",
       " (0.00023723773894210226, 'ELA_Changelevel'),\n",
       " (0.00012771104732262767, 'ELA_Color')]"
      ]
     },
     "execution_count": 76,
     "metadata": {},
     "output_type": "execute_result"
    }
   ],
   "source": [
    "sorted(zip(rf.feature_importances_, X_test), reverse=True)"
   ]
  },
  {
   "cell_type": "markdown",
   "metadata": {},
   "source": [
    "### <font color=green> Running Random Tree model show us that the MATH_ features show a better relationship than the ELA_ features to determine the target performance outcome</font>"
   ]
  },
  {
   "cell_type": "markdown",
   "metadata": {},
   "source": [
    "## 11)Stochastic Gradient Descent Classification"
   ]
  },
  {
   "cell_type": "code",
   "execution_count": 77,
   "metadata": {
    "scrolled": true
   },
   "outputs": [
    {
     "name": "stdout",
     "output_type": "stream",
     "text": [
      "Stochastic Gradient Descent Model Score : 0.29732142857142857 , Cross Validation Score : 0.29732142857142857\n"
     ]
    },
    {
     "name": "stderr",
     "output_type": "stream",
     "text": [
      "/anaconda3/envs/PythonData/lib/python3.6/site-packages/sklearn/linear_model/stochastic_gradient.py:128: FutureWarning: max_iter and tol parameters have been added in <class 'sklearn.linear_model.stochastic_gradient.SGDClassifier'> in 0.19. If both are left unset, they default to max_iter=5 and tol=None. If tol is not None, max_iter defaults to max_iter=1000. From 0.21, default max_iter will be 1000, and default tol will be 1e-3.\n",
      "  \"and default tol will be 1e-3.\" % type(self), FutureWarning)\n"
     ]
    }
   ],
   "source": [
    "from sklearn.linear_model import SGDClassifier\n",
    "sgd = SGDClassifier()\n",
    "sf = sgd.fit(X_train, y_train)\n",
    "print(\"Stochastic Gradient Descent Model Score\" , \":\" , sf.score(X_train, y_train) , \",\" ,\n",
    "      \"Cross Validation Score\" ,\":\" , sf.score(X_test, y_test))"
   ]
  },
  {
   "cell_type": "markdown",
   "metadata": {},
   "source": [
    "### The cross validation score for SGD is the same as the accuracy score under Logistic Regression at 70%"
   ]
  },
  {
   "cell_type": "markdown",
   "metadata": {},
   "source": [
    "## 12)Conclusion \n",
    "> 1. Logistic Regression Model gives a better accuracy score of 70% with granular level data\n",
    "2. Random Forest show that the MATH_ features show a better relationship than the ELA_ features to determine the target performance outcome. This can be seen under the correlation heatmap too. "
   ]
  },
  {
   "cell_type": "code",
   "execution_count": null,
   "metadata": {},
   "outputs": [],
   "source": []
  }
 ],
 "metadata": {
  "kernelspec": {
   "display_name": "Python [conda env:PythonData]",
   "language": "python",
   "name": "conda-env-PythonData-py"
  },
  "language_info": {
   "codemirror_mode": {
    "name": "ipython",
    "version": 3
   },
   "file_extension": ".py",
   "mimetype": "text/x-python",
   "name": "python",
   "nbconvert_exporter": "python",
   "pygments_lexer": "ipython3",
   "version": "3.6.8"
  }
 },
 "nbformat": 4,
 "nbformat_minor": 2
}
