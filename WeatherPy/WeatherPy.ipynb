{
 "cells": [
  {
   "cell_type": "code",
   "execution_count": null,
   "metadata": {},
   "outputs": [],
   "source": [
    "#Analysis\n",
    "#The temperature and hunidity rises when closer to Odegree latitude"
   ]
  },
  {
   "cell_type": "code",
   "execution_count": null,
   "metadata": {},
   "outputs": [],
   "source": [
    "#Starter code for random choice was difficult to understand hence ran the code with sample cities"
   ]
  },
  {
   "cell_type": "code",
   "execution_count": 6,
   "metadata": {
    "scrolled": true
   },
   "outputs": [],
   "source": [
    "# Dependencies and Setup\n",
    "import matplotlib.pyplot as plt\n",
    "import pandas as pd\n",
    "import numpy as np\n",
    "import requests\n",
    "import time\n",
    "\n",
    "# Import API key\n",
    "from config import api_keys\n",
    "\n",
    "# Incorporated citipy to determine city based on latitude and longitude\n",
    "from citipy import citipy\n",
    "\n",
    "# Output File (CSV)\n",
    "output_data_file = \"output_data/cities.csv\"\n",
    "#output_data_file = \"cities.csv\"\n",
    "\n",
    "# Range of latitudes and longitudes\n",
    "lat_range = (-90, 90)\n",
    "lng_range = (-180, 180)"
   ]
  },
  {
   "cell_type": "code",
   "execution_count": 9,
   "metadata": {},
   "outputs": [
    {
     "name": "stdout",
     "output_type": "stream",
     "text": [
      "The country information received is: ['GB', 'FR', 'US', 'SE', 'AU', 'CN']\n",
      "The latitude information received is: [51.51, 48.86, 36.17, 59.33, -33.85, 22.28]\n",
      "The longitude information received is: [-0.13, 2.35, -115.15, 18.07, 151.22, 114.16]\n",
      "The temperature information received is: [64.4, 59, 89.96, 53.6, 78.8, 91.4]\n",
      "The pressure information received is: [1018, 1024, 1008, 1013, 1017, 1009]\n",
      "The Humidity information received is: [77, 87, 26, 93, 64, 52]\n",
      "The Cloudiness information received is: [64, 0, 1, 0, 0, 20]\n",
      "The Wind Speed information received is: [16.11, 4.7, 3.65, 4.7, 24.16, 10.29]\n"
     ]
    }
   ],
   "source": [
    "#Test perform API calls for multiple city \n",
    "#Not sure how to get random city list\n",
    "# Construct a Query URL for the OpenWeatherMap for 1 city\n",
    "url = \"http://api.openweathermap.org/data/2.5/weather?\"\n",
    "#city = \"tasiilaq\"\n",
    "\"metric\"\n",
    "query_url = f\"{url}appid={api_keys}&units={units}&q=\"\n",
    "\n",
    "# set up lists to hold reponse info\n",
    "cities = [\"London\", \"Paris\", \"Las Vegas\", \"Stockholm\", \"Sydney\", \"Hong Kong\"]\n",
    "cntry = []\n",
    "lat = []\n",
    "lon = []\n",
    "tempmx = []\n",
    "pres = []\n",
    "humd = []\n",
    "cloud = []\n",
    "wspd = []\n",
    "\n",
    "# Loop through the list of cities and perform a request for data on each\n",
    "for city in cities:\n",
    "    response = requests.get(query_url + city).json()\n",
    "    cntry.append(response['sys']['country'])\n",
    "    lat.append(response['coord']['lat'])\n",
    "    lon.append(response['coord']['lon'])\n",
    "    tempmx.append(response['main']['temp_max'])\n",
    "    pres.append(response['main']['pressure'])\n",
    "    humd.append(response['main']['humidity'])\n",
    "    cloud.append(response['clouds']['all'])\n",
    "    wspd.append(response['wind']['speed'])\n",
    "\n",
    "print(f\"The country information received is: {cntry}\")\n",
    "print(f\"The latitude information received is: {lat}\")\n",
    "print(f\"The longitude information received is: {lon}\")\n",
    "print(f\"The temperature information received is: {tempmx}\")\n",
    "print(f\"The pressure information received is: {pres}\")\n",
    "print(f\"The Humidity information received is: {humd}\")\n",
    "print(f\"The Cloudiness information received is: {cloud}\")\n",
    "print(f\"The Wind Speed information received is: {wspd}\")\n",
    "\n"
   ]
  },
  {
   "cell_type": "code",
   "execution_count": 11,
   "metadata": {},
   "outputs": [
    {
     "data": {
      "text/html": [
       "<div>\n",
       "<style scoped>\n",
       "    .dataframe tbody tr th:only-of-type {\n",
       "        vertical-align: middle;\n",
       "    }\n",
       "\n",
       "    .dataframe tbody tr th {\n",
       "        vertical-align: top;\n",
       "    }\n",
       "\n",
       "    .dataframe thead th {\n",
       "        text-align: right;\n",
       "    }\n",
       "</style>\n",
       "<table border=\"1\" class=\"dataframe\">\n",
       "  <thead>\n",
       "    <tr style=\"text-align: right;\">\n",
       "      <th></th>\n",
       "      <th>City</th>\n",
       "      <th>Cloudiness</th>\n",
       "      <th>Country</th>\n",
       "      <th>Lat</th>\n",
       "      <th>Lng</th>\n",
       "      <th>Humidity</th>\n",
       "      <th>Max Temp</th>\n",
       "      <th>Wins Speed</th>\n",
       "    </tr>\n",
       "  </thead>\n",
       "  <tbody>\n",
       "    <tr>\n",
       "      <th>0</th>\n",
       "      <td>London</td>\n",
       "      <td>64</td>\n",
       "      <td>GB</td>\n",
       "      <td>51.51</td>\n",
       "      <td>-0.13</td>\n",
       "      <td>77</td>\n",
       "      <td>64.40</td>\n",
       "      <td>16.11</td>\n",
       "    </tr>\n",
       "    <tr>\n",
       "      <th>1</th>\n",
       "      <td>Paris</td>\n",
       "      <td>0</td>\n",
       "      <td>FR</td>\n",
       "      <td>48.86</td>\n",
       "      <td>2.35</td>\n",
       "      <td>87</td>\n",
       "      <td>59.00</td>\n",
       "      <td>4.70</td>\n",
       "    </tr>\n",
       "    <tr>\n",
       "      <th>2</th>\n",
       "      <td>Las Vegas</td>\n",
       "      <td>1</td>\n",
       "      <td>US</td>\n",
       "      <td>36.17</td>\n",
       "      <td>-115.15</td>\n",
       "      <td>26</td>\n",
       "      <td>89.96</td>\n",
       "      <td>3.65</td>\n",
       "    </tr>\n",
       "    <tr>\n",
       "      <th>3</th>\n",
       "      <td>Stockholm</td>\n",
       "      <td>0</td>\n",
       "      <td>SE</td>\n",
       "      <td>59.33</td>\n",
       "      <td>18.07</td>\n",
       "      <td>93</td>\n",
       "      <td>53.60</td>\n",
       "      <td>4.70</td>\n",
       "    </tr>\n",
       "    <tr>\n",
       "      <th>4</th>\n",
       "      <td>Sydney</td>\n",
       "      <td>0</td>\n",
       "      <td>AU</td>\n",
       "      <td>-33.85</td>\n",
       "      <td>151.22</td>\n",
       "      <td>64</td>\n",
       "      <td>78.80</td>\n",
       "      <td>24.16</td>\n",
       "    </tr>\n",
       "  </tbody>\n",
       "</table>\n",
       "</div>"
      ],
      "text/plain": [
       "        City  Cloudiness Country    Lat     Lng  Humidity  Max Temp  \\\n",
       "0     London          64      GB  51.51   -0.13        77     64.40   \n",
       "1      Paris           0      FR  48.86    2.35        87     59.00   \n",
       "2  Las Vegas           1      US  36.17 -115.15        26     89.96   \n",
       "3  Stockholm           0      SE  59.33   18.07        93     53.60   \n",
       "4     Sydney           0      AU -33.85  151.22        64     78.80   \n",
       "\n",
       "   Wins Speed  \n",
       "0       16.11  \n",
       "1        4.70  \n",
       "2        3.65  \n",
       "3        4.70  \n",
       "4       24.16  "
      ]
     },
     "execution_count": 11,
     "metadata": {},
     "output_type": "execute_result"
    }
   ],
   "source": [
    "# create a data frame from cities, lat, and temp\n",
    "weather_dict = {\n",
    "    \"City\": cities,\n",
    "    \"Cloudiness\": cloud,\n",
    "    \"Country\": cntry,\n",
    "    \"Lat\": lat,\n",
    "    \"Lng\": lon,\n",
    "    \"Humidity\": humd,\n",
    "    \"Max Temp\": tempmx,\n",
    "    \"Wins Speed\": wspd,\n",
    "}\n",
    "\n",
    "weather_data = pd.DataFrame(weather_dict)\n",
    "weather_data.head()"
   ]
  },
  {
   "cell_type": "code",
   "execution_count": 14,
   "metadata": {},
   "outputs": [],
   "source": [
    "# Output to csv\n",
    "weather_data.to_csv(output_data_file)"
   ]
  },
  {
   "cell_type": "code",
   "execution_count": 19,
   "metadata": {},
   "outputs": [
    {
     "data": {
      "image/png": "[encoded data removed]",
      "text/plain": [
       "<Figure size 432x288 with 1 Axes>"
      ]
     },
     "metadata": {},
     "output_type": "display_data"
    }
   ],
   "source": [
    "# Build a scatter plot temperature (F) vs. Latitude\n",
    "plt.scatter(lat, tempmx, marker=\"o\")\n",
    "\n",
    "# Incorporate the other graph properties\n",
    "plt.title(\"Latitude vs Temperature\")\n",
    "plt.ylabel(\"Temperature (F)\")\n",
    "plt.xlabel(\"Latitude\")\n",
    "plt.grid(True)\n",
    "\n",
    "# Save the figure\n",
    "plt.savefig(\"LatvsTemp.png\")\n",
    "\n",
    "# Show plot\n",
    "plt.show()"
   ]
  },
  {
   "cell_type": "code",
   "execution_count": 16,
   "metadata": {},
   "outputs": [
    {
     "data": {
      "image/png": "[encoded data removed]",
      "text/plain": [
       "<Figure size 432x288 with 1 Axes>"
      ]
     },
     "metadata": {},
     "output_type": "display_data"
    }
   ],
   "source": [
    "# Build a scatter plot Humidity vs. Latitude\n",
    "plt.scatter(lat, humd, marker=\"o\")\n",
    "\n",
    "# Incorporate the other graph properties\n",
    "plt.title(\"Latitude vs Humidity\")\n",
    "plt.ylabel(\"Humidity\")\n",
    "plt.xlabel(\"Latitude\")\n",
    "plt.grid(True)\n",
    "\n",
    "# Save the figure\n",
    "plt.savefig(\"LatvsHumd.png\")\n",
    "\n",
    "# Show plot\n",
    "plt.show()"
   ]
  },
  {
   "cell_type": "code",
   "execution_count": 17,
   "metadata": {},
   "outputs": [
    {
     "data": {
      "image/png": "[encoded data removed]",
      "text/plain": [
       "<Figure size 432x288 with 1 Axes>"
      ]
     },
     "metadata": {},
     "output_type": "display_data"
    }
   ],
   "source": [
    "# Build a scatter plot Cloudiness vs. Latitude\n",
    "plt.scatter(lat, cloud, marker=\"o\")\n",
    "\n",
    "# Incorporate the other graph properties\n",
    "plt.title(\"Latitude vs Cloudiness\")\n",
    "plt.ylabel(\"Cloudiness\")\n",
    "plt.xlabel(\"Latitude\")\n",
    "plt.grid(True)\n",
    "\n",
    "# Save the figure\n",
    "plt.savefig(\"LatvsCloud.png\")\n",
    "\n",
    "# Show plot\n",
    "plt.show()"
   ]
  },
  {
   "cell_type": "code",
   "execution_count": 18,
   "metadata": {},
   "outputs": [
    {
     "data": {
      "image/png": "[encoded data removed]",
      "text/plain": [
       "<Figure size 432x288 with 1 Axes>"
      ]
     },
     "metadata": {},
     "output_type": "display_data"
    }
   ],
   "source": [
    "# Build a scatter plot Cloudiness vs. Latitude\n",
    "plt.scatter(lat, wspd, marker=\"o\")\n",
    "\n",
    "# Incorporate the other graph properties\n",
    "plt.title(\"Latitude vs Wind Speed\")\n",
    "plt.ylabel(\"WindSpeed\")\n",
    "plt.xlabel(\"Latitude\")\n",
    "plt.grid(True)\n",
    "\n",
    "# Save the figure\n",
    "plt.savefig(\"LatvsWindSpeed.png\")\n",
    "\n",
    "# Show plot\n",
    "plt.show()"
   ]
  }
 ],
 "metadata": {
  "anaconda-cloud": {},
  "kernelspec": {
   "display_name": "Python [conda env:PythonData]",
   "language": "python",
   "name": "conda-env-PythonData-py"
  },
  "language_info": {
   "codemirror_mode": {
    "name": "ipython",
    "version": 3
   },
   "file_extension": ".py",
   "mimetype": "text/x-python",
   "name": "python",
   "nbconvert_exporter": "python",
   "pygments_lexer": "ipython3",
   "version": "3.6.5"
  }
 },
 "nbformat": 4,
 "nbformat_minor": 2
}
