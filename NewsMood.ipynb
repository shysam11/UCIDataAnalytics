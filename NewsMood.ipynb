{
 "cells": [
  {
   "cell_type": "code",
   "execution_count": 1,
   "metadata": {},
   "outputs": [],
   "source": [
    "# Dependencies\n",
    "import tweepy\n",
    "import json\n",
    "import numpy as np\n",
    "import pandas as pd\n",
    "from datetime import datetime\n",
    "import matplotlib.pyplot as plt\n",
    "from matplotlib import style\n",
    "style.use('ggplot')\n",
    "\n",
    "# Import and Initialize Sentiment Analyzer\n",
    "from vaderSentiment.vaderSentiment import SentimentIntensityAnalyzer\n",
    "analyzer = SentimentIntensityAnalyzer()\n",
    "\n",
    "# Twitter API Keys\n",
    "#removed the key after running code and before submitting in BCS/GitHub\n",
    "from config import (consumer_key, \n",
    "                    consumer_secret, \n",
    "                    access_token, \n",
    "                    access_token_secret)\n",
    "\n",
    "# Setup Tweepy API Authentication\n",
    "auth = tweepy.OAuthHandler(consumer_key, consumer_secret)\n",
    "auth.set_access_token(access_token, access_token_secret)\n",
    "api = tweepy.API(auth, parser=tweepy.parsers.JSONParser())"
   ]
  },
  {
   "cell_type": "code",
   "execution_count": 21,
   "metadata": {},
   "outputs": [],
   "source": [
    "#Target BBC NewsOutlets\n",
    "target_user1 = \"@BBC\"\n",
    "#target_user = [\"@BBC\", \"@CBS\", \"@CNN\", \"@Fox\", \"@NYT \"]\n",
    "\n",
    "# Counter\n",
    "BBCcnt = 1\n",
    "\n",
    "# Variables for holding sentiments\n",
    "sentiments = []\n",
    "sentiments_BBC = []\n",
    "\n",
    "\n",
    "# Variable for max_id for BBC\n",
    "oldest_tweet_BBC = None\n",
    "\n",
    "# Loop through 5 pages of tweets (total 100 tweets)\n",
    "for x in range(5):\n",
    "\n",
    "    # Get all tweets from home feed\n",
    "    public_tweets_BBC = api.user_timeline(target_user1, max_id = oldest_tweet_BBC)\n",
    "\n",
    "    # Loop through all tweets \n",
    "    for BBCtweet in public_tweets_BBC:\n",
    "\n",
    "        # Print Tweets\n",
    "        # print(\"Tweet {counter}: {tweet[\"text\"]})\n",
    "        \n",
    "        # Run Vader Analysis on each tweet\n",
    "        BBCresults = analyzer.polarity_scores(BBCtweet[\"text\"])\n",
    "        compound = BBCresults[\"compound\"]\n",
    "        pos = BBCresults[\"pos\"]\n",
    "        neu = BBCresults[\"neu\"]\n",
    "        neg = BBCresults[\"neg\"]\n",
    "        \n",
    "        \n",
    "        # Get Tweet ID, subtract 1, and assign to oldest_tweet\n",
    "        oldest_tweet_BBC = BBCtweet['id'] - 1\n",
    "        \n",
    "        # Add sentiments for each tweet into a list\n",
    "        sentiments_BBC.append({\"User\": target_user1,\n",
    "                           \"Date\": BBCtweet[\"created_at\"], \n",
    "                           \"Compound\": compound,\n",
    "                           \"Positive\": pos,\n",
    "                           \"Negative\": neu,\n",
    "                           \"Neutral\": neg,\n",
    "                           \"Tweets Ago\": BBCcnt})\n",
    "        \n",
    "        # Add to counter \n",
    "        BBCcnt += 1\n",
    "        #Turn the index to @BBC"
   ]
  },
  {
   "cell_type": "code",
   "execution_count": 22,
   "metadata": {},
   "outputs": [
    {
     "name": "stdout",
     "output_type": "stream",
     "text": [
      "101\n"
     ]
    }
   ],
   "source": [
    "print(BBCcnt)"
   ]
  },
  {
   "cell_type": "code",
   "execution_count": 26,
   "metadata": {},
   "outputs": [],
   "source": [
    "#Target CBS NewsOutlets\n",
    "target_user2 = \"@CBS\"\n",
    "#target_user = [\"@BBC\", \"@CBS\", \"@CNN\", \"@Fox\", \"@NYT \"]\n",
    "\n",
    "# Counter\n",
    "\n",
    "CBScnt = 1\n",
    "\n",
    "\n",
    "# Variables for holding sentiments\n",
    "\n",
    "sentiments_CBS = []\n",
    "\n",
    "\n",
    "# Variable for max_id for CBS\n",
    "oldest_tweet_CBS = None\n",
    "\n",
    "# Loop through 5 pages of tweets (total 100 tweets)\n",
    "for x in range(5):\n",
    "\n",
    "    # Get all tweets from home feed\n",
    "    public_tweets_CBS = api.user_timeline(target_user2, max_id = oldest_tweet_CBS)\n",
    "\n",
    "    # Loop through all tweets \n",
    "    for CBStweet in public_tweets_CBS:\n",
    "\n",
    "        # Print Tweets\n",
    "        # print(\"Tweet {counter}: {tweet[\"text\"]})\n",
    "        \n",
    "        # Run Vader Analysis on each tweet\n",
    "        CBSresults = analyzer.polarity_scores(CBStweet[\"text\"])\n",
    "        compound = CBSresults[\"compound\"]\n",
    "        pos = CBSresults[\"pos\"]\n",
    "        neu = CBSresults[\"neu\"]\n",
    "        neg = CBSresults[\"neg\"]\n",
    "        \n",
    "        # Get Tweet ID, subtract 1, and assign to oldest_tweet\n",
    "        oldest_tweet_CBS = CBStweet['id'] - 1\n",
    "        \n",
    "        # Add sentiments for each tweet into a list\n",
    "        sentiments_CBS.append({\"User\": target_user2,\n",
    "                           \"Date\": CBStweet[\"created_at\"], \n",
    "                           \"Compound\": compound,\n",
    "                           \"Positive\": pos,\n",
    "                           \"Negative\": neu,\n",
    "                           \"Neutral\": neg,\n",
    "                           \"Tweets Ago\": CBScnt})\n",
    "        \n",
    "        # Add to counter \n",
    "        CBScnt += 1\n",
    "        #Turn the index to @CBS"
   ]
  },
  {
   "cell_type": "code",
   "execution_count": 27,
   "metadata": {},
   "outputs": [
    {
     "name": "stdout",
     "output_type": "stream",
     "text": [
      "101\n"
     ]
    }
   ],
   "source": [
    "print(CBScnt)"
   ]
  },
  {
   "cell_type": "code",
   "execution_count": 28,
   "metadata": {},
   "outputs": [],
   "source": [
    "#Target CNN NewsOutlets\n",
    "target_user3 = \"@CNN\"\n",
    "#target_user = [\"@BBC\", \"@CBS\", \"@CNN\", \"@Fox\", \"@NYT \"]\n",
    "\n",
    "# Counter\n",
    "\n",
    "CNNcnt = 1\n",
    "\n",
    "\n",
    "# Variables for holding sentiments\n",
    "\n",
    "sentiments_CNN = []\n",
    "\n",
    "\n",
    "# Variable for max_id for CNN\n",
    "oldest_tweet_CNN = None\n",
    "\n",
    "# Loop through 5 pages of tweets (total 100 tweets)\n",
    "for x in range(5):\n",
    "\n",
    "    # Get all tweets from home feed\n",
    "    public_tweets_CNN = api.user_timeline(target_user3, max_id = oldest_tweet_CNN)\n",
    "\n",
    "    # Loop through all tweets \n",
    "    for CNNtweet in public_tweets_CNN:\n",
    "\n",
    "        # Print Tweets\n",
    "        # print(\"Tweet {counter}: {tweet[\"text\"]})\n",
    "        \n",
    "        # Run Vader Analysis on each tweet\n",
    "        CNNresults = analyzer.polarity_scores(CNNtweet[\"text\"])\n",
    "        compound = CNNresults[\"compound\"]\n",
    "        pos = CNNresults[\"pos\"]\n",
    "        neu = CNNresults[\"neu\"]\n",
    "        neg = CNNresults[\"neg\"]\n",
    "        \n",
    "        # Get Tweet ID, subtract 1, and assign to oldest_tweet\n",
    "        oldest_tweet_CNN = CNNtweet['id'] - 1\n",
    "        \n",
    "        # Add sentiments for each tweet into a list\n",
    "        sentiments_CNN.append({\"User\": target_user3,\n",
    "                           \"Date\": CNNtweet[\"created_at\"], \n",
    "                           \"Compound\": compound,\n",
    "                           \"Positive\": pos,\n",
    "                           \"Negative\": neu,\n",
    "                           \"Neutral\": neg,\n",
    "                           \"Tweets Ago\": CNNcnt})\n",
    "        \n",
    "        # Add to counter \n",
    "        CNNcnt += 1\n",
    "        #Turn the index to @CNN"
   ]
  },
  {
   "cell_type": "code",
   "execution_count": 29,
   "metadata": {},
   "outputs": [
    {
     "name": "stdout",
     "output_type": "stream",
     "text": [
      "101\n"
     ]
    }
   ],
   "source": [
    "print(CNNcnt)"
   ]
  },
  {
   "cell_type": "code",
   "execution_count": 30,
   "metadata": {},
   "outputs": [],
   "source": [
    "#Target Fox NewsOutlets\n",
    "target_user4 = \"@FoxNews\"\n",
    "#target_user = [\"@BBC\", \"@CBS\", \"@CNN\", \"@Fox\", \"@NYT \"]\n",
    "\n",
    "# Counter\n",
    "\n",
    "Foxcnt = 1\n",
    "\n",
    "\n",
    "# Variables for holding sentiments\n",
    "\n",
    "sentiments_Fox = []\n",
    "\n",
    "\n",
    "# Variable for max_id for Fox\n",
    "oldest_tweet_Fox = None\n",
    "\n",
    "# Loop through 5 pages of tweets (total 100 tweets)\n",
    "for x in range(5):\n",
    "\n",
    "    # Get all tweets from home feed\n",
    "    public_tweets_Fox = api.user_timeline(target_user4, max_id = oldest_tweet_Fox)\n",
    "\n",
    "    # Loop through all tweets \n",
    "    for Foxtweet in public_tweets_Fox:\n",
    "\n",
    "        # Print Tweets\n",
    "        # print(\"Tweet {counter}: {tweet[\"text\"]})\n",
    "        \n",
    "        # Run Vader Analysis on each tweet\n",
    "        Foxresults = analyzer.polarity_scores(Foxtweet[\"text\"])\n",
    "        compound = Foxresults[\"compound\"]\n",
    "        pos = Foxresults[\"pos\"]\n",
    "        neu = Foxresults[\"neu\"]\n",
    "        neg = Foxresults[\"neg\"]\n",
    "        \n",
    "        # Get Tweet ID, subtract 1, and assign to oldest_tweet\n",
    "        oldest_tweet_Fox = Foxtweet['id'] - 1\n",
    "        \n",
    "        # Add sentiments for each tweet into a list\n",
    "        sentiments_Fox.append({\"User\": target_user4,\n",
    "                           \"Date\": Foxtweet[\"created_at\"], \n",
    "                           \"Compound\": compound,\n",
    "                           \"Positive\": pos,\n",
    "                           \"Negative\": neu,\n",
    "                           \"Neutral\": neg,\n",
    "                           \"Tweets Ago\": Foxcnt})\n",
    "        \n",
    "        # Add to counter \n",
    "        Foxcnt += 1\n",
    "        #Turn the index to @Foxnews"
   ]
  },
  {
   "cell_type": "code",
   "execution_count": 31,
   "metadata": {},
   "outputs": [
    {
     "name": "stdout",
     "output_type": "stream",
     "text": [
      "101\n"
     ]
    }
   ],
   "source": [
    "print(Foxcnt)"
   ]
  },
  {
   "cell_type": "code",
   "execution_count": 32,
   "metadata": {},
   "outputs": [],
   "source": [
    "#Target NYT NewsOutlets\n",
    "target_user5 = \"@nytimes\"\n",
    "#target_user = [\"@BBC\", \"@CBS\", \"@CNN\", \"@Fox\", \"@NYT \"]\n",
    "\n",
    "# Counter\n",
    "\n",
    "NYTcnt = 1\n",
    "\n",
    "\n",
    "# Variables for holding sentiments\n",
    "\n",
    "sentiments_NYT = []\n",
    "\n",
    "\n",
    "# Variable for max_id for NYT\n",
    "oldest_tweet_NYT = None\n",
    "\n",
    "# Loop through 5 pages of tweets (total 100 tweets)\n",
    "for x in range(5):\n",
    "\n",
    "    # Get all tweets from home feed\n",
    "    public_tweets_NYT = api.user_timeline(target_user5, max_id = oldest_tweet_NYT)\n",
    "\n",
    "    # Loop through all tweets \n",
    "    for NYTtweet in public_tweets_NYT:\n",
    "\n",
    "        # Print Tweets\n",
    "        # print(\"Tweet {counter}: {tweet[\"text\"]})\n",
    "        \n",
    "        # Run Vader Analysis on each tweet\n",
    "        NYTresults = analyzer.polarity_scores(NYTtweet[\"text\"])\n",
    "        compound = NYTresults[\"compound\"]\n",
    "        pos = NYTresults[\"pos\"]\n",
    "        neu = NYTresults[\"neu\"]\n",
    "        neg = NYTresults[\"neg\"]\n",
    "        \n",
    "        # Get Tweet ID, subtract 1, and assign to oldest_tweet\n",
    "        oldest_tweet_NYT = NYTtweet['id'] - 1\n",
    "        \n",
    "        # Add sentiments for each tweet into a list\n",
    "        sentiments_NYT.append({\"User\": target_user5,\n",
    "                           \"Date\": NYTtweet[\"created_at\"], \n",
    "                           \"Compound\": compound,\n",
    "                           \"Positive\": pos,\n",
    "                           \"Negative\": neu,\n",
    "                           \"Neutral\": neg,\n",
    "                           \"Tweets Ago\": NYTcnt})\n",
    "        \n",
    "        # Add to counter \n",
    "        NYTcnt += 1\n",
    "        #Turn the index to @nytimes"
   ]
  },
  {
   "cell_type": "code",
   "execution_count": 33,
   "metadata": {},
   "outputs": [
    {
     "name": "stdout",
     "output_type": "stream",
     "text": [
      "101\n"
     ]
    }
   ],
   "source": [
    "print(NYTcnt)"
   ]
  },
  {
   "cell_type": "code",
   "execution_count": 34,
   "metadata": {},
   "outputs": [
    {
     "name": "stdout",
     "output_type": "stream",
     "text": [
      "505\n"
     ]
    }
   ],
   "source": [
    "Tot_tweet = BBCcnt + CBScnt + CNNcnt + Foxcnt + NYTcnt\n",
    "print(Tot_tweet)"
   ]
  },
  {
   "cell_type": "code",
   "execution_count": 35,
   "metadata": {},
   "outputs": [
    {
     "data": {
      "text/plain": [
       "Series([], dtype: int64)"
      ]
     },
     "execution_count": 35,
     "metadata": {},
     "output_type": "execute_result"
    }
   ],
   "source": [
    "# Convert all 100 each of the 5 New Outlet sentiments to DataFrame\n",
    "sentiments_pd = pd.DataFrame.from_dict(sentiments)\n",
    "sentiments_pd.count()"
   ]
  },
  {
   "cell_type": "code",
   "execution_count": 36,
   "metadata": {},
   "outputs": [
    {
     "data": {
      "text/plain": [
       "Compound      100\n",
       "Date          100\n",
       "Negative      100\n",
       "Neutral       100\n",
       "Positive      100\n",
       "Tweets Ago    100\n",
       "User          100\n",
       "dtype: int64"
      ]
     },
     "execution_count": 36,
     "metadata": {},
     "output_type": "execute_result"
    }
   ],
   "source": [
    "# Convert 100 each of BBC sentiments to DataFrame\n",
    "sentimentsBBC_pd = pd.DataFrame.from_dict(sentiments_BBC)\n",
    "sentimentsBBC_pd.count()"
   ]
  },
  {
   "cell_type": "code",
   "execution_count": 37,
   "metadata": {},
   "outputs": [
    {
     "data": {
      "text/plain": [
       "Compound      100\n",
       "Date          100\n",
       "Negative      100\n",
       "Neutral       100\n",
       "Positive      100\n",
       "Tweets Ago    100\n",
       "User          100\n",
       "dtype: int64"
      ]
     },
     "execution_count": 37,
     "metadata": {},
     "output_type": "execute_result"
    }
   ],
   "source": [
    "# Convert 100 each of CBS sentiments to DataFrame\n",
    "sentimentsCBS_pd = pd.DataFrame.from_dict(sentiments_CBS)\n",
    "sentimentsCBS_pd.count()"
   ]
  },
  {
   "cell_type": "code",
   "execution_count": 38,
   "metadata": {},
   "outputs": [
    {
     "data": {
      "text/plain": [
       "Compound      100\n",
       "Date          100\n",
       "Negative      100\n",
       "Neutral       100\n",
       "Positive      100\n",
       "Tweets Ago    100\n",
       "User          100\n",
       "dtype: int64"
      ]
     },
     "execution_count": 38,
     "metadata": {},
     "output_type": "execute_result"
    }
   ],
   "source": [
    "# Convert 100 each of CNN sentiments to DataFrame\n",
    "sentimentsCNN_pd = pd.DataFrame.from_dict(sentiments_CNN)\n",
    "sentimentsCNN_pd.count()"
   ]
  },
  {
   "cell_type": "code",
   "execution_count": 39,
   "metadata": {},
   "outputs": [
    {
     "data": {
      "text/plain": [
       "Compound      100\n",
       "Date          100\n",
       "Negative      100\n",
       "Neutral       100\n",
       "Positive      100\n",
       "Tweets Ago    100\n",
       "User          100\n",
       "dtype: int64"
      ]
     },
     "execution_count": 39,
     "metadata": {},
     "output_type": "execute_result"
    }
   ],
   "source": [
    "# Convert 100 each of Fox sentiments to DataFrame\n",
    "sentimentsFox_pd = pd.DataFrame.from_dict(sentiments_Fox)\n",
    "sentimentsFox_pd.count()"
   ]
  },
  {
   "cell_type": "code",
   "execution_count": 40,
   "metadata": {},
   "outputs": [
    {
     "data": {
      "text/plain": [
       "Compound      100\n",
       "Date          100\n",
       "Negative      100\n",
       "Neutral       100\n",
       "Positive      100\n",
       "Tweets Ago    100\n",
       "User          100\n",
       "dtype: int64"
      ]
     },
     "execution_count": 40,
     "metadata": {},
     "output_type": "execute_result"
    }
   ],
   "source": [
    "# Convert 100 each of NYT sentiments to DataFrame\n",
    "sentimentsNYT_pd = pd.DataFrame.from_dict(sentiments_NYT)\n",
    "sentimentsNYT_pd.count()"
   ]
  },
  {
   "cell_type": "code",
   "execution_count": 45,
   "metadata": {},
   "outputs": [
    {
     "data": {
      "image/png": "[encoded data removed]",
      "text/plain": [
       "<Figure size 432x288 with 1 Axes>"
      ]
     },
     "metadata": {},
     "output_type": "display_data"
    }
   ],
   "source": [
    "# Create BBC scatter plot\n",
    "x_BBC = sentimentsBBC_pd[\"Tweets Ago\"]\n",
    "y_BBC = sentimentsBBC_pd[\"Compound\"]\n",
    "#plt.plot(x_vals,\n",
    "#         y_vals, marker=\"o\", linewidth=0.5,\n",
    "#         alpha=0.8)\n",
    "plt.scatter(x_BBC, y_BBC, marker=\"o\", c=\"skyblue\", label=\"@BBC\")\n",
    "\n",
    "# Create CBS scatter plot\n",
    "x_CBS = sentimentsCBS_pd[\"Tweets Ago\"]\n",
    "y_CBS = sentimentsCBS_pd[\"Compound\"]\n",
    "#plt.plot(x_vals,\n",
    "#         y_vals, marker=\"o\", linewidth=0.5,\n",
    "#         alpha=0.8)\n",
    "plt.scatter(x_CBS, y_CBS, marker=\"o\", c=\"green\", label=\"@CBS\")\n",
    "\n",
    "# Create CNN scatter plot\n",
    "x_CNN = sentimentsCNN_pd[\"Tweets Ago\"]\n",
    "y_CNN = sentimentsCNN_pd[\"Compound\"]\n",
    "#plt.plot(x_vals,\n",
    "#         y_vals, marker=\"o\", linewidth=0.5,\n",
    "#         alpha=0.8)\n",
    "plt.scatter(x_CNN, y_CNN, marker=\"o\", c=\"red\", label=\"@CNN\")\n",
    "\n",
    "\n",
    "# Create Fox scatter plot\n",
    "x_Fox = sentimentsFox_pd[\"Tweets Ago\"]\n",
    "y_Fox = sentimentsFox_pd[\"Compound\"]\n",
    "#plt.plot(x_vals,\n",
    "#         y_vals, marker=\"o\", linewidth=0.5,\n",
    "#         alpha=0.8)\n",
    "plt.scatter(x_Fox, y_Fox, marker=\"o\", c=\"blue\", label=\"@Fox\")\n",
    "\n",
    "# Create NYT scatter plot\n",
    "x_NYT = sentimentsNYT_pd[\"Tweets Ago\"]\n",
    "y_NYT = sentimentsNYT_pd[\"Compound\"]\n",
    "#plt.plot(x_vals,\n",
    "#         y_vals, marker=\"o\", linewidth=0.5,\n",
    "#         alpha=0.8)\n",
    "plt.scatter(x_NYT, y_NYT, marker=\"o\", c=\"yellow\", label=\"@NYT\")\n",
    "\n",
    "\n",
    "# Incorporate the other graph properties\n",
    "now = datetime.now()\n",
    "now = now.strftime(\"%m/%d/%Y\")\n",
    "plt.title(f\"Sentiment Analysis of Media Tweets ({now})\")\n",
    "plt.xlim([x_vals.max(),x_vals.min()]) #Bonus\n",
    "plt.ylabel(\"Tweet Polarity\")\n",
    "plt.xlabel(\"Tweets Ago\")\n",
    "# Save Figure\n",
    "plt.savefig(\"NewsMood_Scatterplot.png\")\n",
    "plt.show()"
   ]
  },
  {
   "cell_type": "code",
   "execution_count": 52,
   "metadata": {},
   "outputs": [
    {
     "data": {
      "text/plain": [
       "@CBS    100\n",
       "Name: User, dtype: int64"
      ]
     },
     "execution_count": 52,
     "metadata": {},
     "output_type": "execute_result"
    }
   ],
   "source": [
    "# Convert Tot_tweet object into a series\n",
    "\n",
    "BBCbar_pd = sentimentsBBC_pd['User'].value_counts()\n",
    "CBSbar_pd = sentimentsCBS_pd['User'].value_counts()\n",
    "\n",
    "# Preview the results\n",
    "#Tot_tweet_pd\n",
    "#print(sentiments_pd['User'].value_counts())\n",
    "BBCbar_pd\n",
    "CBSbar_pd"
   ]
  },
  {
   "cell_type": "code",
   "execution_count": 54,
   "metadata": {},
   "outputs": [
    {
     "data": {
      "image/png": "[encoded data removed]",
      "text/plain": [
       "<Figure size 432x288 with 1 Axes>"
      ]
     },
     "metadata": {},
     "output_type": "display_data"
    }
   ],
   "source": [
    "# Create a bar plot  \n",
    "len(BBCbar_pd.index)\n",
    "plt.bar(range(len(BBCbar_pd.index)), BBCbar_pd.values, color=\"skyblue\")\n",
    "\n",
    "plt.bar(range(len(CBSbar_pd.index)), CBSbar_pd.values, color=\"green\")\n",
    "plt.xticks(range(len(BBCbar_pd.index)), CBSbar_pd.index)\n",
    "\n",
    "plt.ylabel(\"Tweet Polarity\")\n",
    "plt.xlabel(\"News Outlet\")\n",
    "now = datetime.now()\n",
    "now = now.strftime(\"%m/%d/%Y\")\n",
    "plt.title(f\"Overall Media Sentiment based on Twitter ({now})\")\n",
    "# Save Figure\n",
    "plt.savefig(\"NewsMood_Barplot.png\")\n",
    "plt.show()"
   ]
  },
  {
   "cell_type": "code",
   "execution_count": 55,
   "metadata": {},
   "outputs": [],
   "source": [
    "# Output File (CSV)\n",
    "output_data_file = \"NewsMood_Output.csv\"\n",
    "\n",
    "# Export the Data into a csv\n",
    "sentiments_pd.to_csv(output_data_file\n",
    "                     #, index_label=\"User\"\n",
    "                    )"
   ]
  },
  {
   "cell_type": "code",
   "execution_count": null,
   "metadata": {},
   "outputs": [],
   "source": []
  }
 ],
 "metadata": {
  "kernelspec": {
   "display_name": "Python [conda env:PythonData]",
   "language": "python",
   "name": "conda-env-PythonData-py"
  },
  "language_info": {
   "codemirror_mode": {
    "name": "ipython",
    "version": 3
   },
   "file_extension": ".py",
   "mimetype": "text/x-python",
   "name": "python",
   "nbconvert_exporter": "python",
   "pygments_lexer": "ipython3",
   "version": "3.6.5"
  }
 },
 "nbformat": 4,
 "nbformat_minor": 2
}
